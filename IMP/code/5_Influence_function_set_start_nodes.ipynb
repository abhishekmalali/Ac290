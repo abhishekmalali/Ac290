{
 "cells": [
  {
   "cell_type": "markdown",
   "metadata": {},
   "source": [
    "# Influence function - set start nodes"
   ]
  },
  {
   "cell_type": "code",
   "execution_count": 5,
   "metadata": {
    "collapsed": true
   },
   "outputs": [],
   "source": [
    "# Import libraries\n",
    "%matplotlib inline\n",
    "import matplotlib.pyplot as plt\n",
    "import time\n",
    "import numpy as np\n",
    "from numpy import random\n",
    "import math\n",
    "import scipy\n",
    "from scipy import stats\n",
    "from random import choice\n",
    "import networkx as nx\n",
    "import json\n",
    "from networkx.readwrite import json_graph\n",
    "import line_profiler\n",
    "import IPython\n",
    "ip = IPython.get_ipython()\n",
    "ip.define_magic('lprun', line_profiler.magic_lprun)"
   ]
  },
  {
   "cell_type": "code",
   "execution_count": 6,
   "metadata": {
    "collapsed": true
   },
   "outputs": [],
   "source": [
    "# Load network graph\n",
    "with open(\"graph/nc_mini.json\", \"r\") as graph_data:\n",
    "    graph_data = json.load(graph_data)\n",
    "    NC_digraph = json_graph.node_link_graph(graph_data)"
   ]
  },
  {
   "cell_type": "code",
   "execution_count": 7,
   "metadata": {
    "collapsed": true
   },
   "outputs": [],
   "source": [
    "# Function to print graph\n",
    "def print_graph(Graph, S1=None):\n",
    "    plt.figure(figsize=(16,10))\n",
    "    color_map = {1: 'b', 0: 'r'}\n",
    "    pos = nx.random_layout(Graph)\n",
    "    \n",
    "    if S1:\n",
    "        nx.draw_networkx(Graph, pos, with_labels=False, node_size=100, node_shape='.',\n",
    "                linewidth=None, width=0.2, edge_color='y', \n",
    "                node_color=[color_map[Graph.node[node]['action']] for node in Graph],\n",
    "                edgelist=reduce(lambda x,y: x+y,[Graph.edges(node) for node in S1]))\n",
    "        nx.draw_networkx_nodes(Graph, pos, nodelist=S1, node_color=\"b\", node_size=150, \n",
    "                              node_shape=\"*\", label=\"Initial Set\")\n",
    "        plt.legend()\n",
    "    else:\n",
    "        nx.draw_networkx(Graph, pos, with_labels=False, node_size=100, node_shape='.',\n",
    "                linewidth=None, width=0.2, edge_color='y', \n",
    "                 node_color=[color_map[Graph.node[node]['action']] for node in Graph])\n",
    "        \n",
    "    plt.xlim(-0.05,1.05)\n",
    "    plt.ylim(-0.05,1.05)\n",
    "    plt.xticks([])\n",
    "    plt.yticks([])\n",
    "    plt.show()"
   ]
  },
  {
   "cell_type": "markdown",
   "metadata": {},
   "source": [
    "Modified code that takes a list of starting nodes as input."
   ]
  },
  {
   "cell_type": "code",
   "execution_count": 8,
   "metadata": {
    "collapsed": true
   },
   "outputs": [],
   "source": [
    "def activateNodesOptSN(detStartNodes):\n",
    "\n",
    "    nx.set_node_attributes(NC_digraph, 'activated', False)\n",
    "    nx.set_node_attributes(NC_digraph, 'explored', False)\n",
    "    \n",
    "    activated = 0\n",
    "    nodes = []\n",
    "    \n",
    "    for n in detStartNodes:\n",
    "        nodes.append(n)\n",
    "        NC_digraph.node[n]['activated'] = True\n",
    "        activated = activated + 1\n",
    "    \n",
    "    start = nodes[0]\n",
    "\n",
    "    while len(nodes)>0:\n",
    "\n",
    "        startNode = nodes[0]\n",
    "\n",
    "        if NC_digraph.node[startNode]['explored']==False:\n",
    "\n",
    "            NC_digraph.node[startNode]['explored'] = True\n",
    "\n",
    "            successors = []\n",
    "\n",
    "            for succNode in NC_digraph.succ[startNode]:\n",
    "\n",
    "                if NC_digraph.node[succNode]['activated']==False:\n",
    "\n",
    "                    alpha = NC_digraph[startNode][succNode]['weight']\n",
    "                    beta = NC_digraph.node[succNode]['review_count']\n",
    "\n",
    "                    randUnif = random.uniform(0,1)\n",
    "                    randBeta = np.sqrt(random.beta(alpha, beta))\n",
    "\n",
    "                    if randUnif < randBeta:\n",
    "                        NC_digraph.node[succNode]['activated'] = True\n",
    "                        successors.append(succNode)\n",
    "                        activated = activated + 1\n",
    "\n",
    "        nodes = nodes[1:]\n",
    "        nodes = nodes + successors\n",
    "\n",
    "    return activated\n",
    "\n",
    "def activateNodesLoopSN(N, startNodes):\n",
    "    \n",
    "    detStartNodes = startNodes\n",
    "    random.seed()\n",
    "    \n",
    "    result = []\n",
    "\n",
    "    for n in xrange(N):\n",
    "        result.append(float(activateNodesOptSN(detStartNodes)))\n",
    "        \n",
    "    return result"
   ]
  },
  {
   "cell_type": "markdown",
   "metadata": {},
   "source": [
    "Run Influence function f(S) with |S| = 2, N = 10,000. Your starting nodes should be: 'E6Eh1bz6fpo6EOPtctA-sg', 'VFOwxpOWH9RZ3iMelkRd7A'\n",
    "\n",
    "Your Mean should approx. 13.5 and Standard Deviation approx. 16."
   ]
  },
  {
   "cell_type": "code",
   "execution_count": 9,
   "metadata": {
    "collapsed": false
   },
   "outputs": [
    {
     "name": "stdout",
     "output_type": "stream",
     "text": [
      "13.427000 mean, 16.239787 standard deviation\n"
     ]
    }
   ],
   "source": [
    "startNodes = ['E6Eh1bz6fpo6EOPtctA-sg', 'VFOwxpOWH9RZ3iMelkRd7A']\n",
    "result = activateNodesLoopSN(10000, startNodes)\n",
    "print '%f mean, %f standard deviation' % (np.mean(result), np.std(result))"
   ]
  },
  {
   "cell_type": "markdown",
   "metadata": {},
   "source": [
    "Try to finish running your algorithm within 5 seconds."
   ]
  },
  {
   "cell_type": "code",
   "execution_count": 10,
   "metadata": {
    "collapsed": false
   },
   "outputs": [
    {
     "name": "stdout",
     "output_type": "stream",
     "text": [
      "CPU times: user 4 s, sys: 42.8 ms, total: 4.05 s\n",
      "Wall time: 4.07 s\n"
     ]
    }
   ],
   "source": [
    "%time result = activateNodesLoopSN(10000, startNodes)"
   ]
  }
 ],
 "metadata": {
  "kernelspec": {
   "display_name": "Python 2",
   "language": "python",
   "name": "python2"
  },
  "language_info": {
   "codemirror_mode": {
    "name": "ipython",
    "version": 2
   },
   "file_extension": ".py",
   "mimetype": "text/x-python",
   "name": "python",
   "nbconvert_exporter": "python",
   "pygments_lexer": "ipython2",
   "version": "2.7.10"
  }
 },
 "nbformat": 4,
 "nbformat_minor": 0
}
