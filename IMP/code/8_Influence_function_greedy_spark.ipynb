{
 "cells": [
  {
   "cell_type": "markdown",
   "metadata": {},
   "source": [
    "# Greedy algorithm (100 x 1,000)"
   ]
  },
  {
   "cell_type": "code",
   "execution_count": 1,
   "metadata": {
    "collapsed": true
   },
   "outputs": [],
   "source": [
    "# Import libraries\n",
    "%matplotlib inline\n",
    "import matplotlib.pyplot as plt\n",
    "import time\n",
    "import numpy as np\n",
    "from numpy import random\n",
    "import math\n",
    "import scipy\n",
    "from scipy import stats\n",
    "from random import choice\n",
    "import networkx as nx\n",
    "import json\n",
    "from networkx.readwrite import json_graph\n",
    "import line_profiler\n",
    "import IPython\n",
    "ip = IPython.get_ipython()\n",
    "ip.define_magic('lprun', line_profiler.magic_lprun)"
   ]
  },
  {
   "cell_type": "code",
   "execution_count": 2,
   "metadata": {
    "collapsed": true
   },
   "outputs": [],
   "source": [
    "# Load network graph\n",
    "with open(\"graph/nc_mini.json\", \"r\") as graph_data:\n",
    "    graph_data = json.load(graph_data)\n",
    "    NC_digraph = json_graph.node_link_graph(graph_data)"
   ]
  },
  {
   "cell_type": "code",
   "execution_count": 11,
   "metadata": {
    "collapsed": true
   },
   "outputs": [],
   "source": [
    "def activateNodesOptGreedy(detStartNodes):\n",
    "\n",
    "    nx.set_node_attributes(NC_digraph, 'activated', False)\n",
    "    nx.set_node_attributes(NC_digraph, 'explored', False)\n",
    "    \n",
    "    activated = 0\n",
    "    nodes = []\n",
    "    \n",
    "    for n in detStartNodes:\n",
    "        nodes.append(n)\n",
    "        NC_digraph.node[n]['activated'] = True\n",
    "        activated = activated + 1\n",
    "    \n",
    "    start = nodes[0]\n",
    "\n",
    "    while len(nodes)>0:\n",
    "\n",
    "        startNode = nodes[0]\n",
    "\n",
    "        if NC_digraph.node[startNode]['explored']==False:\n",
    "\n",
    "            NC_digraph.node[startNode]['explored'] = True\n",
    "\n",
    "            successors = []\n",
    "\n",
    "            for succNode in NC_digraph.succ[startNode]:\n",
    "\n",
    "                if NC_digraph.node[succNode]['activated']==False:\n",
    "\n",
    "                    alpha = NC_digraph[startNode][succNode]['weight']\n",
    "                    beta = NC_digraph.node[succNode]['review_count']\n",
    "\n",
    "                    randUnif = random.uniform(0,1)\n",
    "                    randBeta = np.sqrt(random.beta(alpha, beta))\n",
    "\n",
    "                    if randUnif < randBeta:\n",
    "                        NC_digraph.node[succNode]['activated'] = True\n",
    "                        successors.append(succNode)\n",
    "                        activated = activated + 1\n",
    "\n",
    "        nodes = nodes[1:]\n",
    "        nodes = nodes + successors\n",
    "\n",
    "    return activated\n",
    "\n",
    "def activateNodesLoopGreedy(N, startNodes):\n",
    "    \n",
    "    random.seed()\n",
    "    searchNodes = NC_digraph.nodes()\n",
    "    actNodeOpt = []\n",
    "    \n",
    "    for s in range(startNodes):\n",
    "        maxActNode = 0\n",
    "        maxActNodeStart = []\n",
    "\n",
    "        for n in searchNodes:\n",
    "            detStartNodes = actNodeOpt + [n]\n",
    "            result = []\n",
    "            for r in xrange(N):\n",
    "                result.append(float(activateNodesOptSN(detStartNodes)))\n",
    "            act = np.mean(result)\n",
    "            if act>maxActNode:\n",
    "                maxActNode = act\n",
    "                maxActNodeStart = n\n",
    "            \n",
    "        searchNodes.remove(maxActNodeStart)\n",
    "        actNodeOpt.append(maxActNodeStart)\n",
    "    \n",
    "    return actNodeOpt, maxActNode\n",
    "            "
   ]
  },
  {
   "cell_type": "code",
   "execution_count": 12,
   "metadata": {
    "collapsed": true
   },
   "outputs": [],
   "source": [
    "import findspark\n",
    "import os\n",
    "findspark.init()\n",
    "import pyspark\n",
    "sc = pyspark.SparkContext()"
   ]
  },
  {
   "cell_type": "markdown",
   "metadata": {},
   "source": [
    "Break into 25-run blocks:"
   ]
  },
  {
   "cell_type": "code",
   "execution_count": 16,
   "metadata": {
    "collapsed": false
   },
   "outputs": [],
   "source": [
    "start = 1\n",
    "noRuns = 25\n",
    "runs1 = sc.parallelize(range(start, start + noRuns))\n",
    "results1 = runs1.map(lambda x: (x, activateNodesLoopGreedy(1000, 3)))"
   ]
  },
  {
   "cell_type": "code",
   "execution_count": 17,
   "metadata": {
    "collapsed": true
   },
   "outputs": [],
   "source": [
    "results1_list = results1.collect()"
   ]
  },
  {
   "cell_type": "code",
   "execution_count": 18,
   "metadata": {
    "collapsed": false
   },
   "outputs": [],
   "source": [
    "start = 26\n",
    "noRuns = 25\n",
    "runs2 = sc.parallelize(range(start, start + noRuns))\n",
    "results2 = runs2.map(lambda x: (x, activateNodesLoopGreedy(1000, 3)))"
   ]
  },
  {
   "cell_type": "code",
   "execution_count": 19,
   "metadata": {
    "collapsed": true
   },
   "outputs": [],
   "source": [
    "results2_list = results2.collect()"
   ]
  },
  {
   "cell_type": "code",
   "execution_count": 20,
   "metadata": {
    "collapsed": true
   },
   "outputs": [],
   "source": [
    "start = 51\n",
    "noRuns = 25\n",
    "runs3 = sc.parallelize(range(start, start + noRuns))\n",
    "results3 = runs3.map(lambda x: (x, activateNodesLoopGreedy(1000, 3)))"
   ]
  },
  {
   "cell_type": "code",
   "execution_count": 21,
   "metadata": {
    "collapsed": true
   },
   "outputs": [],
   "source": [
    "results3_list = results3.collect()"
   ]
  },
  {
   "cell_type": "code",
   "execution_count": 50,
   "metadata": {
    "collapsed": true
   },
   "outputs": [],
   "source": [
    "start = 76\n",
    "noRuns = 25\n",
    "runs4 = sc.parallelize(range(start, start + noRuns))\n",
    "results4 = runs4.map(lambda x: (x, activateNodesLoopGreedy(1000, 3)))"
   ]
  },
  {
   "cell_type": "code",
   "execution_count": 51,
   "metadata": {
    "collapsed": false
   },
   "outputs": [],
   "source": [
    "results4_list = results4.collect()"
   ]
  },
  {
   "cell_type": "markdown",
   "metadata": {},
   "source": [
    "Aggregate all results:"
   ]
  },
  {
   "cell_type": "code",
   "execution_count": 52,
   "metadata": {
    "collapsed": true
   },
   "outputs": [],
   "source": [
    "results_agg = results1_list + results2_list + results3_list + results4_list"
   ]
  },
  {
   "cell_type": "markdown",
   "metadata": {},
   "source": [
    "Extract relevant results for scatter plot:"
   ]
  },
  {
   "cell_type": "code",
   "execution_count": 55,
   "metadata": {
    "collapsed": false
   },
   "outputs": [
    {
     "name": "stdout",
     "output_type": "stream",
     "text": [
      "45.771 47.171\n",
      "0.970320747917\n"
     ]
    }
   ],
   "source": [
    "results_plot = [r[1][1] for r in results_agg]\n",
    "axis_plot = [r[0] for r in results_agg]\n",
    "f_min = min(results_plot)\n",
    "f_max = max(results_plot)\n",
    "f_ratio = f_min/f_max\n",
    "print f_min, f_max\n",
    "print f_ratio"
   ]
  },
  {
   "cell_type": "code",
   "execution_count": 54,
   "metadata": {
    "collapsed": false
   },
   "outputs": [
    {
     "data": {
      "image/png": "[encoded data removed]",
      "text/plain": [
       "<matplotlib.figure.Figure at 0x108f96390>"
      ]
     },
     "metadata": {},
     "output_type": "display_data"
    }
   ],
   "source": [
    "plt.scatter(axis_plot, results_plot)\n",
    "plt.ylim(45,48)\n",
    "plt.xlim(0,len(results_plot))\n",
    "plt.plot([0, len(results_plot)], [f_min, f_min], color='r', ls=\"--\")\n",
    "plt.plot([0, len(results_plot)], [f_max, f_max], color='r', ls=\"--\")\n",
    "plt.xlabel('Run')\n",
    "plt.ylabel('Nodes activated')\n",
    "plt.title('Greedy algorithm')\n",
    "plt.show()"
   ]
  }
 ],
 "metadata": {
  "kernelspec": {
   "display_name": "Python 2",
   "language": "python",
   "name": "python2"
  },
  "language_info": {
   "codemirror_mode": {
    "name": "ipython",
    "version": 2
   },
   "file_extension": ".py",
   "mimetype": "text/x-python",
   "name": "python",
   "nbconvert_exporter": "python",
   "pygments_lexer": "ipython2",
   "version": "2.7.10"
  }
 },
 "nbformat": 4,
 "nbformat_minor": 0
}
