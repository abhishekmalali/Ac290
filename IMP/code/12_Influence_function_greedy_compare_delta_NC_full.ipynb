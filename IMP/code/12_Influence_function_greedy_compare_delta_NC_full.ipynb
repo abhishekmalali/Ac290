{
 "cells": [
  {
   "cell_type": "markdown",
   "metadata": {},
   "source": [
    "# Greedy algorithm (100 x 1,000)"
   ]
  },
  {
   "cell_type": "code",
   "execution_count": 1,
   "metadata": {
    "collapsed": true
   },
   "outputs": [],
   "source": [
    "# Import libraries\n",
    "%matplotlib inline\n",
    "import matplotlib.pyplot as plt\n",
    "import matplotlib.patches as mpatches\n",
    "import time\n",
    "import numpy as np\n",
    "from numpy import random\n",
    "import math\n",
    "import scipy\n",
    "from scipy import stats\n",
    "from random import choice\n",
    "import networkx as nx\n",
    "import json\n",
    "from networkx.readwrite import json_graph\n",
    "import line_profiler\n",
    "import IPython\n",
    "ip = IPython.get_ipython()\n",
    "ip.define_magic('lprun', line_profiler.magic_lprun)\n",
    "import json"
   ]
  },
  {
   "cell_type": "code",
   "execution_count": 2,
   "metadata": {
    "collapsed": false
   },
   "outputs": [],
   "source": [
    "import findspark\n",
    "import os\n",
    "findspark.init()\n",
    "import pyspark\n",
    "sc = pyspark.SparkContext()"
   ]
  },
  {
   "cell_type": "code",
   "execution_count": 3,
   "metadata": {
    "collapsed": true
   },
   "outputs": [],
   "source": [
    "# Load network graph\n",
    "with open(\"graph/nc_full.json\", \"r\") as graph_data:\n",
    "    graph_data = json.load(graph_data)\n",
    "    NC_digraph = json_graph.node_link_graph(graph_data)"
   ]
  },
  {
   "cell_type": "code",
   "execution_count": 4,
   "metadata": {
    "collapsed": true
   },
   "outputs": [],
   "source": [
    "def activateNodesOptGreedy(detStartNodes, maxIt=10):\n",
    "\n",
    "    activated = set()\n",
    "    explored = set()\n",
    "\n",
    "    nodes = []\n",
    "    \n",
    "    for n in detStartNodes:\n",
    "        nodes.append(n)\n",
    "        activated.add(n)\n",
    "    \n",
    "    start = nodes[0]\n",
    "    \n",
    "    countIt = 0\n",
    "    \n",
    "    successors = []\n",
    "\n",
    "    while len(nodes)>0 and countIt<maxIt:\n",
    "        \n",
    "        countIt +=1\n",
    "\n",
    "        startNode = nodes[0]\n",
    "\n",
    "        if startNode not in explored:\n",
    "\n",
    "            explored.add(startNode)\n",
    "\n",
    "            successors = []\n",
    "\n",
    "            for succNode in NC_digraph.succ[startNode]:\n",
    "\n",
    "                if succNode not in activated:\n",
    "\n",
    "                    alpha = NC_digraph[startNode][succNode]['weight']\n",
    "                    beta = NC_digraph.node[succNode]['review_count']\n",
    "\n",
    "                    randUnif = random.uniform(0,1)\n",
    "                    randBeta = np.sqrt(random.beta(alpha, beta))\n",
    "\n",
    "                    if randUnif < randBeta:\n",
    "                        activated.add(succNode)\n",
    "                        successors.append(succNode)\n",
    "\n",
    "        nodes = nodes[1:]\n",
    "        nodes = nodes + successors\n",
    "\n",
    "    return len(activated)\n",
    "\n",
    "def activateNodesLoopGreedy(N, startNodes):\n",
    "    \n",
    "    random.seed()\n",
    "    searchNodes = NC_digraph.nodes()\n",
    "    actNodeOpt = []\n",
    "    \n",
    "    for s in range(startNodes):\n",
    "        maxActNode = 0\n",
    "        maxActNodeStart = []\n",
    "\n",
    "        for n in searchNodes:\n",
    "            detStartNodes = actNodeOpt + [n]\n",
    "            result = []\n",
    "            for r in xrange(N):\n",
    "                result.append(float(activateNodesOptGreedy(detStartNodes)))\n",
    "            act = np.mean(result)\n",
    "            if act>maxActNode:\n",
    "                maxActNode = act\n",
    "                maxActNodeStart = n\n",
    "            \n",
    "        searchNodes.remove(maxActNodeStart)\n",
    "        actNodeOpt.append(maxActNodeStart)\n",
    "    \n",
    "    return actNodeOpt, maxActNode"
   ]
  },
  {
   "cell_type": "markdown",
   "metadata": {},
   "source": [
    "Run for greedy (30x) on N = 100, 250, 500, 750, 1,000:"
   ]
  },
  {
   "cell_type": "code",
   "execution_count": 16,
   "metadata": {
    "collapsed": false
   },
   "outputs": [],
   "source": [
    "# N = 100\n",
    "\n",
    "start = 1\n",
    "noRuns = 30\n",
    "greedyN = 100\n",
    "runs = sc.parallelize(range(start, start + noRuns))\n",
    "results = runs.map(lambda x: (x, activateNodesLoopGreedy(greedyN, 3)))\n",
    "results_list = results.collect()\n",
    "fd = open(\"data/greedy-NC_full-\" + str(noRuns) + \"x-N=\" + str(greedyN) + \".json\",\"w\")\n",
    "json.dump(results_list, fd)\n",
    "fd.close()\n",
    "del results"
   ]
  },
  {
   "cell_type": "code",
   "execution_count": 36,
   "metadata": {
    "collapsed": true
   },
   "outputs": [],
   "source": [
    "# N = 250\n",
    "\n",
    "start = 1\n",
    "noRuns = 30\n",
    "greedyN = 250\n",
    "runs = sc.parallelize(range(start, start + noRuns))\n",
    "results = runs.map(lambda x: (x, activateNodesLoopGreedy(greedyN, 3)))\n",
    "results_list = results.collect()\n",
    "fd = open(\"data/greedy-NC_full-\" + str(noRuns) + \"x-N=\" + str(greedyN) + \".json\",\"w\")\n",
    "json.dump(results_list, fd)\n",
    "fd.close()\n",
    "del results"
   ]
  },
  {
   "cell_type": "code",
   "execution_count": 5,
   "metadata": {
    "collapsed": false
   },
   "outputs": [],
   "source": [
    "# N = 500\n",
    "\n",
    "start = 1\n",
    "noRuns = 30\n",
    "greedyN = 500\n",
    "runs = sc.parallelize(range(start, start + noRuns))\n",
    "results = runs.map(lambda x: (x, activateNodesLoopGreedy(greedyN, 3)))\n",
    "results_list = results.collect()\n",
    "fd = open(\"data/greedy-NC_full-\" + str(noRuns) + \"x-N=\" + str(greedyN) + \".json\",\"w\")\n",
    "json.dump(results_list, fd)\n",
    "fd.close()\n",
    "del results"
   ]
  },
  {
   "cell_type": "code",
   "execution_count": 5,
   "metadata": {
    "collapsed": false
   },
   "outputs": [],
   "source": [
    "# N = 750\n",
    "\n",
    "start = 1\n",
    "noRuns = 30\n",
    "greedyN = 750\n",
    "runs = sc.parallelize(range(start, start + noRuns))\n",
    "results = runs.map(lambda x: (x, activateNodesLoopGreedy(greedyN, 3)))\n",
    "results_list = results.collect()\n",
    "fd = open(\"data/greedy-NC_full-\" + str(noRuns) + \"x-N=\" + str(greedyN) + \".json\",\"w\")\n",
    "json.dump(results_list, fd)\n",
    "fd.close()\n",
    "del results"
   ]
  },
  {
   "cell_type": "code",
   "execution_count": 6,
   "metadata": {
    "collapsed": false
   },
   "outputs": [],
   "source": [
    "# N = 1000\n",
    "\n",
    "start = 1\n",
    "noRuns = 30\n",
    "greedyN = 1000\n",
    "runs = sc.parallelize(range(start, start + noRuns))\n",
    "results = runs.map(lambda x: (x, activateNodesLoopGreedy(greedyN, 3)))\n",
    "results_list = results.collect()\n",
    "fd = open(\"data/greedy-NC_full-\" + str(noRuns) + \"x-N=\" + str(greedyN) + \".json\",\"w\")\n",
    "json.dump(results_list, fd)\n",
    "fd.close()\n",
    "del results"
   ]
  },
  {
   "cell_type": "markdown",
   "metadata": {},
   "source": [
    "Reload data from JSON files and plot:"
   ]
  },
  {
   "cell_type": "code",
   "execution_count": 29,
   "metadata": {
    "collapsed": false
   },
   "outputs": [],
   "source": [
    "noRuns = 30\n",
    "\n",
    "delta_graph_axis = []\n",
    "delta_graph_data = []\n",
    "\n",
    "axis_plot = dict()\n",
    "results_plot = dict()\n",
    "f_min = dict()\n",
    "f_max = dict()\n",
    "\n",
    "for greedyN in [100, 250, 500, 750, 1000]:\n",
    "    \n",
    "    with open(\"data/greedy-NC_full-\" + str(noRuns) + \"x-N=\" + str(greedyN) + \".json\", \"r\") as fd:\n",
    "        results = json.load(fd)\n",
    "        \n",
    "    # For delta graph\n",
    "    actNodes = [r[1][1] for r in results]\n",
    "    delta_graph_axis.append(greedyN)\n",
    "    delta_graph_data.append(min(actNodes)/max(actNodes))\n",
    "    \n",
    "    # For scatter plot\n",
    "    axis_plot[greedyN] = [r[0] for r in results]\n",
    "    results_plot[greedyN] = [r[1][1] for r in results]\n",
    "    f_min[greedyN] = min(results_plot[greedyN])\n",
    "    f_max[greedyN] = max(results_plot[greedyN])"
   ]
  },
  {
   "cell_type": "code",
   "execution_count": 73,
   "metadata": {
    "collapsed": false
   },
   "outputs": [
    {
     "data": {
      "image/png": "[encoded data removed]",
      "text/plain": [
       "<matplotlib.figure.Figure at 0x10a63d050>"
      ]
     },
     "metadata": {},
     "output_type": "display_data"
    }
   ],
   "source": [
    "plt.scatter(delta_graph_axis, delta_graph_data)\n",
    "plt.xlim(0, 1000)\n",
    "plt.ylim(0.8, 1)\n",
    "plt.xlabel('N')\n",
    "plt.ylabel('delta')\n",
    "plt.title('Delta = f-min/f-max')\n",
    "plt.show()"
   ]
  },
  {
   "cell_type": "code",
   "execution_count": 79,
   "metadata": {
    "collapsed": false,
    "scrolled": true
   },
   "outputs": [
    {
     "data": {
      "image/png": "[encoded data removed]",
      "text/plain": [
       "<matplotlib.figure.Figure at 0x109ca3450>"
      ]
     },
     "metadata": {},
     "output_type": "display_data"
    }
   ],
   "source": [
    "fig = plt.figure(figsize=(10, 5))\n",
    "\n",
    "# Scatter plots\n",
    "plt.scatter(axis_plot[100], results_plot[100], color='r')\n",
    "plt.scatter(axis_plot[250], results_plot[250], color='b')\n",
    "plt.scatter(axis_plot[500], results_plot[500], color='g')\n",
    "plt.scatter(axis_plot[750], results_plot[750], color='m')\n",
    "plt.scatter(axis_plot[1000], results_plot[1000], color='c')\n",
    "\n",
    "# Min lines\n",
    "plt.plot([0, 30], [f_min[100], f_min[100]], color='r', ls=\"--\")\n",
    "plt.plot([0, 30], [f_min[250], f_min[250]], color='b', ls=\"--\")\n",
    "plt.plot([0, 30], [f_min[500], f_min[500]], color='g', ls=\"--\")\n",
    "plt.plot([0, 30], [f_min[750], f_min[750]], color='m', ls=\"--\")\n",
    "plt.plot([0, 30], [f_min[1000], f_min[1000]], color='c', ls=\"--\")\n",
    "\n",
    "# Max lines\n",
    "plt.plot([0, 30], [f_max[100], f_max[100]], color='r', ls=\"--\")\n",
    "plt.plot([0, 30], [f_max[250], f_max[250]], color='b', ls=\"--\")\n",
    "plt.plot([0, 30], [f_max[500], f_max[500]], color='g', ls=\"--\")\n",
    "plt.plot([0, 30], [f_max[750], f_max[750]], color='b', ls=\"--\")\n",
    "plt.plot([0, 30], [f_max[1000], f_max[1000]], color='c', ls=\"--\")\n",
    "\n",
    "# Legend\n",
    "N100 = mpatches.Patch(color='r', label='100')\n",
    "N250 = mpatches.Patch(color='b', label='250')\n",
    "N500 = mpatches.Patch(color='g', label='500')\n",
    "N750 = mpatches.Patch(color='m', label='750')\n",
    "N1000 = mpatches.Patch(color='c', label='1000')\n",
    "plt.legend(handles=[N100, N250, N500, N750, N1000])\n",
    "\n",
    "plt.ylim(44, 52)\n",
    "plt.xlim(0, 30)\n",
    "plt.xlabel('Run')\n",
    "plt.ylabel('Nodes activated')\n",
    "plt.title('Greedy algorithm')\n",
    "\n",
    "plt.show()"
   ]
  }
 ],
 "metadata": {
  "kernelspec": {
   "display_name": "Python 2",
   "language": "python",
   "name": "python2"
  },
  "language_info": {
   "codemirror_mode": {
    "name": "ipython",
    "version": 2
   },
   "file_extension": ".py",
   "mimetype": "text/x-python",
   "name": "python",
   "nbconvert_exporter": "python",
   "pygments_lexer": "ipython2",
   "version": "2.7.10"
  }
 },
 "nbformat": 4,
 "nbformat_minor": 0
}
