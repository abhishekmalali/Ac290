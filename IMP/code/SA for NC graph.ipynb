{
 "cells": [
  {
   "cell_type": "code",
   "execution_count": 3,
   "metadata": {
    "collapsed": true
   },
   "outputs": [],
   "source": [
    "# Import libraries\n",
    "%matplotlib inline\n",
    "import matplotlib.pyplot as plt\n",
    "import time\n",
    "import numpy as np\n",
    "from numpy import random\n",
    "import math\n",
    "import scipy\n",
    "from scipy import stats\n",
    "from random import choice\n",
    "import networkx as nx\n",
    "import json\n",
    "from networkx.readwrite import json_graph\n",
    "import line_profiler\n",
    "import IPython\n",
    "ip = IPython.get_ipython()\n",
    "ip.define_magic('lprun', line_profiler.magic_lprun)"
   ]
  },
  {
   "cell_type": "code",
   "execution_count": 4,
   "metadata": {
    "collapsed": true
   },
   "outputs": [],
   "source": [
    "import findspark\n",
    "import os\n",
    "findspark.init()\n",
    "# import pyspark\n",
    "# sc = pyspark.SparkContext()"
   ]
  },
  {
   "cell_type": "code",
   "execution_count": 5,
   "metadata": {
    "collapsed": false
   },
   "outputs": [],
   "source": [
    "# Load network graph\n",
    "with open(\"../code/graph/nc_mini.json\", \"r\") as graph_data:\n",
    "    graph_data = json.load(graph_data)\n",
    "    NC_digraph = json_graph.node_link_graph(graph_data)"
   ]
  },
  {
   "cell_type": "code",
   "execution_count": 6,
   "metadata": {
    "collapsed": false
   },
   "outputs": [],
   "source": [
    "def swapnodes(Nodes, graph):\n",
    "    indices = range(len(Nodes))\n",
    "    \n",
    "    # take a random index to swap from the nodes\n",
    "    n1 = np.random.choice(indices, 1)\n",
    "    swapped_node = Nodes[n1[0]]\n",
    "    \n",
    "    # take a random index to swap from the whole graph\n",
    "    n2 = np.random.choice(graph.nodes(), 1)\n",
    "        \n",
    "    # We check that we are not choosing the same node we just swapped\n",
    "    while n2 == swapped_node:\n",
    "        n2 = np.random.choice(graph.nodes(), 1)\n",
    "    \n",
    "    Nodes[n1] = n2[0]\n",
    "    \n",
    "    return Nodes"
   ]
  },
  {
   "cell_type": "code",
   "execution_count": 76,
   "metadata": {
    "collapsed": true
   },
   "outputs": [],
   "source": [
    "def activateNodesOptSN(detStartNodes):\n",
    "\n",
    "    explored = set()\n",
    "    activated = set()\n",
    "    nodes = []\n",
    "    for node in detStartNodes:\n",
    "        nodes.append(node)\n",
    "        activated.add(node)\n",
    "    \n",
    "    start = detStartNodes[0]\n",
    "    successors = []\n",
    "\n",
    "    for i in range(10):\n",
    "        successors = []\n",
    "        while len(nodes)>0:\n",
    "            startNode = nodes[0]\n",
    "            if startNode not in explored:\n",
    "                explored.add(startNode)\n",
    "            for succNode in NC_digraph.succ[startNode]:\n",
    "                if succNode not in activated:\n",
    "                    alpha = NC_digraph[startNode][succNode]['weight']\n",
    "                    beta = NC_digraph.node[succNode]['review_count']\n",
    "                    if random.uniform(0,1) < np.sqrt(random.beta(alpha, beta)):\n",
    "                        if succNode not in explored:\n",
    "                            activated.add(succNode)\n",
    "                            successors.append(succNode)\n",
    "            nodes = nodes[1:]\n",
    "        nodes = successors\n",
    "        if not nodes:\n",
    "            break\n",
    "    return len(activated)\n",
    "\n",
    "def activateNodesLoopSN(N, startNodes):\n",
    "    random.seed()\n",
    "    iterations = sc.parallelize(xrange(N), 4)\n",
    "    activatedNodes = iterations.map(lambda x: (activateNodesOptSN(startNodes)))\n",
    "    \n",
    "    return activatedNodes.mean()"
   ]
  },
  {
   "cell_type": "code",
   "execution_count": 38,
   "metadata": {
    "collapsed": true
   },
   "outputs": [],
   "source": [
    "# TODO\n",
    "def simulated_annealing_tsp(function, initial_X, graph, N, initial_temp, cool, reanneal, iterr):\n",
    "    \n",
    "    accepted = 0\n",
    "    X = initial_X\n",
    "    T = initial_temp\n",
    "    \n",
    "    history = list()\n",
    "    # Evaluate E\n",
    "    #print distance(X)\n",
    "    prev_E = function(N, X)\n",
    "    history.append(prev_E)\n",
    "    \n",
    "    for i in xrange(iterr):\n",
    "        # Stepsize\n",
    "#         L = int(np.ceil(T))\n",
    "        # Propose new x1 and x2 - Metropolis Algo.\n",
    "        X_star = swapnodes(X, graph)\n",
    "        # Evaluate E\n",
    "        new_E = function(N, X_star) \n",
    "        delta_E = prev_E - new_E\n",
    "        \n",
    "        # Flip a coin\n",
    "        U = np.random.uniform()\n",
    "        if U < np.exp(-delta_E / T):\n",
    "            accepted += 1\n",
    "            history.append(new_E)\n",
    "            # Copy X_star to X\n",
    "            X = X_star\n",
    "            prev_E = new_E\n",
    "\n",
    "        # Check to cool down\n",
    "        if accepted % reanneal == 0:\n",
    "            T *= cool\n",
    "            if T < 0.001: # Reheat\n",
    "                T = 2.\n",
    "            \n",
    "    return X, history\n"
   ]
  },
  {
   "cell_type": "code",
   "execution_count": null,
   "metadata": {
    "collapsed": false
   },
   "outputs": [],
   "source": [
    "import time\n",
    "startNodes = random.choice(NC_digraph.nodes(),3)\n",
    "initial_temp = 2.0\n",
    "cool = 0.9\n",
    "reanneal = 100\n",
    "iterr = 1000\n",
    "N = 500\n",
    "t0 = time.time()\n",
    "path,history = simulated_annealing_tsp(activateNodesLoopSN, startNodes, NC_digraph, N,  initial_temp, cool, reanneal, iterr)\n",
    "print time.time() - t0"
   ]
  },
  {
   "cell_type": "code",
   "execution_count": null,
   "metadata": {
    "collapsed": false
   },
   "outputs": [],
   "source": [
    "print path\n",
    "plt.figure(figsize=(12,8))\n",
    "plt.plot(history)\n",
    "plt.title(\"History\")\n",
    "plt.ylabel(\"$f(x_1,x_2)$\",fontsize=12)\n",
    "plt.xlabel(\"Accepted\", fontsize=12)\n",
    "plt.show()\n",
    "#ts3, vh,"
   ]
  },
  {
   "cell_type": "code",
   "execution_count": 61,
   "metadata": {
    "collapsed": false
   },
   "outputs": [],
   "source": [
    "import json\n",
    "with open('data500_3000_T2.txt', 'w') as outfile:\n",
    "    json.dump([str(path), history], outfile)"
   ]
  },
  {
   "cell_type": "code",
   "execution_count": null,
   "metadata": {
    "collapsed": true
   },
   "outputs": [],
   "source": []
  }
 ],
 "metadata": {
  "kernelspec": {
   "display_name": "Python 2",
   "language": "python",
   "name": "python2"
  },
  "language_info": {
   "codemirror_mode": {
    "name": "ipython",
    "version": 2
   },
   "file_extension": ".py",
   "mimetype": "text/x-python",
   "name": "python",
   "nbconvert_exporter": "python",
   "pygments_lexer": "ipython2",
   "version": "2.7.10"
  }
 },
 "nbformat": 4,
 "nbformat_minor": 0
}
