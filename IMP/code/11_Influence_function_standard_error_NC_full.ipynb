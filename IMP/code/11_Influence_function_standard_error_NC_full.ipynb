{
 "cells": [
  {
   "cell_type": "markdown",
   "metadata": {},
   "source": [
    "# Influence function - standard error"
   ]
  },
  {
   "cell_type": "code",
   "execution_count": 1,
   "metadata": {
    "collapsed": true
   },
   "outputs": [],
   "source": [
    "# Import libraries\n",
    "%matplotlib inline\n",
    "import matplotlib.pyplot as plt\n",
    "import time\n",
    "import numpy as np\n",
    "from numpy import random\n",
    "import math\n",
    "import scipy\n",
    "from scipy import stats\n",
    "from random import choice\n",
    "import networkx as nx\n",
    "import json\n",
    "from networkx.readwrite import json_graph\n",
    "import line_profiler\n",
    "import IPython\n",
    "ip = IPython.get_ipython()\n",
    "ip.define_magic('lprun', line_profiler.magic_lprun)"
   ]
  },
  {
   "cell_type": "code",
   "execution_count": 2,
   "metadata": {
    "collapsed": true
   },
   "outputs": [],
   "source": [
    "import findspark\n",
    "import os\n",
    "findspark.init()\n",
    "import pyspark\n",
    "sc = pyspark.SparkContext()"
   ]
  },
  {
   "cell_type": "code",
   "execution_count": 50,
   "metadata": {
    "collapsed": true
   },
   "outputs": [],
   "source": [
    "# Load network graph\n",
    "with open(\"graph/nc_full.json\", \"r\") as graph_data:\n",
    "    graph_data = json.load(graph_data)\n",
    "    NC_digraph = json_graph.node_link_graph(graph_data)"
   ]
  },
  {
   "cell_type": "markdown",
   "metadata": {},
   "source": [
    "### Calculate variance of simulation results"
   ]
  },
  {
   "cell_type": "code",
   "execution_count": 51,
   "metadata": {
    "collapsed": true
   },
   "outputs": [],
   "source": [
    "def activateNodesOpt():\n",
    "\n",
    "    nx.set_node_attributes(NC_digraph, 'activated', False)\n",
    "    nx.set_node_attributes(NC_digraph, 'explored', False)\n",
    "    \n",
    "    start = random.choice(NC_digraph.nodes(), 1)\n",
    "    \n",
    "    nodes = [start[0]]\n",
    "\n",
    "    activated = 1\n",
    "    \n",
    "    NC_digraph.node[start[0]]['activated'] = True\n",
    "    \n",
    "    while len(nodes)>0:\n",
    "\n",
    "        startNode = nodes[0]\n",
    "\n",
    "        if NC_digraph.node[startNode]['explored']==False:\n",
    "\n",
    "            NC_digraph.node[startNode]['explored'] = True\n",
    "\n",
    "            successors = []\n",
    "\n",
    "            for succNode in NC_digraph.succ[startNode]:\n",
    "\n",
    "                if NC_digraph.node[succNode]['activated']==False:\n",
    "\n",
    "                    alpha = NC_digraph[startNode][succNode]['weight']\n",
    "                    beta = NC_digraph.node[succNode]['review_count']\n",
    "\n",
    "                    randUnif = random.uniform(0,1)\n",
    "                    randBeta = np.sqrt(random.beta(alpha, beta))\n",
    "\n",
    "                    if randUnif < randBeta:\n",
    "                        NC_digraph.node[succNode]['activated'] = True\n",
    "                        successors.append(succNode)\n",
    "                        activated = activated + 1\n",
    "\n",
    "        nodes = nodes[1:]\n",
    "        nodes = nodes + successors\n",
    "\n",
    "    return activated\n",
    "\n",
    "def activateNodesLoop(N):\n",
    "\n",
    "    result = []\n",
    "\n",
    "    for n in xrange(N):\n",
    "        result.append(float(activateNodesOpt()))\n",
    "        \n",
    "    return np.mean(result)"
   ]
  },
  {
   "cell_type": "markdown",
   "metadata": {},
   "source": [
    "**Plot standard error as a function of N:**"
   ]
  },
  {
   "cell_type": "code",
   "execution_count": 54,
   "metadata": {
    "collapsed": false
   },
   "outputs": [],
   "source": [
    "plot_range = [100, 250, 500, 750, 1000]\n",
    "\n",
    "for k in plot_range: \n",
    "    runs = sc.parallelize(range(100), 4)\n",
    "    results = runs.map(lambda x: activateNodesLoop(k))\n",
    "    results_list = results.collect()\n",
    "    fd = open(\"data/SE-NC_full-N=\" + str(k) + \".json\",\"w\")\n",
    "    json.dump(results_list, fd)\n",
    "    fd.close()\n",
    "    del results"
   ]
  },
  {
   "cell_type": "code",
   "execution_count": 57,
   "metadata": {
    "collapsed": false
   },
   "outputs": [],
   "source": [
    "stdErr = dict()\n",
    "\n",
    "for k in plot_range:\n",
    "\n",
    "    with open(\"data/SE-NC_full-N=\" + str(k) + \".json\", \"r\") as fd:\n",
    "        results = json.load(fd)\n",
    "        \n",
    "    stdErr[k] = np.std(results)\n",
    "    \n",
    "plt.plot(stdErr.keys(), stdErr.values(), 'o-', color='r', linestyle='None', markersize=8)\n",
    "plt.xlim(xmin=0)\n",
    "plt.ylim(ymin=0)\n",
    "plt.show()"
   ]
  },
  {
   "cell_type": "code",
   "execution_count": 46,
   "metadata": {
    "collapsed": true
   },
   "outputs": [],
   "source": [
    "y = [math.log(i) for i in stdErr.values()]\n",
    "x = [math.log(i) for i in stdErr.keys()]\n",
    "slope, intercept, r_value, p_value, std_err = scipy.stats.linregress(x, y)"
   ]
  },
  {
   "cell_type": "code",
   "execution_count": 59,
   "metadata": {
    "collapsed": false
   },
   "outputs": [],
   "source": [
    "print 'lambda = %f' % (-slope)\n",
    "print 'alpha = %f' % (math.exp(intercept))"
   ]
  },
  {
   "cell_type": "markdown",
   "metadata": {},
   "source": [
    "Check results with log-plot:"
   ]
  },
  {
   "cell_type": "code",
   "execution_count": 58,
   "metadata": {
    "collapsed": false
   },
   "outputs": [],
   "source": [
    "keys = [math.log(i) for i in stdErr.keys()]\n",
    "keys.sort()\n",
    "solution = [intercept + slope*n for n in keys]\n",
    "\n",
    "plt.plot(x, [math.log(i) for i in stdErr.values()], 'o-', color='r', linestyle='None', markersize=8)\n",
    "plt.plot(keys, solution)\n",
    "plt.xlim(xmin=4)\n",
    "plt.ylim(ymin=-1)\n",
    "plt.show()"
   ]
  },
  {
   "cell_type": "code",
   "execution_count": null,
   "metadata": {
    "collapsed": true
   },
   "outputs": [],
   "source": []
  }
 ],
 "metadata": {
  "kernelspec": {
   "display_name": "Python 2",
   "language": "python",
   "name": "python2"
  },
  "language_info": {
   "codemirror_mode": {
    "name": "ipython",
    "version": 2
   },
   "file_extension": ".py",
   "mimetype": "text/x-python",
   "name": "python",
   "nbconvert_exporter": "python",
   "pygments_lexer": "ipython2",
   "version": "2.7.10"
  }
 },
 "nbformat": 4,
 "nbformat_minor": 0
}
