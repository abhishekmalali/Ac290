{
 "cells": [
  {
   "cell_type": "markdown",
   "metadata": {},
   "source": [
    "## Overall results:"
   ]
  },
  {
   "cell_type": "markdown",
   "metadata": {},
   "source": [
    "**NC_mini (greedy algorithm with N=1,000):**\n",
    "\n"
   ]
  },
  {
   "cell_type": "markdown",
   "metadata": {},
   "source": [
    "**NC_full (greedy algorithm with N=300):**\n",
    "\n",
    "Starting nodes: [u'55GXsFLH4QYnTQqiijBtxA', u'HrBHqWQiP6YfGexLwAdzqQ', u'rTvFiQSg_cLHejrT1jA0UA']\n",
    "\n",
    "Activated nodes: 8979.9599999999991"
   ]
  },
  {
   "cell_type": "markdown",
   "metadata": {},
   "source": [
    "**US:** [todo]"
   ]
  },
  {
   "cell_type": "markdown",
   "metadata": {},
   "source": [
    "## Key functions"
   ]
  },
  {
   "cell_type": "code",
   "execution_count": 1,
   "metadata": {
    "collapsed": true
   },
   "outputs": [],
   "source": [
    "%matplotlib inline\n",
    "import matplotlib.pyplot as plt\n",
    "import matplotlib.patches as mpatches\n",
    "import time\n",
    "import numpy as np\n",
    "from numpy import random\n",
    "import math\n",
    "import scipy\n",
    "from scipy import stats\n",
    "from random import choice\n",
    "import networkx as nx\n",
    "import json\n",
    "from networkx.readwrite import json_graph\n",
    "import line_profiler\n",
    "import IPython\n",
    "ip = IPython.get_ipython()\n",
    "ip.define_magic('lprun', line_profiler.magic_lprun)"
   ]
  },
  {
   "cell_type": "code",
   "execution_count": 2,
   "metadata": {
    "collapsed": true
   },
   "outputs": [],
   "source": [
    "import findspark\n",
    "import os\n",
    "findspark.init()\n",
    "import pyspark\n",
    "sc = pyspark.SparkContext()"
   ]
  },
  {
   "cell_type": "code",
   "execution_count": 3,
   "metadata": {
    "collapsed": true
   },
   "outputs": [],
   "source": [
    "with open(\"graph/nc_mini.json\", \"r\") as graph_data_mini:\n",
    "    graph_data_mini = json.load(graph_data_mini)\n",
    "    NC_digraph_mini = json_graph.node_link_graph(graph_data_mini)\n",
    "    \n",
    "with open(\"graph/nc_full.json\", \"r\") as graph_data_full:\n",
    "    graph_data_full = json.load(graph_data_full)\n",
    "    NC_digraph_full = json_graph.node_link_graph(graph_data_full)"
   ]
  },
  {
   "cell_type": "code",
   "execution_count": 4,
   "metadata": {
    "collapsed": false
   },
   "outputs": [],
   "source": [
    "def print_graph(Graph, S1=None):\n",
    "    \"\"\"\n",
    "    Prints a representation of the NetworkX graph.\n",
    "    \"\"\"\n",
    "    plt.figure(figsize=(16,10))\n",
    "    color_map = {1: 'b', 0: 'r'}\n",
    "    pos = nx.random_layout(Graph)\n",
    "    \n",
    "    if S1:\n",
    "        nx.draw_networkx(Graph, pos, with_labels=False, node_size=100, node_shape='.',\n",
    "                linewidth=None, width=0.2, edge_color='y', \n",
    "                node_color=[color_map[Graph.node[node]['action']] for node in Graph],\n",
    "                edgelist=reduce(lambda x,y: x+y,[Graph.edges(node) for node in S1]))\n",
    "        nx.draw_networkx_nodes(Graph, pos, nodelist=S1, node_color=\"b\", node_size=150, \n",
    "                              node_shape=\"*\", label=\"Initial Set\")\n",
    "        plt.legend()\n",
    "    else:\n",
    "        nx.draw_networkx(Graph, pos, with_labels=False, node_size=100, node_shape='.',\n",
    "                linewidth=None, width=0.2, edge_color='y', \n",
    "                 node_color=[color_map[Graph.node[node]['action']] for node in Graph])\n",
    "        \n",
    "    plt.xlim(-0.05,1.05)\n",
    "    plt.ylim(-0.05,1.05)\n",
    "    plt.xticks([])\n",
    "    plt.yticks([])\n",
    "    plt.show()"
   ]
  },
  {
   "cell_type": "code",
   "execution_count": 5,
   "metadata": {
    "collapsed": true
   },
   "outputs": [],
   "source": [
    "def influenceFunction(graph, detStartNodes, t=999999):\n",
    "    \"\"\"\n",
    "    Determines the number of nodes that are activated from pre-specified starting nodes.\n",
    "\n",
    "    Inputs:\n",
    "    graph: the NetworkX graph that is explored in the function\n",
    "    detStartNodes: a list of pre-specific starting nodes\n",
    "    t: the maximum depth explored from the starting nodes\n",
    "\n",
    "    Outputs: the number of activated nodes\n",
    "    \"\"\"\n",
    "    \n",
    "    explored = set()\n",
    "    activated = set()\n",
    "    nodes = []\n",
    "    for node in detStartNodes:\n",
    "        nodes.append(node)\n",
    "        activated.add(node)\n",
    "    \n",
    "    start = detStartNodes[0]\n",
    "    successors = []\n",
    "\n",
    "    for i in range(t):\n",
    "        successors = []\n",
    "        while len(nodes)>0:\n",
    "            startNode = nodes[0]\n",
    "            if startNode not in explored:\n",
    "                explored.add(startNode)\n",
    "            for succNode in graph.succ[startNode]:\n",
    "                if succNode not in activated:\n",
    "                    alpha = graph[startNode][succNode]['weight']\n",
    "                    beta = graph.node[succNode]['review_count']\n",
    "                    if random.uniform(0,1) < np.sqrt(random.beta(alpha, beta)):\n",
    "                        if succNode not in explored:\n",
    "                            activated.add(succNode)\n",
    "                            successors.append(succNode)\n",
    "            nodes.remove(startNode)\n",
    "        nodes = successors\n",
    "        if not nodes:\n",
    "            break\n",
    "    return float(len(activated))"
   ]
  },
  {
   "cell_type": "code",
   "execution_count": 6,
   "metadata": {
    "collapsed": true
   },
   "outputs": [],
   "source": [
    "def influenceFunctionNotParDetStart(graph, detStartNodes, N, t=999999):\n",
    "    \"\"\"\n",
    "    Determines the average number of nodes that are activated in N runs of\n",
    "    the influence function from pre-specified starting nodes.\n",
    "    The calculation in run serially.\n",
    "\n",
    "    Inputs:\n",
    "    graph: the NetworkX graph that is explored in the function\n",
    "    detStartNodes: a list of pre-specific starting nodes\n",
    "    N: the number of iterations of the influence function that are run per node(s)\n",
    "    t: the maximum depth explored from the starting nodes\n",
    "\n",
    "    Outputs: the average number of activated nodes\n",
    "    \"\"\"\n",
    "    result = []\n",
    "    for n in xrange(N):\n",
    "        result.append(float(influenceFunction(graph, detStartNodes, t)))\n",
    "    return np.mean(result)"
   ]
  },
  {
   "cell_type": "code",
   "execution_count": 7,
   "metadata": {
    "collapsed": true
   },
   "outputs": [],
   "source": [
    "def influenceFunctionParDetStart(graph, detStartNodes, N, t=999999):\n",
    "    \"\"\"\n",
    "    Determines the average number of nodes that are activated in N runs of\n",
    "    the influence function from pre-specified starting nodes.\n",
    "    The calculation is run in parallel using Spark.\n",
    "\n",
    "    Inputs:\n",
    "    graph: the NetworkX graph that is explored in the function\n",
    "    detStartNodes: a list of pre-specific starting nodes\n",
    "    N: the number of iterations of the influence function that are run per node(s)\n",
    "    t: the maximum depth explored from the starting nodes\n",
    "\n",
    "    Outputs: the average number of activated nodes\n",
    "    \"\"\"\n",
    "    runs = sc.parallelize(range(N), 4)\n",
    "    results = runs.map(lambda x: influenceFunction(graph, detStartNodes, t))\n",
    "    return np.mean(results.collect())"
   ]
  },
  {
   "cell_type": "code",
   "execution_count": 8,
   "metadata": {
    "collapsed": true
   },
   "outputs": [],
   "source": [
    "def influenceFunctionNotParRandStart(graph, N, t=999999):\n",
    "    \"\"\"\n",
    "    Determines the average number of nodes that are activated in N runs of\n",
    "    the influence function from random starting nodes.\n",
    "    The calculation in run serially.\n",
    "\n",
    "    Inputs:\n",
    "    graph: the NetworkX graph that is explored in the function\n",
    "    detStartNodes: a list of pre-specific starting nodes\n",
    "    N: the number of iterations of the influence function that are run per node\n",
    "    t: the maximum depth explored from the starting nodes\n",
    "\n",
    "    Outputs: the average number of activated nodes\n",
    "    \"\"\"\n",
    "    result = []\n",
    "    for n in xrange(N):\n",
    "        result.append(float(influenceFunction(graph, [random.choice(graph.nodes(),1)[0]], t)))\n",
    "    return np.mean(result)"
   ]
  },
  {
   "cell_type": "code",
   "execution_count": 9,
   "metadata": {
    "collapsed": true
   },
   "outputs": [],
   "source": [
    "def influenceFunctionParRandStart(graph, N, t=999999):\n",
    "    \"\"\"\n",
    "    Determines the average number of nodes that are activated in N runs of\n",
    "    the influence function from random starting nodes.\n",
    "    The calculation is run in parallel using Spark.\n",
    "\n",
    "    Inputs:\n",
    "    graph: the NetworkX graph that is explored in the function\n",
    "    detStartNodes: a list of pre-specific starting nodes\n",
    "    N: the number of iterations of the influence function that are run per node\n",
    "    t: the maximum depth explored from the starting nodes\n",
    "\n",
    "    Outputs: the average number of activated nodes\n",
    "    \"\"\"\n",
    "    runs = sc.parallelize(range(N), 4)\n",
    "    results = runs.map(lambda x: influenceFunction(graph, [random.choice(graph.nodes(),1)[0]], t))\n",
    "    return np.mean(results.collect())"
   ]
  },
  {
   "cell_type": "code",
   "execution_count": 10,
   "metadata": {
    "collapsed": true
   },
   "outputs": [],
   "source": [
    "def greedySearch(graph, k=3, N=1000, t=999999):\n",
    "    \"\"\"\n",
    "    In each of k iterations, determines that start node that results in the most\n",
    "    activated nodes when combined with the output of the previous iterations.\n",
    "    The calculation is run in parallel using Spark.\n",
    "\n",
    "    Inputs:\n",
    "    graph: the NetworkX graph that is explored in the function\n",
    "    k: the number of starting nodes that are returned\n",
    "    N: the number of iterations of the influence function that are run per node(s)\n",
    "    t: the maximum depth explored from the starting nodes\n",
    "\n",
    "    Outputs: the k nodes that result in the most activations, and\n",
    "    the number of nodes that they activate when run as starting nodes\n",
    "    \"\"\"    \n",
    "    best_s = []\n",
    "    max_inf = 0\n",
    "    nodeRDD = sc.parallelize(list(set(list(sum(graph.edges(), ())))), 4)\n",
    "    \n",
    "    for i in range(k):\n",
    "        infRDD = nodeRDD.map(lambda n: (n, 0.) if n in best_s else \\\n",
    "                             (n, influenceFunctionNotParDetStart(graph, best_s + [n], N)))\n",
    "        next_s, next_i = infRDD.reduce(lambda a,b: a if a[1] > b[1] else b)\n",
    "        best_s += [next_s]\n",
    "        max_inf = next_i\n",
    "    \n",
    "    return best_s, max_inf"
   ]
  },
  {
   "cell_type": "code",
   "execution_count": 11,
   "metadata": {
    "collapsed": true
   },
   "outputs": [],
   "source": [
    "def maxEdges(graph, k=3):\n",
    "    \"\"\"\n",
    "    Heuristic function: determines the k nodes in the graph with the most edges.\n",
    "\n",
    "    Inputs:\n",
    "    graph: the NetworkX graph that is explored in the function\n",
    "    k: the number of nodes that are returned\n",
    "\n",
    "    Outputs: the k nodes with the most edges\n",
    "    \"\"\"      \n",
    "    nodeRDD = sc.parallelize(list(set(list(sum(graph.edges(), ())))), 4)   \n",
    "    infRDD = nodeRDD.map(lambda n: (n, len(graph.succ[n])))\n",
    "    return infRDD.takeOrdered(k, lambda w: -w[1])"
   ]
  },
  {
   "cell_type": "code",
   "execution_count": 12,
   "metadata": {
    "collapsed": true
   },
   "outputs": [],
   "source": [
    "def maxNodes(graph, k=3, N=1000, t=999999):\n",
    "    \"\"\"\n",
    "    Heuristic function: determines the k nodes in the graph that activate the most nodes\n",
    "    when run as independent starting nodes.\n",
    "\n",
    "    Inputs:\n",
    "    graph: the NetworkX graph that is explored in the function\n",
    "    k: the number of nodes that are returned\n",
    "    N: the number of iterations of the influence function that are run per node\n",
    "    t: the maximum depth explored from the starting nodes\n",
    "\n",
    "    Outputs: the k nodes with the most edges\n",
    "    \"\"\"     \n",
    "    nodeRDD = sc.parallelize(list(set(list(sum(graph.edges(), ())))), 4)   \n",
    "    infRDD = nodeRDD.map(lambda n: (n, influenceFunctionNotParDetStart(graph, [n], N)))\n",
    "    return infRDD.takeOrdered(k, lambda w: -w[1])"
   ]
  },
  {
   "cell_type": "markdown",
   "metadata": {},
   "source": [
    "## Part 1: Influence function"
   ]
  },
  {
   "cell_type": "markdown",
   "metadata": {},
   "source": [
    "### Original specification:"
   ]
  },
  {
   "cell_type": "code",
   "execution_count": 13,
   "metadata": {
    "collapsed": false
   },
   "outputs": [],
   "source": [
    "def activateNodes(detStart, detRandSeed):\n",
    "    \"\"\"\n",
    "    These are early versions of influenceFunction and influenceFunctionNotParRandStart.\n",
    "    Compared to the final versions, these allowed us to specify seeds for our random number\n",
    "    generators in order to compare our function outputs. This functionality was removed\n",
    "    from the final versions of the functions.\n",
    "    \"\"\" \n",
    "    nx.set_node_attributes(NC_digraph_mini, 'activated', False)\n",
    "    nx.set_node_attributes(NC_digraph_mini, 'explored', False)\n",
    "    \n",
    "    if detStart is None:\n",
    "        if detRandSeed is not None:\n",
    "            random.seed()\n",
    "        start = random.choice(NC_digraph_mini.nodes(), 1)\n",
    "    else:\n",
    "        start = detStart\n",
    "    \n",
    "    nodes = [start[0]]\n",
    "\n",
    "    activated = 1\n",
    "    \n",
    "    NC_digraph_mini.node[start[0]]['activated'] = True\n",
    "    \n",
    "    while len(nodes)>0:\n",
    "\n",
    "        startNode = nodes[0]\n",
    "\n",
    "        if NC_digraph_mini.node[startNode]['explored']==False:\n",
    "\n",
    "            NC_digraph_mini.node[startNode]['explored'] = True\n",
    "\n",
    "            successors = []\n",
    "\n",
    "            for succNode in NC_digraph_mini.succ[startNode]:\n",
    "\n",
    "                if NC_digraph_mini.node[succNode]['activated']==False:\n",
    "\n",
    "                    alpha = NC_digraph_mini[startNode][succNode]['weight']\n",
    "                    beta = NC_digraph_mini.node[succNode]['review_count']\n",
    "\n",
    "                    if detRandSeed is not None:\n",
    "                        random.seed(detRandSeed)\n",
    "                    randUnif = random.uniform(0,1)\n",
    "                    if detRandSeed is not None:\n",
    "                        random.seed(detRandSeed)\n",
    "                    randBeta = np.sqrt(random.beta(alpha, beta))\n",
    "\n",
    "                    if randUnif < randBeta:\n",
    "                        NC_digraph_mini.node[succNode]['activated'] = True\n",
    "                        successors.append(succNode)\n",
    "                        activated = activated + 1\n",
    "\n",
    "        nodes = nodes[1:]\n",
    "        nodes = nodes + successors\n",
    "\n",
    "    return activated\n",
    "\n",
    "def activateNodesLoop(N, rootSeed=None, randNumSeed=None):\n",
    "    \n",
    "    if rootSeed is not None and randNumSeed is not None:\n",
    "        random.seed(rootSeed) \n",
    "        detStart = random.choice(NC_digraph_mini.nodes(), 1) # deterministic start node\n",
    "        detRandSeed = randNumSeed # deterministic random variables\n",
    "    elif rootSeed is None and randNumSeed is None:\n",
    "        random.seed()\n",
    "        detStart = None # stochastic start node\n",
    "        detRandSeed = None # stochastic random variables\n",
    "    elif rootSeed is not None and randNumSeed is None:\n",
    "        random.seed(rootSeed) \n",
    "        detStart = random.choice(NC_digraph_mini.nodes(), 1) # deterministic start node\n",
    "        random.seed()\n",
    "        detRandSeed = None # stochastic random variables\n",
    "    elif rootSeed is None and randNumSeed is not None:\n",
    "        detStart = None # stochastic start node\n",
    "        detRandSeed = randNumSeed # deterministic random variables\n",
    "\n",
    "    result = []\n",
    "\n",
    "    for n in xrange(N):\n",
    "        result.append(float(activateNodes(detStart, detRandSeed)))\n",
    "        \n",
    "    return result"
   ]
  },
  {
   "cell_type": "markdown",
   "metadata": {},
   "source": [
    "1) Test results with given starting parameters:"
   ]
  },
  {
   "cell_type": "code",
   "execution_count": 14,
   "metadata": {
    "collapsed": false
   },
   "outputs": [],
   "source": [
    "assert activateNodesLoop(N=1, rootSeed=9, randNumSeed=9)[0] == 141\n",
    "assert activateNodesLoop(N=1, rootSeed=12, randNumSeed=12)[0] == 1\n",
    "assert activateNodesLoop(N=1, rootSeed=24, randNumSeed=12)[0] == 4"
   ]
  },
  {
   "cell_type": "markdown",
   "metadata": {},
   "source": [
    "2) Test mean and standard deviation (should be ~9.5 and ~14):"
   ]
  },
  {
   "cell_type": "code",
   "execution_count": 30,
   "metadata": {
    "collapsed": false
   },
   "outputs": [
    {
     "name": "stdout",
     "output_type": "stream",
     "text": [
      "9.882000 mean, 14.892148 standard deviation\n"
     ]
    },
    {
     "data": {
      "image/png": "[encoded data removed]",
      "text/plain": [
       "<matplotlib.figure.Figure at 0x113249ad0>"
      ]
     },
     "metadata": {},
     "output_type": "display_data"
    }
   ],
   "source": [
    "result = activateNodesLoop(N=1000, rootSeed=24, randNumSeed=None)\n",
    "print '%f mean, %f standard deviation' % (np.mean(result), np.std(result))\n",
    "plt.hist(result, bins=range(int(max(result))))\n",
    "plt.title('Influence function results - 1,000 runs')\n",
    "plt.show()"
   ]
  },
  {
   "cell_type": "markdown",
   "metadata": {},
   "source": [
    "3) Check runtime and profile code:"
   ]
  },
  {
   "cell_type": "code",
   "execution_count": 16,
   "metadata": {
    "collapsed": false
   },
   "outputs": [
    {
     "name": "stdout",
     "output_type": "stream",
     "text": [
      "CPU times: user 504 ms, sys: 13.8 ms, total: 518 ms\n",
      "Wall time: 583 ms\n"
     ]
    }
   ],
   "source": [
    "%time result = activateNodesLoop(N=1000, rootSeed=24, randNumSeed=None)"
   ]
  },
  {
   "cell_type": "code",
   "execution_count": 17,
   "metadata": {
    "collapsed": false
   },
   "outputs": [],
   "source": [
    "%lprun -f activateNodes result = activateNodesLoop(N=1000, rootSeed=24, randNumSeed=None)"
   ]
  },
  {
   "cell_type": "markdown",
   "metadata": {},
   "source": [
    "### Final specification:"
   ]
  },
  {
   "cell_type": "markdown",
   "metadata": {},
   "source": [
    "1) Check runtime for various graph/function combinations:"
   ]
  },
  {
   "cell_type": "markdown",
   "metadata": {},
   "source": [
    "**NC_mini**"
   ]
  },
  {
   "cell_type": "code",
   "execution_count": 14,
   "metadata": {
    "collapsed": false
   },
   "outputs": [
    {
     "data": {
      "text/plain": [
       "240"
      ]
     },
     "execution_count": 14,
     "metadata": {},
     "output_type": "execute_result"
    }
   ],
   "source": [
    "NC_digraph_mini.number_of_nodes()"
   ]
  },
  {
   "cell_type": "code",
   "execution_count": 15,
   "metadata": {
    "collapsed": false
   },
   "outputs": [
    {
     "name": "stdout",
     "output_type": "stream",
     "text": [
      "No cap on t (serial):\n",
      "2.314315 seconds run time\n",
      "\n",
      "t capped at 10 (serial):\n",
      "0.109237 seconds run time\n",
      "\n",
      "No cap on t (parallel):\n",
      "4.675723 seconds run time\n",
      "\n",
      "t capped at 10 (parallel):\n",
      "0.188344 seconds run time\n"
     ]
    }
   ],
   "source": [
    "# Influence function for given start nodes\n",
    "start = ['NzWLMPvbEval0OVg_YDn4g','ts7EG6Zv2zdMDg29nyqGfA','VhI6xyylcAxi0wOy2HOX3w']\n",
    "noRuns = 100\n",
    "\n",
    "print \"No cap on t (serial):\"\n",
    "startTime = time.time()\n",
    "influenceFunctionNotParDetStart(NC_digraph_mini, start, noRuns)\n",
    "runTime = time.time() - startTime\n",
    "print '%f seconds run time' % (runTime)\n",
    "\n",
    "print \"\\nt capped at 10 (serial):\"\n",
    "startTime = time.time()\n",
    "influenceFunctionNotParDetStart(NC_digraph_mini, start, noRuns, 10)\n",
    "runTime = time.time() - startTime\n",
    "print '%f seconds run time' % (runTime)\n",
    "\n",
    "print \"\\nNo cap on t (parallel):\"\n",
    "startTime = time.time()\n",
    "influenceFunctionParDetStart(NC_digraph_mini, start, noRuns)\n",
    "runTime = time.time() - startTime\n",
    "print '%f seconds run time' % (runTime)\n",
    "\n",
    "print \"\\nt capped at 10 (parallel):\"\n",
    "startTime = time.time()\n",
    "influenceFunctionParDetStart(NC_digraph_mini, start, noRuns, 10)\n",
    "runTime = time.time() - startTime\n",
    "print '%f seconds run time' % (runTime)"
   ]
  },
  {
   "cell_type": "code",
   "execution_count": 16,
   "metadata": {
    "collapsed": false
   },
   "outputs": [
    {
     "name": "stdout",
     "output_type": "stream",
     "text": [
      "No cap on t (serial):\n",
      "1.985098 seconds run time\n",
      "\n",
      "t capped at 10 (serial):\n",
      "0.012085 seconds run time\n",
      "\n",
      "no cap on t (parallel):\n",
      "1.457023 seconds run time\n",
      "\n",
      "t capped at 10 (parallel):\n",
      "0.131977 seconds run time\n"
     ]
    }
   ],
   "source": [
    "# Influence function for random start nodes\n",
    "noRuns = 100\n",
    "\n",
    "print \"No cap on t (serial):\"\n",
    "startTime = time.time()\n",
    "influenceFunctionNotParRandStart(NC_digraph_mini, noRuns)\n",
    "runTime = time.time() - startTime\n",
    "print '%f seconds run time' % (runTime)\n",
    "\n",
    "print \"\\nt capped at 10 (serial):\"\n",
    "startTime = time.time()\n",
    "influenceFunctionNotParRandStart(NC_digraph_mini, noRuns, 10)\n",
    "runTime = time.time() - startTime\n",
    "print '%f seconds run time' % (runTime)\n",
    "\n",
    "print \"\\nno cap on t (parallel):\"\n",
    "startTime = time.time()\n",
    "influenceFunctionParRandStart(NC_digraph_mini, noRuns)\n",
    "runTime = time.time() - startTime\n",
    "print '%f seconds run time' % (runTime)\n",
    "\n",
    "print \"\\nt capped at 10 (parallel):\"\n",
    "startTime = time.time()\n",
    "influenceFunctionParRandStart(NC_digraph_mini, noRuns, 10)\n",
    "runTime = time.time() - startTime\n",
    "print '%f seconds run time' % (runTime)"
   ]
  },
  {
   "cell_type": "code",
   "execution_count": 17,
   "metadata": {
    "collapsed": false
   },
   "outputs": [
    {
     "name": "stdout",
     "output_type": "stream",
     "text": [
      "No cap on t (serial):\n",
      "19.604031 seconds run time\n",
      "\n",
      "t capped at 10 (serial):\n",
      "0.119819 seconds run time\n",
      "\n",
      "no cap on t (parallel):\n",
      "10.973880 seconds run time\n",
      "\n",
      "t capped at 10 (parallel):\n",
      "0.187697 seconds run time\n"
     ]
    }
   ],
   "source": [
    "# Influence function for random start nodes\n",
    "noRuns = 1000\n",
    "\n",
    "print \"No cap on t (serial):\"\n",
    "startTime = time.time()\n",
    "influenceFunctionNotParRandStart(NC_digraph_mini, noRuns)\n",
    "runTime = time.time() - startTime\n",
    "print '%f seconds run time' % (runTime)\n",
    "\n",
    "print \"\\nt capped at 10 (serial):\"\n",
    "startTime = time.time()\n",
    "influenceFunctionNotParRandStart(NC_digraph_mini, noRuns, 10)\n",
    "runTime = time.time() - startTime\n",
    "print '%f seconds run time' % (runTime)\n",
    "\n",
    "print \"\\nno cap on t (parallel):\"\n",
    "startTime = time.time()\n",
    "influenceFunctionParRandStart(NC_digraph_mini, noRuns)\n",
    "runTime = time.time() - startTime\n",
    "print '%f seconds run time' % (runTime)\n",
    "\n",
    "print \"\\nt capped at 10 (parallel):\"\n",
    "startTime = time.time()\n",
    "influenceFunctionParRandStart(NC_digraph_mini, noRuns, 10)\n",
    "runTime = time.time() - startTime\n",
    "print '%f seconds run time' % (runTime)"
   ]
  },
  {
   "cell_type": "markdown",
   "metadata": {},
   "source": [
    "**NC_full**"
   ]
  },
  {
   "cell_type": "code",
   "execution_count": 18,
   "metadata": {
    "collapsed": false
   },
   "outputs": [
    {
     "data": {
      "text/plain": [
       "24224"
      ]
     },
     "execution_count": 18,
     "metadata": {},
     "output_type": "execute_result"
    }
   ],
   "source": [
    "NC_digraph_full.number_of_nodes()"
   ]
  },
  {
   "cell_type": "code",
   "execution_count": 19,
   "metadata": {
    "collapsed": false
   },
   "outputs": [
    {
     "name": "stdout",
     "output_type": "stream",
     "text": [
      "No cap on t (serial):\n",
      "13.284066 seconds run time\n",
      "\n",
      "t capped at 10 (serial):\n",
      "9.755757 seconds run time\n",
      "\n",
      "no cap on t (parallel):\n",
      "11.009843 seconds run time\n",
      "\n",
      "t capped at 10 (parallel):\n",
      "8.885949 seconds run time\n"
     ]
    }
   ],
   "source": [
    "# Influence function for given start nodes\n",
    "start = ['NzWLMPvbEval0OVg_YDn4g','ts7EG6Zv2zdMDg29nyqGfA','VhI6xyylcAxi0wOy2HOX3w']\n",
    "noRuns = 100\n",
    "\n",
    "print \"No cap on t (serial):\"\n",
    "startTime = time.time()\n",
    "influenceFunctionNotParDetStart(NC_digraph_full, start, noRuns)\n",
    "runTime = time.time() - startTime\n",
    "print '%f seconds run time' % (runTime)\n",
    "\n",
    "print \"\\nt capped at 10 (serial):\"\n",
    "startTime = time.time()\n",
    "influenceFunctionNotParDetStart(NC_digraph_full, start, noRuns, 10)\n",
    "runTime = time.time() - startTime\n",
    "print '%f seconds run time' % (runTime)\n",
    "\n",
    "print \"\\nno cap on t (parallel):\"\n",
    "startTime = time.time()\n",
    "influenceFunctionParDetStart(NC_digraph_full, start, noRuns)\n",
    "runTime = time.time() - startTime\n",
    "print '%f seconds run time' % (runTime)\n",
    "\n",
    "print \"\\nt capped at 10 (parallel):\"\n",
    "startTime = time.time()\n",
    "influenceFunctionParDetStart(NC_digraph_full, start, noRuns, 10)\n",
    "runTime = time.time() - startTime\n",
    "print '%f seconds run time' % (runTime)"
   ]
  },
  {
   "cell_type": "code",
   "execution_count": 20,
   "metadata": {
    "collapsed": false
   },
   "outputs": [
    {
     "name": "stdout",
     "output_type": "stream",
     "text": [
      "No cap on t (serial):\n",
      "10.352598 seconds run time\n",
      "\n",
      "t capped at 10 (serial):\n",
      "3.170654 seconds run time\n",
      "\n",
      "no cap on t (parallel):\n",
      "6.321508 seconds run time\n",
      "\n",
      "t capped at 10 (parallel):\n",
      "5.098914 seconds run time\n"
     ]
    }
   ],
   "source": [
    "# Influence function for random start nodes\n",
    "noRuns = 100\n",
    "\n",
    "print \"No cap on t (serial):\"\n",
    "startTime = time.time()\n",
    "influenceFunctionNotParRandStart(NC_digraph_full, noRuns)\n",
    "runTime = time.time() - startTime\n",
    "print '%f seconds run time' % (runTime)\n",
    "\n",
    "print \"\\nt capped at 10 (serial):\"\n",
    "startTime = time.time()\n",
    "influenceFunctionNotParRandStart(NC_digraph_full, noRuns, 10)\n",
    "runTime = time.time() - startTime\n",
    "print '%f seconds run time' % (runTime)\n",
    "\n",
    "print \"\\nno cap on t (parallel):\"\n",
    "startTime = time.time()\n",
    "influenceFunctionParRandStart(NC_digraph_full, noRuns)\n",
    "runTime = time.time() - startTime\n",
    "print '%f seconds run time' % (runTime)\n",
    "\n",
    "print \"\\nt capped at 10 (parallel):\"\n",
    "startTime = time.time()\n",
    "influenceFunctionParRandStart(NC_digraph_full, noRuns, 10)\n",
    "runTime = time.time() - startTime\n",
    "print '%f seconds run time' % (runTime)"
   ]
  },
  {
   "cell_type": "code",
   "execution_count": 21,
   "metadata": {
    "collapsed": false
   },
   "outputs": [
    {
     "name": "stdout",
     "output_type": "stream",
     "text": [
      "No cap on t (serial):\n",
      "93.035441 seconds run time\n",
      "\n",
      "t capped at 10 (serial):\n",
      "21.727238 seconds run time\n",
      "\n",
      "no cap on t (parallel):\n",
      "24.502935 seconds run time\n",
      "\n",
      "t capped at 10 (parallel):\n",
      "15.930457 seconds run time\n"
     ]
    }
   ],
   "source": [
    "# Influence function for random start nodes\n",
    "noRuns = 1000\n",
    "\n",
    "print \"No cap on t (serial):\"\n",
    "startTime = time.time()\n",
    "influenceFunctionNotParRandStart(NC_digraph_full, noRuns)\n",
    "runTime = time.time() - startTime\n",
    "print '%f seconds run time' % (runTime)\n",
    "\n",
    "print \"\\nt capped at 10 (serial):\"\n",
    "startTime = time.time()\n",
    "influenceFunctionNotParRandStart(NC_digraph_full, noRuns, 10)\n",
    "runTime = time.time() - startTime\n",
    "print '%f seconds run time' % (runTime)\n",
    "\n",
    "print \"\\nno cap on t (parallel):\"\n",
    "startTime = time.time()\n",
    "influenceFunctionParRandStart(NC_digraph_full, noRuns)\n",
    "runTime = time.time() - startTime\n",
    "print '%f seconds run time' % (runTime)\n",
    "\n",
    "print \"\\nt capped at 10 (parallel):\"\n",
    "startTime = time.time()\n",
    "influenceFunctionParRandStart(NC_digraph_full, noRuns, 10)\n",
    "runTime = time.time() - startTime\n",
    "print '%f seconds run time' % (runTime)"
   ]
  },
  {
   "cell_type": "markdown",
   "metadata": {},
   "source": [
    "2) Determine variation in results as a function of N:"
   ]
  },
  {
   "cell_type": "code",
   "execution_count": 14,
   "metadata": {
    "collapsed": false
   },
   "outputs": [
    {
     "data": {
      "image/png": "[encoded data removed]",
      "text/plain": [
       "<matplotlib.figure.Figure at 0x1043c0850>"
      ]
     },
     "metadata": {},
     "output_type": "display_data"
    },
    {
     "data": {
      "image/png": "[encoded data removed]",
      "text/plain": [
       "<matplotlib.figure.Figure at 0x1122e2cd0>"
      ]
     },
     "metadata": {},
     "output_type": "display_data"
    }
   ],
   "source": [
    "# Results are pre-calculated and loaded here\n",
    "\n",
    "# Load results for NC_mini\n",
    "stdErrMini = dict()\n",
    "for k in range(100,1050,50):\n",
    "    with open(\"data/SE-NC_mini-N=\" + str(k) + \".json\", \"r\") as fd:\n",
    "        results = json.load(fd)\n",
    "    stdErrMini[k] = np.std(results)\n",
    "\n",
    "# Load results for NC_full\n",
    "stdErrFull = dict()\n",
    "for k in [100, 250, 500, 750, 1000]:\n",
    "    with open(\"data/SE-NC_full-N=\" + str(k) + \".json\", \"r\") as fd:\n",
    "        results = json.load(fd)\n",
    "    stdErrFull[k] = np.std(results)\n",
    "    \n",
    "plt.plot(stdErrMini.keys(), stdErrMini.values(), 'o-', color='r', linestyle='None', markersize=8, label=\"NC_mini\")\n",
    "plt.title('Standard error - NC_mini')\n",
    "plt.xlabel('N')\n",
    "plt.ylabel('Standard error')\n",
    "plt.xlim(xmin=0, xmax=1000)\n",
    "plt.show()\n",
    "\n",
    "plt.plot(stdErrFull.keys(), stdErrFull.values(), 'o-', color='b', linestyle='None', markersize=8, label=\"NC_full\")\n",
    "plt.title('Standard error - NC_full')\n",
    "plt.xlabel('N')\n",
    "plt.ylabel('Standard error')\n",
    "plt.xlim(xmin=0, xmax=1000)\n",
    "plt.show()"
   ]
  },
  {
   "cell_type": "code",
   "execution_count": 15,
   "metadata": {
    "collapsed": false
   },
   "outputs": [
    {
     "data": {
      "image/png": "[encoded data removed]",
      "text/plain": [
       "<matplotlib.figure.Figure at 0x112637f10>"
      ]
     },
     "metadata": {},
     "output_type": "display_data"
    },
    {
     "name": "stdout",
     "output_type": "stream",
     "text": [
      "NC_mini:\n",
      "lambda = 0.490183\n",
      "alpha = 13.485154\n",
      "\n",
      "NC_full:\n",
      "lambda = 0.551575\n",
      "alpha = 10774.771915\n"
     ]
    }
   ],
   "source": [
    "yMini = [math.log(i) for i in stdErrMini.values()]\n",
    "xMini = [math.log(i) for i in stdErrMini.keys()]\n",
    "slopeMini, interceptMini, r_valueMini, p_valueMini, std_errMini = scipy.stats.linregress(xMini, yMini)\n",
    "keysMini = [math.log(i) for i in stdErrMini.keys()]\n",
    "keysMini.sort()\n",
    "solutionMini = [interceptMini + slopeMini*n for n in keysMini]\n",
    "\n",
    "yFull = [math.log(i) for i in stdErrFull.values()]\n",
    "xFull = [math.log(i) for i in stdErrFull.keys()]\n",
    "slopeFull, interceptFull, r_valueFull, p_valueFull, std_errFull = scipy.stats.linregress(xFull, yFull)\n",
    "keysFull = [math.log(i) for i in stdErrFull.keys()]\n",
    "keysFull.sort()\n",
    "solutionFull = [interceptFull + slopeFull*n for n in keysFull]\n",
    "\n",
    "plt.plot(xMini, [math.log(i) for i in stdErrMini.values()], 'o-', color='r', linestyle='None', markersize=8)\n",
    "plt.plot(keysMini, solutionMini, color='r', label='NC_mini')\n",
    "plt.plot(xFull, [math.log(i) for i in stdErrFull.values()], 'o-', color='b', linestyle='None', markersize=8)\n",
    "plt.plot(keysFull, solutionFull, color='b', label='NC_full')\n",
    "plt.title('Calculating impact of N (lambda and alpha)')\n",
    "plt.xlabel('log-N')\n",
    "plt.ylabel('log-SE')\n",
    "plt.xlim(xmin=4, xmax=7)\n",
    "plt.ylim(ymin=-1, ymax=7)\n",
    "plt.legend(loc='center left')\n",
    "plt.show()\n",
    "\n",
    "print 'NC_mini:'\n",
    "print 'lambda = %f' % (-slopeMini)\n",
    "print 'alpha = %f' % (math.exp(interceptMini))\n",
    "\n",
    "print '\\nNC_full:'\n",
    "print 'lambda = %f' % (-slopeFull)\n",
    "print 'alpha = %f' % (math.exp(interceptFull))"
   ]
  },
  {
   "cell_type": "markdown",
   "metadata": {},
   "source": [
    "## Part 2: Greedy algorithm"
   ]
  },
  {
   "cell_type": "markdown",
   "metadata": {
    "collapsed": true
   },
   "source": [
    "1) Check runtime:"
   ]
  },
  {
   "cell_type": "code",
   "execution_count": 13,
   "metadata": {
    "collapsed": false
   },
   "outputs": [
    {
     "name": "stdout",
     "output_type": "stream",
     "text": [
      "No cap on t:\n",
      "6.347991 seconds run time\n",
      "\n",
      "t capped at 10:\n",
      "4.359877 seconds run time\n"
     ]
    }
   ],
   "source": [
    "# Greedy algorithm\n",
    "noRuns = 1\n",
    "\n",
    "print \"No cap on t:\"\n",
    "startTime = time.time()\n",
    "greedySearch(NC_digraph_mini, 3, noRuns)\n",
    "runTime = time.time() - startTime\n",
    "print '%f seconds run time' % (runTime)\n",
    "\n",
    "print \"\\nt capped at 10:\"\n",
    "startTime = time.time()\n",
    "greedySearch(NC_digraph_mini, 3, noRuns, 10)\n",
    "runTime = time.time() - startTime\n",
    "print '%f seconds run time' % (runTime)"
   ]
  },
  {
   "cell_type": "code",
   "execution_count": 47,
   "metadata": {
    "collapsed": false
   },
   "outputs": [],
   "source": [
    "# Greedy algorithm\n",
    "noRuns = 1\n",
    "\n",
    "print \"No cap on t:\"\n",
    "startTime = time.time()\n",
    "greedySearch(NC_digraph_full, 3, noRuns)\n",
    "runTime = time.time() - startTime\n",
    "print '%f seconds run time' % (runTime)\n",
    "\n",
    "print \"\\nt capped at 10:\"\n",
    "startTime = time.time()\n",
    "greedySearch(NC_digraph_full, 3, noRuns, 10)\n",
    "runTime = time.time() - startTime\n",
    "print '%f seconds run time' % (runTime)"
   ]
  },
  {
   "cell_type": "markdown",
   "metadata": {},
   "source": [
    "2) Compare results for N = 100, 250, 500, 750, 1,000:"
   ]
  },
  {
   "cell_type": "code",
   "execution_count": 17,
   "metadata": {
    "collapsed": true
   },
   "outputs": [],
   "source": [
    "# Results are pre-calculated and loaded here\n",
    "noRuns = 30\n",
    "\n",
    "delta_graph_axis = []\n",
    "delta_graph_data = []\n",
    "\n",
    "axis_plot = dict()\n",
    "results_plot = dict()\n",
    "f_min = dict()\n",
    "f_max = dict()\n",
    "\n",
    "for greedyN in [100, 250, 500, 750, 1000]:\n",
    "    \n",
    "    with open(\"data/greedy-\" + str(noRuns) + \"x-N=\" + str(greedyN) + \".json\", \"r\") as fd:\n",
    "        results = json.load(fd)\n",
    "        \n",
    "    # For delta graph\n",
    "    actNodes = [r[1][1] for r in results]\n",
    "    delta_graph_axis.append(greedyN)\n",
    "    delta_graph_data.append(min(actNodes)/max(actNodes))\n",
    "    \n",
    "    # For scatter plot\n",
    "    axis_plot[greedyN] = [r[0] for r in results]\n",
    "    results_plot[greedyN] = [r[1][1] for r in results]\n",
    "    f_min[greedyN] = min(results_plot[greedyN])\n",
    "    f_max[greedyN] = max(results_plot[greedyN])"
   ]
  },
  {
   "cell_type": "code",
   "execution_count": 18,
   "metadata": {
    "collapsed": false
   },
   "outputs": [
    {
     "data": {
      "image/png": "[encoded data removed]",
      "text/plain": [
       "<matplotlib.figure.Figure at 0x112390a10>"
      ]
     },
     "metadata": {},
     "output_type": "display_data"
    }
   ],
   "source": [
    "plt.scatter(delta_graph_axis, delta_graph_data)\n",
    "plt.xlim(0, 1000)\n",
    "plt.ylim(0.8, 1)\n",
    "plt.xlabel('N')\n",
    "plt.ylabel('delta')\n",
    "plt.title('Delta = f-min/f-max')\n",
    "plt.show()"
   ]
  },
  {
   "cell_type": "code",
   "execution_count": 19,
   "metadata": {
    "collapsed": false
   },
   "outputs": [
    {
     "data": {
      "image/png": "[encoded data removed]",
      "text/plain": [
       "<matplotlib.figure.Figure at 0x104397610>"
      ]
     },
     "metadata": {},
     "output_type": "display_data"
    }
   ],
   "source": [
    "fig = plt.figure(figsize=(10, 5))\n",
    "\n",
    "# Scatter plots\n",
    "plt.scatter(axis_plot[100], results_plot[100], color='r')\n",
    "plt.scatter(axis_plot[250], results_plot[250], color='b')\n",
    "plt.scatter(axis_plot[500], results_plot[500], color='g')\n",
    "plt.scatter(axis_plot[750], results_plot[750], color='m')\n",
    "plt.scatter(axis_plot[1000], results_plot[1000], color='c')\n",
    "\n",
    "# Min lines\n",
    "plt.plot([0, 30], [f_min[100], f_min[100]], color='r', ls=\"--\")\n",
    "plt.plot([0, 30], [f_min[250], f_min[250]], color='b', ls=\"--\")\n",
    "plt.plot([0, 30], [f_min[500], f_min[500]], color='g', ls=\"--\")\n",
    "plt.plot([0, 30], [f_min[750], f_min[750]], color='m', ls=\"--\")\n",
    "plt.plot([0, 30], [f_min[1000], f_min[1000]], color='c', ls=\"--\")\n",
    "\n",
    "# Max lines\n",
    "plt.plot([0, 30], [f_max[100], f_max[100]], color='r', ls=\"--\")\n",
    "plt.plot([0, 30], [f_max[250], f_max[250]], color='b', ls=\"--\")\n",
    "plt.plot([0, 30], [f_max[500], f_max[500]], color='g', ls=\"--\")\n",
    "plt.plot([0, 30], [f_max[750], f_max[750]], color='b', ls=\"--\")\n",
    "plt.plot([0, 30], [f_max[1000], f_max[1000]], color='c', ls=\"--\")\n",
    "\n",
    "# Legend\n",
    "N100 = mpatches.Patch(color='r', label='100')\n",
    "N250 = mpatches.Patch(color='b', label='250')\n",
    "N500 = mpatches.Patch(color='g', label='500')\n",
    "N750 = mpatches.Patch(color='m', label='750')\n",
    "N1000 = mpatches.Patch(color='c', label='1000')\n",
    "plt.legend(handles=[N100, N250, N500, N750, N1000])\n",
    "\n",
    "plt.ylim(44, 52)\n",
    "plt.xlim(0, 30)\n",
    "plt.xlabel('Run')\n",
    "plt.ylabel('Nodes activated')\n",
    "plt.title('Greedy algorithm - NC_mini')\n",
    "\n",
    "plt.show()"
   ]
  },
  {
   "cell_type": "markdown",
   "metadata": {},
   "source": [
    "## Part 3: Simulated annealing"
   ]
  },
  {
   "cell_type": "markdown",
   "metadata": {},
   "source": [
    "###Traveling Salesman"
   ]
  },
  {
   "cell_type": "code",
   "execution_count": 4,
   "metadata": {
    "collapsed": false
   },
   "outputs": [
    {
     "data": {
      "image/png": "[encoded data removed]",
      "text/plain": [
       "<matplotlib.figure.Figure at 0x10932e210>"
      ]
     },
     "metadata": {},
     "output_type": "display_data"
    }
   ],
   "source": [
    "# Generate 25 Cities on 2D Euclidean Plane\n",
    "x = np.linspace(1,10,5)\n",
    "y = np.linspace(1,10,5)\n",
    "tmpx, tmpy =  np.meshgrid(x,y)\n",
    "\n",
    "cities = np.array([tmpx, tmpy])\n",
    "cities = np.reshape(cities, (2,-1)).T\n",
    "\n",
    "plt.scatter(cities[:,0], cities[:,1])\n",
    "plt.xlim(0,11)\n",
    "plt.ylim(0,11)\n",
    "plt.show()"
   ]
  },
  {
   "cell_type": "code",
   "execution_count": 5,
   "metadata": {
    "collapsed": true
   },
   "outputs": [],
   "source": [
    "def plot_path(pcities):\n",
    "    plt.plot(pcities[1:,0], pcities[1:,1],'o')\n",
    "    plt.plot(pcities[:,0], pcities[:,1])\n",
    "    plt.plot(pcities[0,0], pcities[0,1], '^')\n",
    "    plt.xlim(np.min(pcities[:,0])-1, np.max(pcities[:,0])+1)\n",
    "    plt.ylim(np.min(pcities[:,1])-1, np.max(pcities[:,1])+1)"
   ]
  },
  {
   "cell_type": "code",
   "execution_count": 6,
   "metadata": {
    "collapsed": true
   },
   "outputs": [],
   "source": [
    "# Helper Function \n",
    "def swapindex(cities):\n",
    "    indices = range(len(cities))\n",
    "    # take two random indices to swap\n",
    "    c1,c2 = np.random.choice(indices, 2, replace=False)\n",
    "    \n",
    "    # remember the cities to swap\n",
    "    tmp1 = cities[c1,:]\n",
    "    tmp2 = cities[c2,:]\n",
    "    \n",
    "    # do the actual swapping\n",
    "    changedCities = cities.copy()\n",
    "    changedCities[c1,:] = tmp2\n",
    "    changedCities[c2,:] = tmp1\n",
    "    \n",
    "    return changedCities\n",
    "\n",
    "def changepath(inputcities, n_swaps):\n",
    "    cities = inputcities.copy()\n",
    "    # Make n_swaps number of swaps\n",
    "    for i in range(n_swaps):\n",
    "        swappedCities = swapindex(cities)\n",
    "        cities=swappedCities.copy()\n",
    "\n",
    "    return cities"
   ]
  },
  {
   "cell_type": "code",
   "execution_count": 8,
   "metadata": {
    "collapsed": true
   },
   "outputs": [],
   "source": [
    "def distance2(citypath, lamb):\n",
    "    distance = 0\n",
    "    number_of_cities = len(citypath)\n",
    "    \n",
    "    # loop over all cities, add uniform error to each distance\n",
    "    for j in xrange(number_of_cities):\n",
    "        if j == (number_of_cities - 1): # FINAL POINT CONNECTS WITH THE FIRST ONE\n",
    "            distance += np.linalg.norm(citypath[j,:] - citypath[0,:]) + lamb * np.random.uniform(0,1)\n",
    "        else:\n",
    "            distance += np.linalg.norm(citypath[j,:] - citypath[j+1,:]) + lamb * np.random.uniform(0,1)\n",
    "    return distance"
   ]
  },
  {
   "cell_type": "code",
   "execution_count": 9,
   "metadata": {
    "collapsed": true
   },
   "outputs": [],
   "source": [
    "def simulated_annealing_tsp(function, initial_X, initial_temp, cool, reanneal, iterr, lamb):\n",
    "    \n",
    "    accepted = 0\n",
    "    X = initial_X.copy()\n",
    "    T = initial_temp\n",
    "    \n",
    "    history = list()\n",
    "    # Evaluate E\n",
    "    #print distance(X)\n",
    "    prev_E = function(X,lamb)\n",
    "    history.append(prev_E)\n",
    "    \n",
    "    for i in xrange(iterr):\n",
    "        # Stepsize\n",
    "        L = int(np.ceil(T))\n",
    "        # Propose new x1 and x2 - Metropolis Algo.\n",
    "        X_star = changepath(X,L)\n",
    "        # Evaluate E\n",
    "        new_E = function(X_star,lamb) \n",
    "        delta_E = new_E - prev_E\n",
    "        \n",
    "        # Flip a coin\n",
    "        U = np.random.uniform()\n",
    "        if U < np.exp(-delta_E / T):\n",
    "            accepted += 1\n",
    "            history.append(new_E)\n",
    "            # Copy X_star to X\n",
    "            X = X_star.copy()\n",
    "            prev_E = new_E\n",
    "\n",
    "        # Check to cool down\n",
    "        if accepted % reanneal == 0:\n",
    "            T *= cool\n",
    "            if T < 0.001: # Reheat\n",
    "                T = 2.\n",
    "            \n",
    "    return X, history"
   ]
  },
  {
   "cell_type": "code",
   "execution_count": 15,
   "metadata": {
    "collapsed": true
   },
   "outputs": [],
   "source": [
    "# lambd = 0\n",
    "initial_temp = 10.\n",
    "cool = 0.9\n",
    "reanneal = 100\n",
    "iterr = 100000\n",
    "lamb = 0\n",
    "path,history = simulated_annealing_tsp(distance2, cities, initial_temp, cool, reanneal, iterr, lamb)"
   ]
  },
  {
   "cell_type": "code",
   "execution_count": 10,
   "metadata": {
    "collapsed": true
   },
   "outputs": [],
   "source": [
    "# lamb = 0.6\n",
    "initial_temp = 10.\n",
    "cool = 0.9\n",
    "reanneal = 100\n",
    "iterr = 100000\n",
    "lamb = 0.6\n",
    "path2,history2 = simulated_annealing_tsp(distance2, cities, initial_temp, cool, reanneal, iterr, lamb)"
   ]
  },
  {
   "cell_type": "code",
   "execution_count": 11,
   "metadata": {
    "collapsed": true
   },
   "outputs": [],
   "source": [
    "# lamb = 0.3\n",
    "initial_temp = 10.\n",
    "cool = 0.9\n",
    "reanneal = 100\n",
    "iterr = 100000\n",
    "lamb = 0.3\n",
    "path3,history3 = simulated_annealing_tsp(distance2, cities, initial_temp, cool, reanneal, iterr, lamb)"
   ]
  },
  {
   "cell_type": "code",
   "execution_count": 12,
   "metadata": {
    "collapsed": true
   },
   "outputs": [],
   "source": [
    "# lamb = 0.1\n",
    "initial_temp = 10.\n",
    "cool = 0.9\n",
    "reanneal = 100\n",
    "iterr = 100000\n",
    "lamb = 0.1\n",
    "path4,history4 = simulated_annealing_tsp(distance2, cities, initial_temp, cool, reanneal, iterr, lamb)"
   ]
  },
  {
   "cell_type": "code",
   "execution_count": 13,
   "metadata": {
    "collapsed": true
   },
   "outputs": [],
   "source": [
    "# lamb = 0.1\n",
    "initial_temp = 10.\n",
    "cool = 0.9\n",
    "reanneal = 100\n",
    "iterr = 100000\n",
    "lamb = 1.0\n",
    "path5,history5 = simulated_annealing_tsp(distance2, cities, initial_temp, cool, reanneal, iterr, lamb)"
   ]
  },
  {
   "cell_type": "code",
   "execution_count": 16,
   "metadata": {
    "collapsed": false
   },
   "outputs": [
    {
     "data": {
      "image/png": "[encoded data removed]",
      "text/plain": [
       "<matplotlib.figure.Figure at 0x1070e5d90>"
      ]
     },
     "metadata": {},
     "output_type": "display_data"
    }
   ],
   "source": [
    "plt.figure(figsize=(12,8))\n",
    "plt.plot(history, label=\"lambda = 0\")\n",
    "plt.plot(history4, label=\"lambda = 0.1\")\n",
    "plt.plot(history3,label=\"lambda = 0.3\")\n",
    "plt.plot(history2,label=\"lambda = 0.5\")\n",
    "plt.plot(history5,label=\"lambda = 1.0\")\n",
    "plt.legend()\n",
    "plt.title(\"History\")\n",
    "plt.ylabel(\"$f(x_1,x_2)$\",fontsize=12)\n",
    "plt.xlabel(\"Accepted\", fontsize=12)\n",
    "# plt.show()\n",
    "plt.savefig('lambda01.pdf',bbox_inches='tight', pad_inches=0)\n"
   ]
  },
  {
   "cell_type": "markdown",
   "metadata": {},
   "source": [
    "###North Carolina"
   ]
  },
  {
   "cell_type": "code",
   "execution_count": 19,
   "metadata": {
    "collapsed": true
   },
   "outputs": [],
   "source": [
    "def swapnodes(nodes, graph):\n",
    "    indices = range(len(nodes))\n",
    "    \n",
    "    # take a random index to swap from the nodes\n",
    "    n1 = np.random.choice(indices, 1)\n",
    "    swapped_node = nodes[n1[0]]\n",
    "    \n",
    "    # take a random index to swap from the whole graph\n",
    "    n2 = np.random.choice(graph.nodes(), 1)\n",
    "        \n",
    "    # We check that we are not choosing the same node we just swapped\n",
    "    while n2 == swapped_node:\n",
    "        n2 = np.random.choice(graph.nodes(), 1)\n",
    "    \n",
    "    nodes[n1] = n2[0]\n",
    "    \n",
    "    return nodes"
   ]
  },
  {
   "cell_type": "code",
   "execution_count": 20,
   "metadata": {
    "collapsed": true
   },
   "outputs": [],
   "source": [
    "def activateNodesOptSA(detStartNodes):\n",
    "\n",
    "    explored = set()\n",
    "    activated = set()\n",
    "    \n",
    "    nodes = []\n",
    "    for node in detStartNodes:\n",
    "        nodes.append(node)\n",
    "        activated.add(node)\n",
    "    \n",
    "    start = detStartNodes[0]\n",
    "    successors = []\n",
    "\n",
    "    while len(nodes)>0:\n",
    "\n",
    "        startNode = nodes[0]\n",
    "\n",
    "        if startNode not in explored:\n",
    "\n",
    "            explored.add(startNode)\n",
    "\n",
    "            successors = []\n",
    "            for succNode in NC_digraph.succ[startNode]:\n",
    "\n",
    "                if succNode not in activated:\n",
    "\n",
    "                    alpha = NC_digraph[startNode][succNode]['weight']\n",
    "                    beta = NC_digraph.node[succNode]['review_count']\n",
    "\n",
    "                    if random.uniform(0,1) < np.sqrt(random.beta(alpha, beta)):\n",
    "                        if succNode not in explored:\n",
    "                            activated.add(succNode)\n",
    "                            successors.append(succNode)\n",
    "\n",
    "        nodes = nodes[1:]\n",
    "        nodes = nodes + successors\n",
    "\n",
    "    return len(activated)\n",
    "\n",
    "def activateNodesLoopSA(N, startNodes):\n",
    "\n",
    "    iterations = sc.parallelize(xrange(N), 4)\n",
    "    activatedNodes = iterations.map(lambda x: (activateNodesOptSA(startNodes)))\n",
    "    \n",
    "    return activatedNodes.mean()"
   ]
  },
  {
   "cell_type": "code",
   "execution_count": 21,
   "metadata": {
    "collapsed": true
   },
   "outputs": [],
   "source": [
    "def simulated_annealing_tsp(function, initial_X, graph, N, initial_temp, cool, reanneal, iterr):\n",
    "    \n",
    "    accepted = 0\n",
    "    X = initial_X\n",
    "    T = initial_temp\n",
    "    \n",
    "    history = list()\n",
    "    # Evaluate E\n",
    "    #print distance(X)\n",
    "    prev_E = function(N, X)\n",
    "    history.append(prev_E)\n",
    "    \n",
    "    for i in xrange(iterr):\n",
    "        # Stepsize\n",
    "        L = int(np.ceil(T))\n",
    "        # Propose new x1 and x2 - Metropolis Algo.\n",
    "        X_star = swapnodes(X, graph)\n",
    "        # Evaluate E\n",
    "        new_E = function(N, X_star) \n",
    "        delta_E = prev_E - new_E\n",
    "        \n",
    "        # Flip a coin\n",
    "        U = np.random.uniform()\n",
    "        if U < np.exp(-delta_E / T):\n",
    "            accepted += 1\n",
    "            history.append(new_E)\n",
    "            # Copy X_star to X\n",
    "            X = X_star\n",
    "            prev_E = new_E\n",
    "\n",
    "        # Check to cool down\n",
    "        if accepted % reanneal == 0:\n",
    "            T *= cool\n",
    "            if T < 0.001: # Reheat\n",
    "                T = 2.\n",
    "            \n",
    "    return X, history"
   ]
  },
  {
   "cell_type": "code",
   "execution_count": 22,
   "metadata": {
    "collapsed": false
   },
   "outputs": [],
   "source": [
    "startNodes = random.choice(NC_digraph.nodes(),3)\n",
    "initial_temp = 2.5\n",
    "cool = 0.9\n",
    "reanneal = 100\n",
    "iterr = 5000\n",
    "N = 500\n",
    "path, history = simulated_annealing_tsp(activateNodesLoopSA, startNodes, NC_digraph, N,  initial_temp, cool, reanneal, iterr)"
   ]
  },
  {
   "cell_type": "code",
   "execution_count": 23,
   "metadata": {
    "collapsed": false
   },
   "outputs": [
    {
     "name": "stdout",
     "output_type": "stream",
     "text": [
      "[u'e2j5nTQ2dnkB--pJakcUSA' u'UmCAhWcU_abaaESenKUiLw'\n",
      " u'UCK9qP7EyBYWHZiN0ckdpw']\n"
     ]
    },
    {
     "data": {
      "image/png": "[encoded data removed]",
      "text/plain": [
       "<matplotlib.figure.Figure at 0x10978a710>"
      ]
     },
     "metadata": {},
     "output_type": "display_data"
    }
   ],
   "source": [
    "print path\n",
    "plt.figure(figsize=(12,8))\n",
    "plt.plot(history)\n",
    "plt.title(\"History\")\n",
    "plt.ylabel(\"$f(x_1,x_2)$\",fontsize=12)\n",
    "plt.xlabel(\"Accepted\", fontsize=12)\n",
    "plt.show()"
   ]
  }
 ],
 "metadata": {
  "kernelspec": {
   "display_name": "Python 2",
   "language": "python",
   "name": "python2"
  },
  "language_info": {
   "codemirror_mode": {
    "name": "ipython",
    "version": 2
   },
   "file_extension": ".py",
   "mimetype": "text/x-python",
   "name": "python",
   "nbconvert_exporter": "python",
   "pygments_lexer": "ipython2",
   "version": "2.7.10"
  }
 },
 "nbformat": 4,
 "nbformat_minor": 0
}
