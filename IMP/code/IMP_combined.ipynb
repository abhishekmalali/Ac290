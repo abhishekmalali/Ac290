{
 "cells": [
  {
   "cell_type": "markdown",
   "metadata": {},
   "source": [
    "Import libraries:"
   ]
  },
  {
   "cell_type": "code",
   "execution_count": 29,
   "metadata": {
    "collapsed": true
   },
   "outputs": [],
   "source": [
    "%matplotlib inline\n",
    "import matplotlib.pyplot as plt\n",
    "import matplotlib.patches as mpatches\n",
    "import time\n",
    "import numpy as np\n",
    "from numpy import random\n",
    "import math\n",
    "import scipy\n",
    "from scipy import stats\n",
    "from random import choice\n",
    "import networkx as nx\n",
    "import json\n",
    "from networkx.readwrite import json_graph\n",
    "import line_profiler\n",
    "import IPython\n",
    "ip = IPython.get_ipython()\n",
    "ip.define_magic('lprun', line_profiler.magic_lprun)"
   ]
  },
  {
   "cell_type": "code",
   "execution_count": 21,
   "metadata": {
    "collapsed": true
   },
   "outputs": [],
   "source": [
    "import findspark\n",
    "import os\n",
    "findspark.init()\n",
    "import pyspark\n",
    "sc = pyspark.SparkContext()"
   ]
  },
  {
   "cell_type": "markdown",
   "metadata": {},
   "source": [
    "Load graph & related functions:"
   ]
  },
  {
   "cell_type": "code",
   "execution_count": 2,
   "metadata": {
    "collapsed": true
   },
   "outputs": [],
   "source": [
    "with open(\"graph/nc_mini.json\", \"r\") as graph_data:\n",
    "    graph_data = json.load(graph_data)\n",
    "    NC_digraph = json_graph.node_link_graph(graph_data)"
   ]
  },
  {
   "cell_type": "code",
   "execution_count": 3,
   "metadata": {
    "collapsed": true
   },
   "outputs": [],
   "source": [
    "# Function to print graph\n",
    "def print_graph(Graph, S1=None):\n",
    "    plt.figure(figsize=(16,10))\n",
    "    color_map = {1: 'b', 0: 'r'}\n",
    "    pos = nx.random_layout(Graph)\n",
    "    \n",
    "    if S1:\n",
    "        nx.draw_networkx(Graph, pos, with_labels=False, node_size=100, node_shape='.',\n",
    "                linewidth=None, width=0.2, edge_color='y', \n",
    "                node_color=[color_map[Graph.node[node]['action']] for node in Graph],\n",
    "                edgelist=reduce(lambda x,y: x+y,[Graph.edges(node) for node in S1]))\n",
    "        nx.draw_networkx_nodes(Graph, pos, nodelist=S1, node_color=\"b\", node_size=150, \n",
    "                              node_shape=\"*\", label=\"Initial Set\")\n",
    "        plt.legend()\n",
    "    else:\n",
    "        nx.draw_networkx(Graph, pos, with_labels=False, node_size=100, node_shape='.',\n",
    "                linewidth=None, width=0.2, edge_color='y', \n",
    "                 node_color=[color_map[Graph.node[node]['action']] for node in Graph])\n",
    "        \n",
    "    plt.xlim(-0.05,1.05)\n",
    "    plt.ylim(-0.05,1.05)\n",
    "    plt.xticks([])\n",
    "    plt.yticks([])\n",
    "    plt.show()"
   ]
  },
  {
   "cell_type": "markdown",
   "metadata": {},
   "source": [
    "## Part 1: Influence function:"
   ]
  },
  {
   "cell_type": "markdown",
   "metadata": {},
   "source": [
    "### Single start node"
   ]
  },
  {
   "cell_type": "code",
   "execution_count": 4,
   "metadata": {
    "collapsed": true
   },
   "outputs": [],
   "source": [
    "def activateNodes(detStart, detRandSeed):\n",
    "\n",
    "    nx.set_node_attributes(NC_digraph, 'activated', False)\n",
    "    nx.set_node_attributes(NC_digraph, 'explored', False)\n",
    "    \n",
    "    if detStart is None:\n",
    "        if detRandSeed is not None:\n",
    "            random.seed()\n",
    "        start = random.choice(NC_digraph.nodes(), 1)\n",
    "    else:\n",
    "        start = detStart\n",
    "    \n",
    "    nodes = [start[0]]\n",
    "\n",
    "    activated = 1\n",
    "    \n",
    "    NC_digraph.node[start[0]]['activated'] = True\n",
    "    \n",
    "    while len(nodes)>0:\n",
    "\n",
    "        startNode = nodes[0]\n",
    "\n",
    "        if NC_digraph.node[startNode]['explored']==False:\n",
    "\n",
    "            NC_digraph.node[startNode]['explored'] = True\n",
    "\n",
    "            successors = []\n",
    "\n",
    "            for succNode in NC_digraph.succ[startNode]:\n",
    "\n",
    "                if NC_digraph.node[succNode]['activated']==False:\n",
    "\n",
    "                    alpha = NC_digraph[startNode][succNode]['weight']\n",
    "                    beta = NC_digraph.node[succNode]['review_count']\n",
    "\n",
    "                    if detRandSeed is not None:\n",
    "                        random.seed(detRandSeed)\n",
    "                    randUnif = random.uniform(0,1)\n",
    "                    if detRandSeed is not None:\n",
    "                        random.seed(detRandSeed)\n",
    "                    randBeta = np.sqrt(random.beta(alpha, beta))\n",
    "\n",
    "                    if randUnif < randBeta:\n",
    "                        NC_digraph.node[succNode]['activated'] = True\n",
    "                        successors.append(succNode)\n",
    "                        activated = activated + 1\n",
    "\n",
    "        nodes = nodes[1:]\n",
    "        nodes = nodes + successors\n",
    "\n",
    "    return activated\n",
    "\n",
    "def activateNodesLoop(N, rootSeed=None, randNumSeed=None):\n",
    "    \n",
    "    if rootSeed is not None and randNumSeed is not None:\n",
    "        random.seed(rootSeed) \n",
    "        detStart = random.choice(NC_digraph.nodes(), 1) # deterministic start node\n",
    "        detRandSeed = randNumSeed # deterministic random variables\n",
    "    elif rootSeed is None and randNumSeed is None:\n",
    "        random.seed()\n",
    "        detStart = None # stochastic start node\n",
    "        detRandSeed = None # stochastic random variables\n",
    "    elif rootSeed is not None and randNumSeed is None:\n",
    "        random.seed(rootSeed) \n",
    "        detStart = random.choice(NC_digraph.nodes(), 1) # deterministic start node\n",
    "        random.seed()\n",
    "        detRandSeed = None # stochastic random variables\n",
    "    elif rootSeed is None and randNumSeed is not None:\n",
    "        detStart = None # stochastic start node\n",
    "        detRandSeed = randNumSeed # deterministic random variables\n",
    "\n",
    "    result = []\n",
    "\n",
    "    for n in xrange(N):\n",
    "        result.append(float(activateNodes(detStart, detRandSeed)))\n",
    "        \n",
    "    return result"
   ]
  },
  {
   "cell_type": "markdown",
   "metadata": {},
   "source": [
    "#### Checking function behavior:"
   ]
  },
  {
   "cell_type": "markdown",
   "metadata": {},
   "source": [
    "1) Test results with given starting parameters:"
   ]
  },
  {
   "cell_type": "code",
   "execution_count": 5,
   "metadata": {
    "collapsed": false
   },
   "outputs": [],
   "source": [
    "assert activateNodesLoop(N=1, rootSeed=9, randNumSeed=9)[0] == 141\n",
    "assert activateNodesLoop(N=1, rootSeed=12, randNumSeed=12)[0] == 1\n",
    "assert activateNodesLoop(N=1, rootSeed=24, randNumSeed=12)[0] == 4"
   ]
  },
  {
   "cell_type": "markdown",
   "metadata": {},
   "source": [
    "2) Test mean and standard deviation (should be ~9.5 and ~14):"
   ]
  },
  {
   "cell_type": "code",
   "execution_count": 32,
   "metadata": {
    "collapsed": false
   },
   "outputs": [
    {
     "name": "stdout",
     "output_type": "stream",
     "text": [
      "10.539000 mean, 15.478646 standard deviation\n"
     ]
    },
    {
     "data": {
      "image/png": "[encoded data removed]",
      "text/plain": [
       "<matplotlib.figure.Figure at 0x107c8b4d0>"
      ]
     },
     "metadata": {},
     "output_type": "display_data"
    }
   ],
   "source": [
    "result = activateNodesLoop(N=1000, rootSeed=24, randNumSeed=None)\n",
    "print '%f mean, %f standard deviation' % (np.mean(result), np.std(result))\n",
    "plt.hist(result, bins=range(int(max(result))))\n",
    "plt.title('Influence function results - 1,000 runs')\n",
    "plt.show()"
   ]
  },
  {
   "cell_type": "markdown",
   "metadata": {},
   "source": [
    "3) Check runtime and profile code:"
   ]
  },
  {
   "cell_type": "code",
   "execution_count": 7,
   "metadata": {
    "collapsed": false
   },
   "outputs": [
    {
     "name": "stdout",
     "output_type": "stream",
     "text": [
      "CPU times: user 690 ms, sys: 13.6 ms, total: 704 ms\n",
      "Wall time: 1.12 s\n"
     ]
    }
   ],
   "source": [
    "%time result = activateNodesLoop(N=1000, rootSeed=24, randNumSeed=None)"
   ]
  },
  {
   "cell_type": "code",
   "execution_count": 10,
   "metadata": {
    "collapsed": false
   },
   "outputs": [],
   "source": [
    "%lprun -f activateNodes result = activateNodesLoop(N=1000, rootSeed=24, randNumSeed=None)"
   ]
  },
  {
   "cell_type": "markdown",
   "metadata": {},
   "source": [
    "4) Determine standard error as a function of N: "
   ]
  },
  {
   "cell_type": "code",
   "execution_count": 12,
   "metadata": {
    "collapsed": false
   },
   "outputs": [],
   "source": [
    "# Saved results loaded below\n",
    "# stdErr = dict()\n",
    "# stdErr = {i: 0 for i in range(100,1150,50)}\n",
    "\n",
    "# for k in stdErr.keys():\n",
    "#     results = []\n",
    "#     for i in xrange(100):\n",
    "#         results.append(np.mean(activateNodesLoop(N=int(k), rootSeed=24, randNumSeed=None)))\n",
    "#     fd = open(\"data/SE-NC_mini-N=\" + str(k) + \".json\",\"w\")\n",
    "#     json.dump(results, fd)\n",
    "#     fd.close()\n",
    "#     del results"
   ]
  },
  {
   "cell_type": "code",
   "execution_count": 79,
   "metadata": {
    "collapsed": false
   },
   "outputs": [
    {
     "data": {
      "image/png": "[encoded data removed]",
      "text/plain": [
       "<matplotlib.figure.Figure at 0x10aa2ec50>"
      ]
     },
     "metadata": {},
     "output_type": "display_data"
    }
   ],
   "source": [
    "stdErrMini = dict()\n",
    "\n",
    "for k in range(100,1050,50):\n",
    "\n",
    "    with open(\"data/SE-NC_mini-N=\" + str(k) + \".json\", \"r\") as fd:\n",
    "        results = json.load(fd)\n",
    "        \n",
    "    stdErrMini[k] = np.std(results)\n",
    "    \n",
    "plt.plot(stdErrMini.keys(), stdErrMini.values(), 'o-', color='r', linestyle='None', markersize=8)\n",
    "plt.title('Standard error - NC_mini')\n",
    "plt.xlabel('N')\n",
    "plt.ylabel('Standard error')\n",
    "plt.xlim(xmin=0, xmax=1000)\n",
    "plt.ylim(ymin=0, ymax=3)\n",
    "plt.show()"
   ]
  },
  {
   "cell_type": "code",
   "execution_count": 80,
   "metadata": {
    "collapsed": false
   },
   "outputs": [
    {
     "name": "stdout",
     "output_type": "stream",
     "text": [
      "lambda = 0.490183\n",
      "alpha = 13.485154\n"
     ]
    }
   ],
   "source": [
    "yMini = [math.log(i) for i in stdErrMini.values()]\n",
    "xMini = [math.log(i) for i in stdErrMini.keys()]\n",
    "slopeMini, interceptMini, r_valueMini, p_valueMini, std_errMini = scipy.stats.linregress(xMini, yMini)\n",
    "print 'lambda = %f' % (-slopeMini)\n",
    "print 'alpha = %f' % (math.exp(interceptMini))"
   ]
  },
  {
   "cell_type": "code",
   "execution_count": 92,
   "metadata": {
    "collapsed": false
   },
   "outputs": [
    {
     "data": {
      "image/png": "[encoded data removed]",
      "text/plain": [
       "<matplotlib.figure.Figure at 0x10a3d5990>"
      ]
     },
     "metadata": {},
     "output_type": "display_data"
    }
   ],
   "source": [
    "keys = [math.log(i) for i in stdErrMini.keys()]\n",
    "keys.sort()\n",
    "solution = [interceptMini + slopeMini*n for n in keys]\n",
    "\n",
    "plt.plot(xMini, [math.log(i) for i in stdErrMini.values()], 'o-', color='r', linestyle='None', markersize=8)\n",
    "plt.plot(keys, solution)\n",
    "plt.title('Determining lambda and alpha - NC_mini')\n",
    "plt.xlabel('log-N')\n",
    "plt.ylabel('log-SE')\n",
    "plt.xlim(xmin=4, xmax=7)\n",
    "plt.ylim(ymin=-1, ymax=0.6)\n",
    "plt.show()"
   ]
  },
  {
   "cell_type": "markdown",
   "metadata": {},
   "source": [
    "5) Repeat the same excercise for the NC_full graph:"
   ]
  },
  {
   "cell_type": "code",
   "execution_count": 83,
   "metadata": {
    "collapsed": false
   },
   "outputs": [
    {
     "data": {
      "image/png": "[encoded data removed]",
      "text/plain": [
       "<matplotlib.figure.Figure at 0x10aec16d0>"
      ]
     },
     "metadata": {},
     "output_type": "display_data"
    }
   ],
   "source": [
    "plot_range = [100,250,500,750,1000]\n",
    "\n",
    "stdErrFull = dict()\n",
    "\n",
    "for k in plot_range:\n",
    "\n",
    "    with open(\"data/SE-NC_full-N=\" + str(k) + \".json\", \"r\") as fd:\n",
    "        results = json.load(fd)\n",
    "        \n",
    "    stdErrFull[k] = np.std(results)\n",
    "    \n",
    "plt.plot(stdErrFull.keys(), stdErrFull.values(), 'o-', color='r', linestyle='None', markersize=8)\n",
    "plt.title('Standard error - NC_full')\n",
    "plt.xlabel('N')\n",
    "plt.ylabel('Standard error')\n",
    "plt.xlim(xmin=0, xmax=1000)\n",
    "plt.ylim(ymin=0, ymax=3)\n",
    "plt.show()"
   ]
  },
  {
   "cell_type": "code",
   "execution_count": 85,
   "metadata": {
    "collapsed": false
   },
   "outputs": [
    {
     "name": "stdout",
     "output_type": "stream",
     "text": [
      "lambda = 0.479969\n",
      "alpha = 21.769997\n"
     ]
    }
   ],
   "source": [
    "yFull = [math.log(i) for i in stdErrFull.values()]\n",
    "xFull = [math.log(i) for i in stdErrFull.keys()]\n",
    "slopeFull, interceptFull, r_valueFull, p_valueFull, std_errFull = scipy.stats.linregress(xFull, yFull)\n",
    "print 'lambda = %f' % (-slopeFull)\n",
    "print 'alpha = %f' % (math.exp(interceptFull))"
   ]
  },
  {
   "cell_type": "code",
   "execution_count": 89,
   "metadata": {
    "collapsed": false
   },
   "outputs": [
    {
     "data": {
      "image/png": "[encoded data removed]",
      "text/plain": [
       "<matplotlib.figure.Figure at 0x10afe4650>"
      ]
     },
     "metadata": {},
     "output_type": "display_data"
    }
   ],
   "source": [
    "keys = [math.log(i) for i in stdErrFull.keys()]\n",
    "keys.sort()\n",
    "solution = [interceptFull + slopeFull*n for n in keys]\n",
    "\n",
    "plt.plot(xFull, [math.log(i) for i in stdErrFull.values()], 'o-', color='r', linestyle='None', markersize=8)\n",
    "plt.plot(keys, solution)\n",
    "plt.title('Determining lambda and alpha - NC_full')\n",
    "plt.xlabel('log-N')\n",
    "plt.ylabel('log-SE')\n",
    "plt.xlim(xmin=4, xmax=7)\n",
    "plt.ylim(ymin=-1, ymax=1)\n",
    "plt.show()"
   ]
  },
  {
   "cell_type": "markdown",
   "metadata": {},
   "source": [
    "### Multiple start nodes"
   ]
  },
  {
   "cell_type": "code",
   "execution_count": 35,
   "metadata": {
    "collapsed": true
   },
   "outputs": [],
   "source": [
    "def activateNodesOptSN(detStartNodes):\n",
    "\n",
    "    nx.set_node_attributes(NC_digraph, 'activated', False)\n",
    "    nx.set_node_attributes(NC_digraph, 'explored', False)\n",
    "    \n",
    "    activated = 0\n",
    "    nodes = []\n",
    "    \n",
    "    for n in detStartNodes:\n",
    "        nodes.append(n)\n",
    "        NC_digraph.node[n]['activated'] = True\n",
    "        activated = activated + 1\n",
    "    \n",
    "    start = nodes[0]\n",
    "\n",
    "    while len(nodes)>0:\n",
    "\n",
    "        startNode = nodes[0]\n",
    "\n",
    "        if NC_digraph.node[startNode]['explored']==False:\n",
    "\n",
    "            NC_digraph.node[startNode]['explored'] = True\n",
    "\n",
    "            successors = []\n",
    "\n",
    "            for succNode in NC_digraph.succ[startNode]:\n",
    "\n",
    "                if NC_digraph.node[succNode]['activated']==False:\n",
    "\n",
    "                    alpha = NC_digraph[startNode][succNode]['weight']\n",
    "                    beta = NC_digraph.node[succNode]['review_count']\n",
    "\n",
    "                    randUnif = random.uniform(0,1)\n",
    "                    randBeta = np.sqrt(random.beta(alpha, beta))\n",
    "\n",
    "                    if randUnif < randBeta:\n",
    "                        NC_digraph.node[succNode]['activated'] = True\n",
    "                        successors.append(succNode)\n",
    "                        activated = activated + 1\n",
    "\n",
    "        nodes = nodes[1:]\n",
    "        nodes = nodes + successors\n",
    "\n",
    "    return activated\n",
    "\n",
    "def activateNodesLoopSN(N, startNodes):\n",
    "    \n",
    "    detStartNodes = startNodes\n",
    "    random.seed()\n",
    "    \n",
    "    result = []\n",
    "\n",
    "    for n in xrange(N):\n",
    "        result.append(float(activateNodesOptSN(detStartNodes)))\n",
    "        \n",
    "    return result"
   ]
  },
  {
   "cell_type": "markdown",
   "metadata": {},
   "source": [
    "1) Test mean and standard deviation (should be ~13.5 and ~16):"
   ]
  },
  {
   "cell_type": "code",
   "execution_count": 17,
   "metadata": {
    "collapsed": false
   },
   "outputs": [
    {
     "name": "stdout",
     "output_type": "stream",
     "text": [
      "13.316000 mean, 16.254419 standard deviation\n"
     ]
    }
   ],
   "source": [
    "startNodes = ['E6Eh1bz6fpo6EOPtctA-sg', 'VFOwxpOWH9RZ3iMelkRd7A']\n",
    "result = activateNodesLoopSN(10000, startNodes)\n",
    "print '%f mean, %f standard deviation' % (np.mean(result), np.std(result))"
   ]
  },
  {
   "cell_type": "markdown",
   "metadata": {},
   "source": [
    "2) Check runtime:"
   ]
  },
  {
   "cell_type": "code",
   "execution_count": 18,
   "metadata": {
    "collapsed": false
   },
   "outputs": [
    {
     "name": "stdout",
     "output_type": "stream",
     "text": [
      "CPU times: user 7.55 s, sys: 56.9 ms, total: 7.61 s\n",
      "Wall time: 11 s\n"
     ]
    }
   ],
   "source": [
    "%time result = activateNodesLoopSN(10000, startNodes)"
   ]
  },
  {
   "cell_type": "markdown",
   "metadata": {},
   "source": [
    "## Part 2: Greedy algorithm"
   ]
  },
  {
   "cell_type": "code",
   "execution_count": 19,
   "metadata": {
    "collapsed": true
   },
   "outputs": [],
   "source": [
    "def activateNodesOptGreedy(detStartNodes):\n",
    "\n",
    "    activated = set()\n",
    "    explored = set()\n",
    "\n",
    "    nodes = []\n",
    "    \n",
    "    for n in detStartNodes:\n",
    "        nodes.append(n)\n",
    "        activated.add(n)\n",
    "    \n",
    "    start = nodes[0]\n",
    "    \n",
    "    successors = []\n",
    "\n",
    "    while len(nodes)>0:\n",
    "\n",
    "        startNode = nodes[0]\n",
    "\n",
    "        if startNode not in explored:\n",
    "\n",
    "            explored.add(startNode)\n",
    "\n",
    "            successors = []\n",
    "\n",
    "            for succNode in NC_digraph.succ[startNode]:\n",
    "\n",
    "                if succNode not in activated:\n",
    "\n",
    "                    alpha = NC_digraph[startNode][succNode]['weight']\n",
    "                    beta = NC_digraph.node[succNode]['review_count']\n",
    "\n",
    "                    randUnif = random.uniform(0,1)\n",
    "                    randBeta = np.sqrt(random.beta(alpha, beta))\n",
    "\n",
    "                    if randUnif < randBeta:\n",
    "                        activated.add(succNode)\n",
    "                        successors.append(succNode)\n",
    "\n",
    "        nodes = nodes[1:]\n",
    "        nodes = nodes + successors\n",
    "\n",
    "    return len(activated)\n",
    "\n",
    "def activateNodesLoopGreedy(N, startNodes):\n",
    "    \n",
    "    random.seed()\n",
    "    searchNodes = NC_digraph.nodes()\n",
    "    actNodeOpt = []\n",
    "    \n",
    "    for s in range(startNodes):\n",
    "        maxActNode = 0\n",
    "        maxActNodeStart = []\n",
    "\n",
    "        for n in searchNodes:\n",
    "            detStartNodes = actNodeOpt + [n]\n",
    "            result = []\n",
    "            for r in xrange(N):\n",
    "                result.append(float(activateNodesOptGreedy(detStartNodes)))\n",
    "            act = np.mean(result)\n",
    "            if act>maxActNode:\n",
    "                maxActNode = act\n",
    "                maxActNodeStart = n\n",
    "            \n",
    "        searchNodes.remove(maxActNodeStart)\n",
    "        actNodeOpt.append(maxActNodeStart)\n",
    "    \n",
    "    return actNodeOpt, maxActNode"
   ]
  },
  {
   "cell_type": "markdown",
   "metadata": {
    "collapsed": true
   },
   "source": [
    "1) Check runtime:"
   ]
  },
  {
   "cell_type": "code",
   "execution_count": 20,
   "metadata": {
    "collapsed": false
   },
   "outputs": [
    {
     "name": "stdout",
     "output_type": "stream",
     "text": [
      "CPU times: user 7min 38s, sys: 3.8 s, total: 7min 42s\n",
      "Wall time: 9min 20s\n",
      "Optimal nodes: [u'NzWLMPvbEval0OVg_YDn4g', u'VhI6xyylcAxi0wOy2HOX3w', u'ts7EG6Zv2zdMDg29nyqGfA']\n",
      "Average of 46 nodes activated\n"
     ]
    }
   ],
   "source": [
    "%time solNodes, solActivated = activateNodesLoopGreedy(1000, 3)\n",
    "print 'Optimal nodes: %s\\nAverage of %d nodes activated' % (solNodes, solActivated)"
   ]
  },
  {
   "cell_type": "markdown",
   "metadata": {},
   "source": [
    "2) Run on Spark and compare results for N = 100, 250, 500, 750, 1,000:"
   ]
  },
  {
   "cell_type": "code",
   "execution_count": 25,
   "metadata": {
    "collapsed": true
   },
   "outputs": [],
   "source": [
    "# Saved results loaded below\n",
    "# start = 1\n",
    "# noRuns = 30\n",
    "# greedyN = 100\n",
    "# runs = sc.parallelize(range(start, start + noRuns))\n",
    "# results = runs.map(lambda x: (x, activateNodesLoopGreedy(greedyN, 3)))\n",
    "# results_list = results.collect()\n",
    "# fd = open(\"data/greedy-\" + str(noRuns) + \"x-N=\" + str(greedyN) + \".json\",\"w\")\n",
    "# json.dump(results_list, fd)\n",
    "# fd.close()\n",
    "# del results"
   ]
  },
  {
   "cell_type": "code",
   "execution_count": 26,
   "metadata": {
    "collapsed": true
   },
   "outputs": [],
   "source": [
    "noRuns = 30\n",
    "\n",
    "delta_graph_axis = []\n",
    "delta_graph_data = []\n",
    "\n",
    "axis_plot = dict()\n",
    "results_plot = dict()\n",
    "f_min = dict()\n",
    "f_max = dict()\n",
    "\n",
    "for greedyN in [100, 250, 500, 750, 1000]:\n",
    "    \n",
    "    with open(\"data/greedy-\" + str(noRuns) + \"x-N=\" + str(greedyN) + \".json\", \"r\") as fd:\n",
    "        results = json.load(fd)\n",
    "        \n",
    "    # For delta graph\n",
    "    actNodes = [r[1][1] for r in results]\n",
    "    delta_graph_axis.append(greedyN)\n",
    "    delta_graph_data.append(min(actNodes)/max(actNodes))\n",
    "    \n",
    "    # For scatter plot\n",
    "    axis_plot[greedyN] = [r[0] for r in results]\n",
    "    results_plot[greedyN] = [r[1][1] for r in results]\n",
    "    f_min[greedyN] = min(results_plot[greedyN])\n",
    "    f_max[greedyN] = max(results_plot[greedyN])"
   ]
  },
  {
   "cell_type": "code",
   "execution_count": 27,
   "metadata": {
    "collapsed": false
   },
   "outputs": [
    {
     "data": {
      "image/png": "[encoded data removed]",
      "text/plain": [
       "<matplotlib.figure.Figure at 0x109f23e10>"
      ]
     },
     "metadata": {},
     "output_type": "display_data"
    }
   ],
   "source": [
    "plt.scatter(delta_graph_axis, delta_graph_data)\n",
    "plt.xlim(0, 1000)\n",
    "plt.ylim(0.8, 1)\n",
    "plt.xlabel('N')\n",
    "plt.ylabel('delta')\n",
    "plt.title('Delta = f-min/f-max')\n",
    "plt.show()"
   ]
  },
  {
   "cell_type": "code",
   "execution_count": 30,
   "metadata": {
    "collapsed": false
   },
   "outputs": [
    {
     "data": {
      "image/png": "[encoded data removed]",
      "text/plain": [
       "<matplotlib.figure.Figure at 0x1079b5910>"
      ]
     },
     "metadata": {},
     "output_type": "display_data"
    }
   ],
   "source": [
    "fig = plt.figure(figsize=(10, 5))\n",
    "\n",
    "# Scatter plots\n",
    "plt.scatter(axis_plot[100], results_plot[100], color='r')\n",
    "plt.scatter(axis_plot[250], results_plot[250], color='b')\n",
    "plt.scatter(axis_plot[500], results_plot[500], color='g')\n",
    "plt.scatter(axis_plot[750], results_plot[750], color='m')\n",
    "plt.scatter(axis_plot[1000], results_plot[1000], color='c')\n",
    "\n",
    "# Min lines\n",
    "plt.plot([0, 30], [f_min[100], f_min[100]], color='r', ls=\"--\")\n",
    "plt.plot([0, 30], [f_min[250], f_min[250]], color='b', ls=\"--\")\n",
    "plt.plot([0, 30], [f_min[500], f_min[500]], color='g', ls=\"--\")\n",
    "plt.plot([0, 30], [f_min[750], f_min[750]], color='m', ls=\"--\")\n",
    "plt.plot([0, 30], [f_min[1000], f_min[1000]], color='c', ls=\"--\")\n",
    "\n",
    "# Max lines\n",
    "plt.plot([0, 30], [f_max[100], f_max[100]], color='r', ls=\"--\")\n",
    "plt.plot([0, 30], [f_max[250], f_max[250]], color='b', ls=\"--\")\n",
    "plt.plot([0, 30], [f_max[500], f_max[500]], color='g', ls=\"--\")\n",
    "plt.plot([0, 30], [f_max[750], f_max[750]], color='b', ls=\"--\")\n",
    "plt.plot([0, 30], [f_max[1000], f_max[1000]], color='c', ls=\"--\")\n",
    "\n",
    "# Legend\n",
    "N100 = mpatches.Patch(color='r', label='100')\n",
    "N250 = mpatches.Patch(color='b', label='250')\n",
    "N500 = mpatches.Patch(color='g', label='500')\n",
    "N750 = mpatches.Patch(color='m', label='750')\n",
    "N1000 = mpatches.Patch(color='c', label='1000')\n",
    "plt.legend(handles=[N100, N250, N500, N750, N1000])\n",
    "\n",
    "plt.ylim(44, 52)\n",
    "plt.xlim(0, 30)\n",
    "plt.xlabel('Run')\n",
    "plt.ylabel('Nodes activated')\n",
    "plt.title('Greedy algorithm')\n",
    "\n",
    "plt.show()"
   ]
  },
  {
   "cell_type": "markdown",
   "metadata": {},
   "source": [
    "## Part 3: Simulated annealing"
   ]
  },
  {
   "cell_type": "code",
   "execution_count": 50,
   "metadata": {
    "collapsed": true
   },
   "outputs": [],
   "source": [
    "def swapnodes(nodes, graph):\n",
    "    indices = range(len(nodes))\n",
    "    \n",
    "    # take a random index to swap from the nodes\n",
    "    n1 = np.random.choice(indices, 1)\n",
    "    swapped_node = nodes[n1[0]]\n",
    "    \n",
    "    # take a random index to swap from the whole graph\n",
    "    n2 = np.random.choice(graph.nodes(), 1)\n",
    "        \n",
    "    # We check that we are not choosing the same node we just swapped\n",
    "    while n2 == swapped_node:\n",
    "        n2 = np.random.choice(graph.nodes(), 1)\n",
    "    \n",
    "    nodes[n1] = n2[0]\n",
    "    \n",
    "    return nodes"
   ]
  },
  {
   "cell_type": "code",
   "execution_count": 51,
   "metadata": {
    "collapsed": true
   },
   "outputs": [],
   "source": [
    "def activateNodesOptSA(detStartNodes):\n",
    "\n",
    "    explored = set()\n",
    "    activated = set()\n",
    "    \n",
    "    nodes = []\n",
    "    for node in detStartNodes:\n",
    "        nodes.append(node)\n",
    "        activated.add(node)\n",
    "    \n",
    "    start = detStartNodes[0]\n",
    "    successors = []\n",
    "\n",
    "    while len(nodes)>0:\n",
    "\n",
    "        startNode = nodes[0]\n",
    "\n",
    "        if startNode not in explored:\n",
    "\n",
    "            explored.add(startNode)\n",
    "\n",
    "            successors = []\n",
    "            for succNode in NC_digraph.succ[startNode]:\n",
    "\n",
    "                if succNode not in activated:\n",
    "\n",
    "                    alpha = NC_digraph[startNode][succNode]['weight']\n",
    "                    beta = NC_digraph.node[succNode]['review_count']\n",
    "\n",
    "                    if random.uniform(0,1) < np.sqrt(random.beta(alpha, beta)):\n",
    "                        if succNode not in explored:\n",
    "                            activated.add(succNode)\n",
    "                            successors.append(succNode)\n",
    "\n",
    "        nodes = nodes[1:]\n",
    "        nodes = nodes + successors\n",
    "\n",
    "    return len(activated)\n",
    "\n",
    "def activateNodesLoopSA(N, startNodes):\n",
    "\n",
    "    iterations = sc.parallelize(xrange(N), 4)\n",
    "    activatedNodes = iterations.map(lambda x: (activateNodesOptSA(startNodes)))\n",
    "    \n",
    "    return activatedNodes.mean()"
   ]
  },
  {
   "cell_type": "code",
   "execution_count": 52,
   "metadata": {
    "collapsed": true
   },
   "outputs": [],
   "source": [
    "def simulated_annealing_tsp(function, initial_X, graph, N, initial_temp, cool, reanneal, iterr):\n",
    "    \n",
    "    accepted = 0\n",
    "    X = initial_X\n",
    "    T = initial_temp\n",
    "    \n",
    "    history = list()\n",
    "    # Evaluate E\n",
    "    #print distance(X)\n",
    "    prev_E = function(N, X)\n",
    "    history.append(prev_E)\n",
    "    \n",
    "    for i in xrange(iterr):\n",
    "        # Stepsize\n",
    "        L = int(np.ceil(T))\n",
    "        # Propose new x1 and x2 - Metropolis Algo.\n",
    "        X_star = swapnodes(X, graph)\n",
    "        # Evaluate E\n",
    "        new_E = function(N, X_star) \n",
    "        delta_E = prev_E - new_E\n",
    "        \n",
    "        # Flip a coin\n",
    "        U = np.random.uniform()\n",
    "        if U < np.exp(-delta_E / T):\n",
    "            accepted += 1\n",
    "            history.append(new_E)\n",
    "            # Copy X_star to X\n",
    "            X = X_star\n",
    "            prev_E = new_E\n",
    "\n",
    "        # Check to cool down\n",
    "        if accepted % reanneal == 0:\n",
    "            T *= cool\n",
    "            if T < 0.001: # Reheat\n",
    "                T = 2.\n",
    "            \n",
    "    return X, history"
   ]
  },
  {
   "cell_type": "code",
   "execution_count": 53,
   "metadata": {
    "collapsed": false
   },
   "outputs": [],
   "source": [
    "startNodes = random.choice(NC_digraph.nodes(),3)\n",
    "initial_temp = 2.0\n",
    "cool = 0.9\n",
    "reanneal = 100\n",
    "iterr = 1000\n",
    "N = 500\n",
    "path, history = simulated_annealing_tsp(activateNodesLoopSA, startNodes, NC_digraph, N,  initial_temp, cool, reanneal, iterr)"
   ]
  },
  {
   "cell_type": "code",
   "execution_count": 54,
   "metadata": {
    "collapsed": false
   },
   "outputs": [
    {
     "name": "stdout",
     "output_type": "stream",
     "text": [
      "[u'glzRad3_l42hALvjB9p97w' u'T7eyOatIKKQyW9WopkKI9w'\n",
      " u'ED6n40WmZJm0AvsKkG7iaw']\n"
     ]
    },
    {
     "data": {
      "image/png": "[encoded data removed]",
      "text/plain": [
       "<matplotlib.figure.Figure at 0x10af138d0>"
      ]
     },
     "metadata": {},
     "output_type": "display_data"
    }
   ],
   "source": [
    "print path\n",
    "plt.figure(figsize=(12,8))\n",
    "plt.plot(history)\n",
    "plt.title(\"History\")\n",
    "plt.ylabel(\"$f(x_1,x_2)$\",fontsize=12)\n",
    "plt.xlabel(\"Accepted\", fontsize=12)\n",
    "plt.show()"
   ]
  }
 ],
 "metadata": {
  "kernelspec": {
   "display_name": "Python 2",
   "language": "python",
   "name": "python2"
  },
  "language_info": {
   "codemirror_mode": {
    "name": "ipython",
    "version": 2
   },
   "file_extension": ".py",
   "mimetype": "text/x-python",
   "name": "python",
   "nbconvert_exporter": "python",
   "pygments_lexer": "ipython2",
   "version": "2.7.10"
  }
 },
 "nbformat": 4,
 "nbformat_minor": 0
}
