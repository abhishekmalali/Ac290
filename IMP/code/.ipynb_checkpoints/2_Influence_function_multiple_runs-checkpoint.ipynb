{
 "cells": [
  {
   "cell_type": "markdown",
   "metadata": {},
   "source": [
    "# Influence function - 10,000 runs"
   ]
  },
  {
   "cell_type": "code",
   "execution_count": 1,
   "metadata": {
    "collapsed": true
   },
   "outputs": [],
   "source": [
    "# Import libraries\n",
    "%matplotlib inline\n",
    "import matplotlib.pyplot as plt\n",
    "import time\n",
    "import numpy as np\n",
    "from numpy import random\n",
    "import math\n",
    "import scipy\n",
    "from scipy import stats\n",
    "from random import choice\n",
    "import networkx as nx\n",
    "import json\n",
    "from networkx.readwrite import json_graph\n",
    "import line_profiler\n",
    "import IPython\n",
    "ip = IPython.get_ipython()\n",
    "ip.define_magic('lprun', line_profiler.magic_lprun)"
   ]
  },
  {
   "cell_type": "code",
   "execution_count": 2,
   "metadata": {
    "collapsed": true
   },
   "outputs": [],
   "source": [
    "# Load network graph\n",
    "with open(\"graph/nc_mini.json\", \"r\") as graph_data:\n",
    "    graph_data = json.load(graph_data)\n",
    "    NC_digraph = json_graph.node_link_graph(graph_data)"
   ]
  },
  {
   "cell_type": "code",
   "execution_count": 3,
   "metadata": {
    "collapsed": true
   },
   "outputs": [],
   "source": [
    "# Function to print graph\n",
    "def print_graph(Graph, S1=None):\n",
    "    plt.figure(figsize=(16,10))\n",
    "    color_map = {1: 'b', 0: 'r'}\n",
    "    pos = nx.random_layout(Graph)\n",
    "    \n",
    "    if S1:\n",
    "        nx.draw_networkx(Graph, pos, with_labels=False, node_size=100, node_shape='.',\n",
    "                linewidth=None, width=0.2, edge_color='y', \n",
    "                node_color=[color_map[Graph.node[node]['action']] for node in Graph],\n",
    "                edgelist=reduce(lambda x,y: x+y,[Graph.edges(node) for node in S1]))\n",
    "        nx.draw_networkx_nodes(Graph, pos, nodelist=S1, node_color=\"b\", node_size=150, \n",
    "                              node_shape=\"*\", label=\"Initial Set\")\n",
    "        plt.legend()\n",
    "    else:\n",
    "        nx.draw_networkx(Graph, pos, with_labels=False, node_size=100, node_shape='.',\n",
    "                linewidth=None, width=0.2, edge_color='y', \n",
    "                 node_color=[color_map[Graph.node[node]['action']] for node in Graph])\n",
    "        \n",
    "    plt.xlim(-0.05,1.05)\n",
    "    plt.ylim(-0.05,1.05)\n",
    "    plt.xticks([])\n",
    "    plt.yticks([])\n",
    "    plt.show()"
   ]
  },
  {
   "cell_type": "code",
   "execution_count": 4,
   "metadata": {
    "collapsed": true
   },
   "outputs": [],
   "source": [
    "def activateNodesOpt(detStart, detRandSeed):\n",
    "\n",
    "    nx.set_node_attributes(NC_digraph, 'activated', False)\n",
    "    nx.set_node_attributes(NC_digraph, 'explored', False)\n",
    "    \n",
    "    if detStart is None:\n",
    "        if detRandSeed is not None:\n",
    "            random.seed()\n",
    "        start = random.choice(NC_digraph.nodes(), 1)\n",
    "    else:\n",
    "        start = detStart\n",
    "    \n",
    "    nodes = [start[0]]\n",
    "\n",
    "    activated = 1\n",
    "    \n",
    "    NC_digraph.node[start[0]]['activated'] = True\n",
    "    \n",
    "    while len(nodes)>0:\n",
    "\n",
    "        startNode = nodes[0]\n",
    "\n",
    "        if NC_digraph.node[startNode]['explored']==False:\n",
    "\n",
    "            NC_digraph.node[startNode]['explored'] = True\n",
    "\n",
    "            successors = []\n",
    "\n",
    "            for succNode in NC_digraph.succ[startNode]:\n",
    "\n",
    "                if NC_digraph.node[succNode]['activated']==False:\n",
    "\n",
    "                    alpha = NC_digraph[startNode][succNode]['weight']\n",
    "                    beta = NC_digraph.node[succNode]['review_count']\n",
    "\n",
    "                    if detRandSeed is not None:\n",
    "                        random.seed(detRandSeed)\n",
    "                    randUnif = random.uniform(0,1)\n",
    "                    if detRandSeed is not None:\n",
    "                        random.seed(detRandSeed)\n",
    "                    randBeta = np.sqrt(random.beta(alpha, beta))\n",
    "\n",
    "                    if randUnif < randBeta:\n",
    "                        NC_digraph.node[succNode]['activated'] = True\n",
    "                        successors.append(succNode)\n",
    "                        activated = activated + 1\n",
    "\n",
    "        nodes = nodes[1:]\n",
    "        nodes = nodes + successors\n",
    "\n",
    "    return activated\n",
    "\n",
    "def activateNodesLoop(N, rootSeed=None, randNumSeed=None):\n",
    "    \n",
    "    if rootSeed is not None and randNumSeed is not None:\n",
    "        random.seed(rootSeed) \n",
    "        detStart = random.choice(NC_digraph.nodes(), 1) # deterministic start node\n",
    "        detRandSeed = randNumSeed # deterministic random variables\n",
    "    elif rootSeed is None and randNumSeed is None:\n",
    "        random.seed()\n",
    "        detStart = None # stochastic start node\n",
    "        detRandSeed = None # stochastic random variables\n",
    "    elif rootSeed is not None and randNumSeed is None:\n",
    "        random.seed(rootSeed) \n",
    "        detStart = random.choice(NC_digraph.nodes(), 1) # deterministic start node\n",
    "        random.seed()\n",
    "        detRandSeed = None # stochastic random variables\n",
    "    elif rootSeed is None and randNumSeed is not None:\n",
    "        detStart = None # stochastic start node\n",
    "        detRandSeed = randNumSeed # deterministic random variables\n",
    "\n",
    "    result = []\n",
    "\n",
    "    for n in xrange(N):\n",
    "        result.append(float(activateNodesOpt(detStart, detRandSeed)))\n",
    "        \n",
    "    return result"
   ]
  },
  {
   "cell_type": "markdown",
   "metadata": {},
   "source": [
    "Mean should be 9.5 and standard deviation should be 14."
   ]
  },
  {
   "cell_type": "code",
   "execution_count": 5,
   "metadata": {
    "collapsed": false
   },
   "outputs": [
    {
     "name": "stdout",
     "output_type": "stream",
     "text": [
      "9.517000 mean, 13.974753 standard deviation\n"
     ]
    }
   ],
   "source": [
    "result = activateNodesLoop(N=1000, rootSeed=24, randNumSeed=None)\n",
    "print '%f mean, %f standard deviation' % (np.mean(result), np.std(result))"
   ]
  },
  {
   "cell_type": "code",
   "execution_count": 6,
   "metadata": {
    "collapsed": false
   },
   "outputs": [
    {
     "data": {
      "image/png": "[encoded data removed]",
      "text/plain": [
       "<matplotlib.figure.Figure at 0x103ea4290>"
      ]
     },
     "metadata": {},
     "output_type": "display_data"
    }
   ],
   "source": [
    "plt.hist(result, bins=range(int(max(result))))\n",
    "plt.show()"
   ]
  }
 ],
 "metadata": {
  "kernelspec": {
   "display_name": "Python 2",
   "language": "python",
   "name": "python2"
  },
  "language_info": {
   "codemirror_mode": {
    "name": "ipython",
    "version": 2
   },
   "file_extension": ".py",
   "mimetype": "text/x-python",
   "name": "python",
   "nbconvert_exporter": "python",
   "pygments_lexer": "ipython2",
   "version": "2.7.10"
  }
 },
 "nbformat": 4,
 "nbformat_minor": 0
}
