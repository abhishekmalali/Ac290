{
 "cells": [
  {
   "cell_type": "code",
   "execution_count": 5,
   "metadata": {
    "collapsed": true
   },
   "outputs": [],
   "source": [
    "# Import libraries\n",
    "%matplotlib inline\n",
    "import matplotlib.pyplot as plt\n",
    "import time\n",
    "import numpy as np\n",
    "from numpy import random\n",
    "import math\n",
    "import scipy\n",
    "from scipy import stats\n",
    "from random import choice\n",
    "import networkx as nx\n",
    "import json\n",
    "from networkx.readwrite import json_graph"
   ]
  },
  {
   "cell_type": "code",
   "execution_count": 6,
   "metadata": {
    "collapsed": true
   },
   "outputs": [],
   "source": [
    "import findspark\n",
    "import os\n",
    "findspark.init()\n",
    "import pyspark\n",
    "sc = pyspark.SparkContext()"
   ]
  },
  {
   "cell_type": "code",
   "execution_count": 7,
   "metadata": {
    "collapsed": true
   },
   "outputs": [],
   "source": [
    "# Load network graph\n",
    "with open(\"graph/nc_mini.json\", \"r\") as graph_data_mini:\n",
    "    graph_data_mini = json.load(graph_data_mini)\n",
    "    NC_digraph_mini = json_graph.node_link_graph(graph_data_mini)\n",
    "    \n",
    "with open(\"graph/nc_full.json\", \"r\") as graph_data_full:\n",
    "    graph_data_full = json.load(graph_data_full)\n",
    "    NC_digraph_full = json_graph.node_link_graph(graph_data_full)"
   ]
  },
  {
   "cell_type": "code",
   "execution_count": 8,
   "metadata": {
    "collapsed": true
   },
   "outputs": [],
   "source": [
    "def influenceFunction(graph, detStartNodes, t=999999):\n",
    "\n",
    "    explored = set()\n",
    "    activated = set()\n",
    "    nodes = []\n",
    "    for node in detStartNodes:\n",
    "        nodes.append(node)\n",
    "        activated.add(node)\n",
    "    \n",
    "    start = detStartNodes[0]\n",
    "    successors = []\n",
    "\n",
    "    for i in range(t):\n",
    "        successors = []\n",
    "        while len(nodes)>0:\n",
    "            startNode = nodes[0]\n",
    "            if startNode not in explored:\n",
    "                explored.add(startNode)\n",
    "            for succNode in graph.succ[startNode]:\n",
    "                if succNode not in activated:\n",
    "                    alpha = graph[startNode][succNode]['weight']\n",
    "                    beta = graph.node[succNode]['review_count']\n",
    "                    if random.uniform(0,1) < np.sqrt(random.beta(alpha, beta)):\n",
    "                        if succNode not in explored:\n",
    "                            activated.add(succNode)\n",
    "                            successors.append(succNode)\n",
    "            nodes.remove(startNode)\n",
    "        nodes = successors\n",
    "        if not nodes:\n",
    "            break\n",
    "    return float(len(activated))"
   ]
  },
  {
   "cell_type": "code",
   "execution_count": 9,
   "metadata": {
    "collapsed": true
   },
   "outputs": [],
   "source": [
    "def influenceFunctionNotParDetStart(graph, detStartNodes, N, t=999999):\n",
    "    result = []\n",
    "    for n in xrange(N):\n",
    "        result.append(float(influenceFunction(graph, detStartNodes, t)))\n",
    "    return np.mean(result)"
   ]
  },
  {
   "cell_type": "code",
   "execution_count": 10,
   "metadata": {
    "collapsed": true
   },
   "outputs": [],
   "source": [
    "def influenceFunctionParDetStart(graph, detStartNodes, N, t=999999):\n",
    "    runs = sc.parallelize(range(N), 4)\n",
    "    results = runs.map(lambda x: influenceFunction(graph, detStartNodes, t))\n",
    "    return np.mean(results.collect())"
   ]
  },
  {
   "cell_type": "code",
   "execution_count": 11,
   "metadata": {
    "collapsed": true
   },
   "outputs": [],
   "source": [
    "def influenceFunctionNotParRandStart(graph, N, t=999999):\n",
    "    result = []\n",
    "    for n in xrange(N):\n",
    "        result.append(float(influenceFunction(graph, [random.choice(graph.nodes(),1)[0]], t)))\n",
    "    return np.mean(result)"
   ]
  },
  {
   "cell_type": "code",
   "execution_count": 12,
   "metadata": {
    "collapsed": true
   },
   "outputs": [],
   "source": [
    "def influenceFunctionParRandStart(graph, N, t=999999):\n",
    "    runs = sc.parallelize(range(N), 4)\n",
    "    results = runs.map(lambda x: influenceFunction(graph, [random.choice(graph.nodes(),1)[0]], t))\n",
    "    return np.mean(results.collect())"
   ]
  },
  {
   "cell_type": "code",
   "execution_count": 13,
   "metadata": {
    "collapsed": true
   },
   "outputs": [],
   "source": [
    "def greedySearch(graph, k=3, N=1000, t=999999):\n",
    "    \n",
    "    best_s = []\n",
    "    max_inf = 0\n",
    "    nodeRDD = sc.parallelize(list(set(list(sum(graph.edges(), ())))), 4)\n",
    "    \n",
    "    for i in range(k):\n",
    "        infRDD = nodeRDD.map(lambda n: (n, 0.) if n in best_s else \\\n",
    "                             (n, influenceFunctionNotParDetStart(graph, best_s + [n], N)))\n",
    "        next_s, next_i = infRDD.reduce(lambda a,b: a if a[1] > b[1] else b)\n",
    "#         print next_s\n",
    "        best_s += [next_s]\n",
    "        max_inf = next_i\n",
    "    \n",
    "    return best_s, max_inf"
   ]
  },
  {
   "cell_type": "code",
   "execution_count": 32,
   "metadata": {
    "collapsed": false
   },
   "outputs": [
    {
     "name": "stdout",
     "output_type": "stream",
     "text": [
      "0 of 100 iterations, 0.000237 seconds total run time\n",
      "10 of 100 iterations, 64.502450 seconds total run time\n",
      "20 of 100 iterations, 129.584046 seconds total run time\n",
      "30 of 100 iterations, 194.239050 seconds total run time\n",
      "40 of 100 iterations, 258.043409 seconds total run time\n",
      "50 of 100 iterations, 322.082560 seconds total run time\n",
      "60 of 100 iterations, 386.923489 seconds total run time\n",
      "70 of 100 iterations, 451.975057 seconds total run time\n",
      "80 of 100 iterations, 518.075152 seconds total run time\n",
      "90 of 100 iterations, 586.032910 seconds total run time\n",
      "652.515220 seconds total run time\n"
     ]
    }
   ],
   "source": [
    "k = 100\n",
    "\n",
    "startTime = time.time()\n",
    "\n",
    "results = []\n",
    "for i in xrange(100):\n",
    "    if i%10==0:\n",
    "        runTime = time.time() - startTime\n",
    "        print '%d of 100 iterations, %f seconds total run time' % (i, runTime)\n",
    "    results.append(influenceFunctionParRandStart(NC_digraph_full, k))\n",
    "fd = open(\"data/SE-NC_full-N=\" + str(k) + \".json\",\"w\")\n",
    "json.dump(results, fd)\n",
    "fd.close()\n",
    "del results\n",
    "\n",
    "runTime = time.time() - startTime\n",
    "print '%f seconds total run time' % (runTime)"
   ]
  },
  {
   "cell_type": "code",
   "execution_count": 17,
   "metadata": {
    "collapsed": false
   },
   "outputs": [
    {
     "name": "stdout",
     "output_type": "stream",
     "text": [
      "0 of 100 iterations, 0.000230 seconds total run time\n",
      "10 of 100 iterations, 98.690609 seconds total run time\n",
      "20 of 100 iterations, 208.499199 seconds total run time\n",
      "30 of 100 iterations, 320.886613 seconds total run time\n",
      "40 of 100 iterations, 434.517170 seconds total run time\n",
      "50 of 100 iterations, 529.379292 seconds total run time\n",
      "60 of 100 iterations, 628.985389 seconds total run time\n",
      "70 of 100 iterations, 725.840705 seconds total run time\n",
      "80 of 100 iterations, 821.840694 seconds total run time\n",
      "90 of 100 iterations, 920.018913 seconds total run time\n",
      "1012.172935 seconds total run time\n"
     ]
    }
   ],
   "source": [
    "k = 250\n",
    "\n",
    "startTime = time.time()\n",
    "\n",
    "results = []\n",
    "for i in xrange(100):\n",
    "    if i%10==0:\n",
    "        runTime = time.time() - startTime\n",
    "        print '%d of 100 iterations, %f seconds total run time' % (i, runTime)\n",
    "    results.append(influenceFunctionParRandStart(NC_digraph_full, k))\n",
    "fd = open(\"data/SE-NC_full-N=\" + str(k) + \".json\",\"w\")\n",
    "json.dump(results, fd)\n",
    "fd.close()\n",
    "del results\n",
    "\n",
    "runTime = time.time() - startTime\n",
    "print '%f seconds total run time' % (runTime)"
   ]
  },
  {
   "cell_type": "code",
   "execution_count": 18,
   "metadata": {
    "collapsed": false
   },
   "outputs": [
    {
     "name": "stdout",
     "output_type": "stream",
     "text": [
      "0 of 100 iterations, 0.000229 seconds total run time\n",
      "10 of 100 iterations, 159.363431 seconds total run time\n",
      "20 of 100 iterations, 315.262962 seconds total run time\n",
      "30 of 100 iterations, 472.468670 seconds total run time\n",
      "40 of 100 iterations, 625.440682 seconds total run time\n",
      "50 of 100 iterations, 790.204266 seconds total run time\n",
      "60 of 100 iterations, 942.218968 seconds total run time\n",
      "70 of 100 iterations, 1103.182130 seconds total run time\n",
      "80 of 100 iterations, 1270.220763 seconds total run time\n",
      "90 of 100 iterations, 1430.636497 seconds total run time\n",
      "1595.169212 seconds total run time\n"
     ]
    }
   ],
   "source": [
    "k = 500\n",
    "\n",
    "startTime = time.time()\n",
    "\n",
    "results = []\n",
    "for i in xrange(100):\n",
    "    if i%10==0:\n",
    "        runTime = time.time() - startTime\n",
    "        print '%d of 100 iterations, %f seconds total run time' % (i, runTime)\n",
    "    results.append(influenceFunctionParRandStart(NC_digraph_full, k))\n",
    "fd = open(\"data/SE-NC_full-N=\" + str(k) + \".json\",\"w\")\n",
    "json.dump(results, fd)\n",
    "fd.close()\n",
    "del results\n",
    "\n",
    "runTime = time.time() - startTime\n",
    "print '%f seconds total run time' % (runTime)"
   ]
  },
  {
   "cell_type": "code",
   "execution_count": 19,
   "metadata": {
    "collapsed": false
   },
   "outputs": [
    {
     "name": "stdout",
     "output_type": "stream",
     "text": [
      "0 of 100 iterations, 0.000303 seconds total run time\n",
      "10 of 100 iterations, 211.214669 seconds total run time\n",
      "20 of 100 iterations, 435.054144 seconds total run time\n",
      "30 of 100 iterations, 652.176189 seconds total run time\n",
      "40 of 100 iterations, 859.596247 seconds total run time\n",
      "50 of 100 iterations, 1072.503312 seconds total run time\n",
      "60 of 100 iterations, 1286.794146 seconds total run time\n",
      "70 of 100 iterations, 1490.966426 seconds total run time\n",
      "80 of 100 iterations, 1699.950333 seconds total run time\n",
      "90 of 100 iterations, 1913.769940 seconds total run time\n",
      "2127.643945 seconds total run time\n"
     ]
    }
   ],
   "source": [
    "k = 750\n",
    "\n",
    "startTime = time.time()\n",
    "\n",
    "results = []\n",
    "for i in xrange(100):\n",
    "    if i%10==0:\n",
    "        runTime = time.time() - startTime\n",
    "        print '%d of 100 iterations, %f seconds total run time' % (i, runTime)\n",
    "    results.append(influenceFunctionParRandStart(NC_digraph_full, k))\n",
    "fd = open(\"data/SE-NC_full-N=\" + str(k) + \".json\",\"w\")\n",
    "json.dump(results, fd)\n",
    "fd.close()\n",
    "del results\n",
    "\n",
    "runTime = time.time() - startTime\n",
    "print '%f seconds total run time' % (runTime)"
   ]
  },
  {
   "cell_type": "code",
   "execution_count": 20,
   "metadata": {
    "collapsed": false
   },
   "outputs": [
    {
     "name": "stdout",
     "output_type": "stream",
     "text": [
      "0 of 100 iterations, 0.000671 seconds total run time\n",
      "10 of 100 iterations, 273.808841 seconds total run time\n",
      "20 of 100 iterations, 562.544715 seconds total run time\n",
      "30 of 100 iterations, 845.933687 seconds total run time\n",
      "40 of 100 iterations, 1114.194947 seconds total run time\n",
      "50 of 100 iterations, 1382.383785 seconds total run time\n",
      "60 of 100 iterations, 1656.186457 seconds total run time\n",
      "70 of 100 iterations, 1912.835921 seconds total run time\n",
      "80 of 100 iterations, 2173.806101 seconds total run time\n",
      "90 of 100 iterations, 2435.918945 seconds total run time\n",
      "2696.221792 seconds total run time\n"
     ]
    }
   ],
   "source": [
    "k = 1000\n",
    "\n",
    "startTime = time.time()\n",
    "\n",
    "results = []\n",
    "for i in xrange(100):\n",
    "    if i%10==0:\n",
    "        runTime = time.time() - startTime\n",
    "        print '%d of 100 iterations, %f seconds total run time' % (i, runTime)\n",
    "    results.append(influenceFunctionParRandStart(NC_digraph_full, k))\n",
    "fd = open(\"data/SE-NC_full-N=\" + str(k) + \".json\",\"w\")\n",
    "json.dump(results, fd)\n",
    "fd.close()\n",
    "del results\n",
    "\n",
    "runTime = time.time() - startTime\n",
    "print '%f seconds total run time' % (runTime)"
   ]
  },
  {
   "cell_type": "code",
   "execution_count": 34,
   "metadata": {
    "collapsed": false
   },
   "outputs": [
    {
     "data": {
      "image/png": "[encoded data removed]",
      "text/plain": [
       "<matplotlib.figure.Figure at 0x113e02450>"
      ]
     },
     "metadata": {},
     "output_type": "display_data"
    }
   ],
   "source": [
    "stdErr = dict()\n",
    "\n",
    "for k in [100, 250, 500, 750, 1000]:\n",
    "\n",
    "    with open(\"data/SE-NC_full-N=\" + str(k) + \".json\", \"r\") as fd:\n",
    "        results = json.load(fd)\n",
    "        \n",
    "    stdErr[k] = np.std(results)\n",
    "    \n",
    "plt.plot(stdErr.keys(), stdErr.values(), 'o-', color='r', linestyle='None', markersize=8)\n",
    "plt.xlim(xmin=0)\n",
    "plt.ylim(ymin=0)\n",
    "plt.show()"
   ]
  },
  {
   "cell_type": "code",
   "execution_count": 35,
   "metadata": {
    "collapsed": false
   },
   "outputs": [
    {
     "name": "stdout",
     "output_type": "stream",
     "text": [
      "lambda = 0.551575\n",
      "alpha = 10774.771915\n"
     ]
    }
   ],
   "source": [
    "y = [math.log(i) for i in stdErr.values()]\n",
    "x = [math.log(i) for i in stdErr.keys()]\n",
    "slope, intercept, r_value, p_value, std_err = scipy.stats.linregress(x, y)\n",
    "\n",
    "print 'lambda = %f' % (-slope)\n",
    "print 'alpha = %f' % (math.exp(intercept))"
   ]
  },
  {
   "cell_type": "code",
   "execution_count": 36,
   "metadata": {
    "collapsed": false
   },
   "outputs": [
    {
     "data": {
      "image/png": "[encoded data removed]",
      "text/plain": [
       "<matplotlib.figure.Figure at 0x112ad52d0>"
      ]
     },
     "metadata": {},
     "output_type": "display_data"
    }
   ],
   "source": [
    "keys = [math.log(i) for i in stdErr.keys()]\n",
    "keys.sort()\n",
    "solution = [intercept + slope*n for n in keys]\n",
    "\n",
    "plt.plot(x, [math.log(i) for i in stdErr.values()], 'o-', color='r', linestyle='None', markersize=8)\n",
    "plt.plot(keys, solution)\n",
    "# plt.xlim(xmin=4)\n",
    "# plt.ylim(ymin=-1)\n",
    "plt.show()"
   ]
  }
 ],
 "metadata": {
  "kernelspec": {
   "display_name": "Python 2",
   "language": "python",
   "name": "python2"
  },
  "language_info": {
   "codemirror_mode": {
    "name": "ipython",
    "version": 2
   },
   "file_extension": ".py",
   "mimetype": "text/x-python",
   "name": "python",
   "nbconvert_exporter": "python",
   "pygments_lexer": "ipython2",
   "version": "2.7.10"
  }
 },
 "nbformat": 4,
 "nbformat_minor": 0
}
