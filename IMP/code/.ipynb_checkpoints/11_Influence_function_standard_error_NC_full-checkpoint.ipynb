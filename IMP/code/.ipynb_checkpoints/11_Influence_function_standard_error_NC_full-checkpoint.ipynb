{
 "cells": [
  {
   "cell_type": "code",
   "execution_count": 1,
   "metadata": {
    "collapsed": true
   },
   "outputs": [],
   "source": [
    "# Import libraries\n",
    "%matplotlib inline\n",
    "import matplotlib.pyplot as plt\n",
    "import time\n",
    "import numpy as np\n",
    "from numpy import random\n",
    "import math\n",
    "import scipy\n",
    "from scipy import stats\n",
    "from random import choice\n",
    "import networkx as nx\n",
    "import json\n",
    "from networkx.readwrite import json_graph"
   ]
  },
  {
   "cell_type": "code",
   "execution_count": null,
   "metadata": {
    "collapsed": true
   },
   "outputs": [],
   "source": [
    "import findspark\n",
    "import os\n",
    "findspark.init()\n",
    "import pyspark\n",
    "sc = pyspark.SparkContext()"
   ]
  },
  {
   "cell_type": "code",
   "execution_count": 2,
   "metadata": {
    "collapsed": true
   },
   "outputs": [],
   "source": [
    "# Load network graph\n",
    "with open(\"graph/nc_mini.json\", \"r\") as graph_data_mini:\n",
    "    graph_data_mini = json.load(graph_data_mini)\n",
    "    NC_digraph_mini = json_graph.node_link_graph(graph_data_mini)\n",
    "    \n",
    "with open(\"graph/nc_full.json\", \"r\") as graph_data_full:\n",
    "    graph_data_full = json.load(graph_data_full)\n",
    "    NC_digraph_full = json_graph.node_link_graph(graph_data_full)"
   ]
  },
  {
   "cell_type": "code",
   "execution_count": 3,
   "metadata": {
    "collapsed": true
   },
   "outputs": [],
   "source": [
    "def influenceFunction(graph, detStartNodes, t=999999):\n",
    "\n",
    "    explored = set()\n",
    "    activated = set()\n",
    "    nodes = []\n",
    "    for node in detStartNodes:\n",
    "        nodes.append(node)\n",
    "        activated.add(node)\n",
    "    \n",
    "    start = detStartNodes[0]\n",
    "    successors = []\n",
    "\n",
    "    for i in range(t):\n",
    "        successors = []\n",
    "        while len(nodes)>0:\n",
    "            startNode = nodes[0]\n",
    "            if startNode not in explored:\n",
    "                explored.add(startNode)\n",
    "            for succNode in graph.succ[startNode]:\n",
    "                if succNode not in activated:\n",
    "                    alpha = graph[startNode][succNode]['weight']\n",
    "                    beta = graph.node[succNode]['review_count']\n",
    "                    if random.uniform(0,1) < np.sqrt(random.beta(alpha, beta)):\n",
    "                        if succNode not in explored:\n",
    "                            activated.add(succNode)\n",
    "                            successors.append(succNode)\n",
    "            nodes.remove(startNode)\n",
    "        nodes = successors\n",
    "        if not nodes:\n",
    "            break\n",
    "    return len(activated)"
   ]
  },
  {
   "cell_type": "code",
   "execution_count": null,
   "metadata": {
    "collapsed": true
   },
   "outputs": [],
   "source": [
    "def influenceFunctionNotParDetStart(graph, detStartNodes, N, t=999999):\n",
    "    result = []\n",
    "    for n in xrange(N):\n",
    "        result.append(float(influenceFunction(graph, detStartNodes, t)))\n",
    "    return np.mean(result)"
   ]
  },
  {
   "cell_type": "code",
   "execution_count": null,
   "metadata": {
    "collapsed": true
   },
   "outputs": [],
   "source": [
    "def influenceFunctionParDetStart(graph, detStartNodes, N, t=999999):\n",
    "    runs = sc.parallelize(range(N), 4)\n",
    "    results = runs.map(lambda x: influenceFunction(graph, detStartNodes, t))\n",
    "    return np.mean(results.collect())"
   ]
  },
  {
   "cell_type": "code",
   "execution_count": null,
   "metadata": {
    "collapsed": true
   },
   "outputs": [],
   "source": [
    "def influenceFunctionNotParRandStart(graph, N, t=999999):\n",
    "    result = []\n",
    "    for n in xrange(N):\n",
    "        result.append(float(influenceFunction(graph, [random.choice(graph.nodes(),1)[0]], t)))\n",
    "    return np.mean(result)"
   ]
  },
  {
   "cell_type": "code",
   "execution_count": null,
   "metadata": {
    "collapsed": true
   },
   "outputs": [],
   "source": [
    "def influenceFunctionParRandStart(graph, N, t=999999):\n",
    "    runs = sc.parallelize(range(N), 4)\n",
    "    results = runs.map(lambda x: influenceFunction(graph, [random.choice(graph.nodes(),1)[0]], t))\n",
    "    return np.mean(results.collect())"
   ]
  },
  {
   "cell_type": "code",
   "execution_count": null,
   "metadata": {
    "collapsed": true
   },
   "outputs": [],
   "source": [
    "def greedySearch(graph, k=3, N=1000, t=999999):\n",
    "    \n",
    "    best_s = []\n",
    "    max_inf = 0\n",
    "    nodeRDD = sc.parallelize(list(set(list(sum(graph.edges(), ())))), 4)\n",
    "    \n",
    "    for i in range(k):\n",
    "        infRDD = nodeRDD.map(lambda n: (n, 0.) if n in best_s else \\\n",
    "                             (n, influenceFunctionNotParDetStart(graph, best_s + [n], N)))\n",
    "        next_s, next_i = infRDD.reduce(lambda a,b: a if a[1] > b[1] else b)\n",
    "#         print next_s\n",
    "        best_s += [next_s]\n",
    "        max_inf = next_i\n",
    "    \n",
    "    return best_s, max_inf"
   ]
  },
  {
   "cell_type": "code",
   "execution_count": 6,
   "metadata": {
    "collapsed": true
   },
   "outputs": [],
   "source": [
    "stdErr = dict()\n",
    "stdErr = {i: 0 for i in range(100,1150,50)}\n",
    "\n",
    "for k in stdErr.keys():\n",
    "    results = []\n",
    "    for i in xrange(100):\n",
    "        results.append(influenceFunctionParRandStart(NC_digraph_full, k))\n",
    "    fd = open(\"data/SE-NC_full-N=\" + str(k) + \".json\",\"w\")\n",
    "    json.dump(results, fd)\n",
    "    fd.close()\n",
    "    del results"
   ]
  },
  {
   "cell_type": "code",
   "execution_count": 1,
   "metadata": {
    "collapsed": false
   },
   "outputs": [],
   "source": [
    "stdErr = dict()\n",
    "\n",
    "for k in range(100,1150,50):\n",
    "\n",
    "    with open(\"data/SE-NC_full-N=\" + str(k) + \".json\", \"r\") as fd:\n",
    "        results = json.load(fd)\n",
    "        \n",
    "    stdErr[k] = np.std(results)\n",
    "    \n",
    "plt.plot(stdErr.keys(), stdErr.values(), 'o-', color='r', linestyle='None', markersize=8)\n",
    "plt.xlim(xmin=0)\n",
    "plt.ylim(ymin=0)\n",
    "plt.show()"
   ]
  },
  {
   "cell_type": "code",
   "execution_count": 9,
   "metadata": {
    "collapsed": true
   },
   "outputs": [],
   "source": [
    "y = [math.log(i) for i in stdErr.values()]\n",
    "x = [math.log(i) for i in stdErr.keys()]\n",
    "slope, intercept, r_value, p_value, std_err = scipy.stats.linregress(x, y)"
   ]
  },
  {
   "cell_type": "code",
   "execution_count": 3,
   "metadata": {
    "collapsed": false
   },
   "outputs": [],
   "source": [
    "print 'lambda = %f' % (-slope)\n",
    "print 'alpha = %f' % (math.exp(intercept))"
   ]
  },
  {
   "cell_type": "code",
   "execution_count": 2,
   "metadata": {
    "collapsed": false
   },
   "outputs": [],
   "source": [
    "keys = [math.log(i) for i in stdErr.keys()]\n",
    "keys.sort()\n",
    "solution = [intercept + slope*n for n in keys]\n",
    "\n",
    "plt.plot(x, [math.log(i) for i in stdErr.values()], 'o-', color='r', linestyle='None', markersize=8)\n",
    "plt.plot(keys, solution)\n",
    "plt.xlim(xmin=4)\n",
    "plt.ylim(ymin=-1)\n",
    "plt.show()"
   ]
  }
 ],
 "metadata": {
  "kernelspec": {
   "display_name": "Python 2",
   "language": "python",
   "name": "python2"
  },
  "language_info": {
   "codemirror_mode": {
    "name": "ipython",
    "version": 2
   },
   "file_extension": ".py",
   "mimetype": "text/x-python",
   "name": "python",
   "nbconvert_exporter": "python",
   "pygments_lexer": "ipython2",
   "version": "2.7.10"
  }
 },
 "nbformat": 4,
 "nbformat_minor": 0
}
