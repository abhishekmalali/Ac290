{
 "cells": [
  {
   "cell_type": "markdown",
   "metadata": {},
   "source": [
    "# Influence function - standard error"
   ]
  },
  {
   "cell_type": "code",
   "execution_count": 3,
   "metadata": {
    "collapsed": false
   },
   "outputs": [],
   "source": [
    "# Import libraries\n",
    "%matplotlib inline\n",
    "import matplotlib.pyplot as plt\n",
    "import time\n",
    "import numpy as np\n",
    "from numpy import random\n",
    "import math\n",
    "import scipy\n",
    "from scipy import stats\n",
    "from random import choice\n",
    "import networkx as nx\n",
    "import json\n",
    "from networkx.readwrite import json_graph\n",
    "import line_profiler\n",
    "import IPython\n",
    "ip = IPython.get_ipython()\n",
    "ip.define_magic('lprun', line_profiler.magic_lprun)"
   ]
  },
  {
   "cell_type": "code",
   "execution_count": 4,
   "metadata": {
    "collapsed": false
   },
   "outputs": [],
   "source": [
    "import findspark\n",
    "import os\n",
    "findspark.init()\n",
    "import pyspark\n",
    "sc = pyspark.SparkContext()"
   ]
  },
  {
   "cell_type": "code",
   "execution_count": 23,
   "metadata": {
    "collapsed": false
   },
   "outputs": [],
   "source": [
    "# Load network graph\n",
    "with open(\"graph/nc_full.json\", \"r\") as graph_data:\n",
    "    graph_data = json.load(graph_data)\n",
    "    NC_digraph = json_graph.node_link_graph(graph_data)"
   ]
  },
  {
   "cell_type": "markdown",
   "metadata": {},
   "source": [
    "### Calculate variance of simulation results"
   ]
  },
  {
   "cell_type": "code",
   "execution_count": 9,
   "metadata": {
    "collapsed": true
   },
   "outputs": [],
   "source": [
    "def influenceFunction(detStartNodes, t):\n",
    "\n",
    "    explored = set()\n",
    "    activated = set()\n",
    "    nodes = []\n",
    "    for node in detStartNodes:\n",
    "        nodes.append(node)\n",
    "        activated.add(node)\n",
    "    \n",
    "    start = detStartNodes[0]\n",
    "    successors = []\n",
    "\n",
    "    for i in range(t):\n",
    "        successors = []\n",
    "        while len(nodes)>0:\n",
    "            startNode = nodes[0]\n",
    "            if startNode not in explored:\n",
    "                explored.add(startNode)\n",
    "            for succNode in NC_digraph.succ[startNode]:\n",
    "                if succNode not in activated:\n",
    "                    alpha = NC_digraph[startNode][succNode]['weight']\n",
    "                    beta = NC_digraph.node[succNode]['review_count']\n",
    "                    if random.uniform(0,1) < np.sqrt(random.beta(alpha, beta)):\n",
    "                        if succNode not in explored:\n",
    "                            activated.add(succNode)\n",
    "                            successors.append(succNode)\n",
    "            nodes = nodes[1:]\n",
    "        nodes = successors\n",
    "        if not nodes:\n",
    "            break\n",
    "    return len(activated)"
   ]
  },
  {
   "cell_type": "code",
   "execution_count": 10,
   "metadata": {
    "collapsed": false
   },
   "outputs": [],
   "source": [
    "def influenceFunctionNotPar(detStartNodes, N, t=999999):\n",
    "    result = []\n",
    "    for n in xrange(N):\n",
    "        result.append(float(influenceFunction(detStartNodes, t)))\n",
    "    return np.mean(result)"
   ]
  },
  {
   "cell_type": "code",
   "execution_count": 14,
   "metadata": {
    "collapsed": true
   },
   "outputs": [],
   "source": [
    "def influenceFunctionPar(detStartNodes, N, t=999999):\n",
    "    runs = sc.parallelize(range(N), 4)\n",
    "    results = runs.map(lambda x: influenceFunction(detStartNodes, t))\n",
    "    return np.mean(results.collect())"
   ]
  },
  {
   "cell_type": "code",
   "execution_count": 21,
   "metadata": {
    "collapsed": true
   },
   "outputs": [],
   "source": [
    "def greedySearch(N, numNodes, t=999999):\n",
    "    \n",
    "    searchNodes = NC_digraph.nodes()\n",
    "    print len(searchNodes)\n",
    "    \n",
    "    searchNodes = list(set(list(sum(NC_digraph.edges(), ()))))\n",
    "    print len(searchNodes)\n",
    "    \n",
    "    actNodeOpt = []\n",
    "    node = 0\n",
    "    \n",
    "    for s in range(numNodes):\n",
    "        \n",
    "        maxActNode = 0\n",
    "        maxActNodeStart = []\n",
    "        \n",
    "        node = 0\n",
    "        \n",
    "        for n in searchNodes:\n",
    "            node += 1\n",
    "            if node%500==0:\n",
    "                print node\n",
    "            detStartNodes = actNodeOpt + [n]\n",
    "            runs = sc.parallelize(range(N), 4)\n",
    "            results = runs.map(lambda x: influenceFunction(detStartNodes, t))\n",
    "            act = np.mean(results.collect())\n",
    "            if act>maxActNode:\n",
    "                maxActNode = act\n",
    "                maxActNodeStart = n\n",
    "            \n",
    "        searchNodes.remove(maxActNodeStart)\n",
    "        actNodeOpt.append(maxActNodeStart)\n",
    "        print maxActNodeStart\n",
    "    \n",
    "    return actNodeOpt, maxActNode"
   ]
  },
  {
   "cell_type": "code",
   "execution_count": null,
   "metadata": {
    "collapsed": true
   },
   "outputs": [],
   "source": [
    "def greedySearch2(k = 3, N = 1000):\n",
    "    \n",
    "    best_s = []\n",
    "    max_inf = 0\n",
    "    nodeRDD = sc.parallelize(NC_digraph.nodes())\n",
    "    print \n",
    "    \n",
    "    for i in range(k):\n",
    "        infRDD = nodeRDD.map(lambda n: (n, 0.) if n in best_s else (n, influenceFunction(best_s + [n], N=N)))\n",
    "        next_s, next_i = infRDD.reduce(lambda a,b: a if a[1] > b[1] else b)\n",
    "        print next_s\n",
    "        best_s += [next_s]\n",
    "        max_inf = next_i\n",
    "    \n",
    "    return best_s,max_inf"
   ]
  },
  {
   "cell_type": "code",
   "execution_count": 16,
   "metadata": {
    "collapsed": false
   },
   "outputs": [
    {
     "name": "stdout",
     "output_type": "stream",
     "text": [
      "No cap on t (serial):\n",
      "44.14\n",
      "CPU times: user 1.84 s, sys: 184 ms, total: 2.03 s\n",
      "Wall time: 2.03 s\n",
      "t capped at 10 (serial):\n",
      "48.61\n",
      "CPU times: user 87.5 ms, sys: 703 µs, total: 88.2 ms\n",
      "Wall time: 89.2 ms\n",
      "t capped at 10 (parallel):\n",
      "44.97\n",
      "CPU times: user 93.1 ms, sys: 656 µs, total: 93.7 ms\n",
      "Wall time: 93.9 ms\n"
     ]
    }
   ],
   "source": [
    "# Test influence function for given start nodes\n",
    "start = ['NzWLMPvbEval0OVg_YDn4g','ts7EG6Zv2zdMDg29nyqGfA','VhI6xyylcAxi0wOy2HOX3w']\n",
    "\n",
    "print \"No cap on t (serial):\"\n",
    "%time print influenceFunctionNotPar(start, 100)\n",
    "\n",
    "print \"t capped at 10 (serial):\"\n",
    "%time print influenceFunctionNotPar(start, 100, 10)\n",
    "\n",
    "print \"t capped at 10 (parallel):\"\n",
    "%time print influenceFunctionNotPar(start, 100, 10)"
   ]
  },
  {
   "cell_type": "code",
   "execution_count": 22,
   "metadata": {
    "collapsed": false
   },
   "outputs": [
    {
     "name": "stdout",
     "output_type": "stream",
     "text": [
      "No cap on t:\n",
      "240\n",
      "145\n",
      "A6bPFcUjuuayRBoyybedDQ\n",
      "([u'A6bPFcUjuuayRBoyybedDQ'], 50.0)\n",
      "CPU times: user 6.44 s, sys: 339 ms, total: 6.78 s\n",
      "Wall time: 16.4 s\n",
      "t capped at 10:\n",
      "240\n",
      "145\n",
      "ED6n40WmZJm0AvsKkG7iaw\n",
      "([u'ED6n40WmZJm0AvsKkG7iaw'], 69.0)\n",
      "CPU times: user 5.37 s, sys: 322 ms, total: 5.7 s\n",
      "Wall time: 11.9 s\n"
     ]
    }
   ],
   "source": [
    "# Test greedy algorithm\n",
    "\n",
    "print \"No cap on t:\"\n",
    "%time print greedySearch(1, 1)\n",
    "\n",
    "print \"t capped at 10:\"\n",
    "%time print greedySearch(1, 1, 10)"
   ]
  },
  {
   "cell_type": "code",
   "execution_count": null,
   "metadata": {
    "collapsed": true
   },
   "outputs": [],
   "source": []
  }
 ],
 "metadata": {
  "kernelspec": {
   "display_name": "Python 2",
   "language": "python",
   "name": "python2"
  },
  "language_info": {
   "codemirror_mode": {
    "name": "ipython",
    "version": 2
   },
   "file_extension": ".py",
   "mimetype": "text/x-python",
   "name": "python",
   "nbconvert_exporter": "python",
   "pygments_lexer": "ipython2",
   "version": "2.7.10"
  }
 },
 "nbformat": 4,
 "nbformat_minor": 0
}
