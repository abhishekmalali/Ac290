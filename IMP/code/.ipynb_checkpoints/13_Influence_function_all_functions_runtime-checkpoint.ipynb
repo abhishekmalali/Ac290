{
 "cells": [
  {
   "cell_type": "markdown",
   "metadata": {},
   "source": [
    "# Timing tests"
   ]
  },
  {
   "cell_type": "code",
   "execution_count": 1,
   "metadata": {
    "collapsed": false
   },
   "outputs": [],
   "source": [
    "# Import libraries\n",
    "%matplotlib inline\n",
    "import matplotlib.pyplot as plt\n",
    "import time\n",
    "import numpy as np\n",
    "from numpy import random\n",
    "import math\n",
    "import scipy\n",
    "from scipy import stats\n",
    "from random import choice\n",
    "import networkx as nx\n",
    "import json\n",
    "from networkx.readwrite import json_graph\n",
    "import line_profiler\n",
    "import IPython\n",
    "ip = IPython.get_ipython()\n",
    "ip.define_magic('lprun', line_profiler.magic_lprun)"
   ]
  },
  {
   "cell_type": "code",
   "execution_count": 2,
   "metadata": {
    "collapsed": false
   },
   "outputs": [],
   "source": [
    "import findspark\n",
    "import os\n",
    "findspark.init()\n",
    "import pyspark\n",
    "sc = pyspark.SparkContext()"
   ]
  },
  {
   "cell_type": "code",
   "execution_count": 3,
   "metadata": {
    "collapsed": false
   },
   "outputs": [],
   "source": [
    "# Load network graph\n",
    "with open(\"graph/nc_mini.json\", \"r\") as graph_data_mini:\n",
    "    graph_data_mini = json.load(graph_data_mini)\n",
    "    NC_digraph_mini = json_graph.node_link_graph(graph_data_mini)\n",
    "    \n",
    "with open(\"graph/nc_full.json\", \"r\") as graph_data_full:\n",
    "    graph_data_full = json.load(graph_data_full)\n",
    "    NC_digraph_full = json_graph.node_link_graph(graph_data_full)"
   ]
  },
  {
   "cell_type": "markdown",
   "metadata": {},
   "source": [
    "### Functions"
   ]
  },
  {
   "cell_type": "code",
   "execution_count": 4,
   "metadata": {
    "collapsed": true
   },
   "outputs": [],
   "source": [
    "def influenceFunction(graph, detStartNodes, t=999999):\n",
    "\n",
    "    explored = set()\n",
    "    activated = set()\n",
    "    nodes = []\n",
    "    for node in detStartNodes:\n",
    "        nodes.append(node)\n",
    "        activated.add(node)\n",
    "    \n",
    "    start = detStartNodes[0]\n",
    "    successors = []\n",
    "\n",
    "    for i in range(t):\n",
    "        successors = []\n",
    "        while len(nodes)>0:\n",
    "            startNode = nodes[0]\n",
    "            if startNode not in explored:\n",
    "                explored.add(startNode)\n",
    "            for succNode in graph.succ[startNode]:\n",
    "                if succNode not in activated:\n",
    "                    alpha = graph[startNode][succNode]['weight']\n",
    "                    beta = graph.node[succNode]['review_count']\n",
    "                    if random.uniform(0,1) < np.sqrt(random.beta(alpha, beta)):\n",
    "                        if succNode not in explored:\n",
    "                            activated.add(succNode)\n",
    "                            successors.append(succNode)\n",
    "            nodes.remove(startNode)\n",
    "        nodes = successors\n",
    "        if not nodes:\n",
    "            break\n",
    "    return float(len(activated))"
   ]
  },
  {
   "cell_type": "code",
   "execution_count": 5,
   "metadata": {
    "collapsed": false
   },
   "outputs": [],
   "source": [
    "def influenceFunctionNotParDetStart(graph, detStartNodes, N, t=999999):\n",
    "    result = []\n",
    "    for n in xrange(N):\n",
    "        result.append(float(influenceFunction(graph, detStartNodes, t)))\n",
    "    return np.mean(result)"
   ]
  },
  {
   "cell_type": "code",
   "execution_count": 6,
   "metadata": {
    "collapsed": true
   },
   "outputs": [],
   "source": [
    "def influenceFunctionParDetStart(graph, detStartNodes, N, t=999999):\n",
    "    runs = sc.parallelize(range(N), 4)\n",
    "    results = runs.map(lambda x: influenceFunction(graph, detStartNodes, t))\n",
    "    return np.mean(results.collect())"
   ]
  },
  {
   "cell_type": "code",
   "execution_count": 7,
   "metadata": {
    "collapsed": true
   },
   "outputs": [],
   "source": [
    "def influenceFunctionNotParRandStart(graph, N, t=999999):\n",
    "    result = []\n",
    "    for n in xrange(N):\n",
    "        result.append(float(influenceFunction(graph, [random.choice(graph.nodes(),1)[0]], t)))\n",
    "    return np.mean(result)"
   ]
  },
  {
   "cell_type": "code",
   "execution_count": 8,
   "metadata": {
    "collapsed": true
   },
   "outputs": [],
   "source": [
    "def influenceFunctionParRandStart(graph, N, t=999999):\n",
    "    runs = sc.parallelize(range(N), 4)\n",
    "    results = runs.map(lambda x: influenceFunction(graph, [random.choice(graph.nodes(),1)[0]], t))\n",
    "    return np.mean(results.collect())"
   ]
  },
  {
   "cell_type": "code",
   "execution_count": 9,
   "metadata": {
    "collapsed": false
   },
   "outputs": [],
   "source": [
    "def greedySearch(graph, k=3, N=1000, t=999999):\n",
    "    \n",
    "    best_s = []\n",
    "    max_inf = 0\n",
    "    nodeRDD = sc.parallelize(list(set(list(sum(graph.edges(), ())))), 4)\n",
    "    \n",
    "    for i in range(k):\n",
    "        infRDD = nodeRDD.map(lambda n: (n, 0.) if n in best_s else \\\n",
    "                             (n, influenceFunctionNotParDetStart(graph, best_s + [n], N)))\n",
    "        next_s, next_i = infRDD.reduce(lambda a,b: a if a[1] > b[1] else b)\n",
    "#         print next_s\n",
    "        best_s += [next_s]\n",
    "        max_inf = next_i\n",
    "    \n",
    "    return best_s, max_inf"
   ]
  },
  {
   "cell_type": "code",
   "execution_count": 10,
   "metadata": {
    "collapsed": true
   },
   "outputs": [],
   "source": [
    "def maxNodes(graph, k=3, N=1000, t=999999):\n",
    "    \n",
    "    nodeRDD = sc.parallelize(list(set(list(sum(graph.edges(), ())))), 4)   \n",
    "    infRDD = nodeRDD.map(lambda n: (n, influenceFunctionNotParDetStart(graph, [n], N)))\n",
    "    return infRDD.takeOrdered(k, lambda w: -w[1])"
   ]
  },
  {
   "cell_type": "code",
   "execution_count": 22,
   "metadata": {
    "collapsed": true
   },
   "outputs": [],
   "source": [
    "def maxEdges(graph, k=3):\n",
    "    \n",
    "    nodeRDD = sc.parallelize(list(set(list(sum(graph.edges(), ())))), 4)   \n",
    "    infRDD = nodeRDD.map(lambda n: (n, len(graph.succ[n])))\n",
    "    return infRDD.takeOrdered(k, lambda w: -w[1])"
   ]
  },
  {
   "cell_type": "markdown",
   "metadata": {},
   "source": [
    "### Timing - NC_mini"
   ]
  },
  {
   "cell_type": "code",
   "execution_count": 27,
   "metadata": {
    "collapsed": false
   },
   "outputs": [
    {
     "data": {
      "text/plain": [
       "240"
      ]
     },
     "execution_count": 27,
     "metadata": {},
     "output_type": "execute_result"
    }
   ],
   "source": [
    "NC_digraph_mini.number_of_nodes()"
   ]
  },
  {
   "cell_type": "code",
   "execution_count": 10,
   "metadata": {
    "collapsed": false
   },
   "outputs": [
    {
     "name": "stdout",
     "output_type": "stream",
     "text": [
      "No cap on t (serial):\n",
      "2.077829 seconds run time\n",
      "\n",
      "t capped at 10 (serial):\n",
      "0.094027 seconds run time\n",
      "\n",
      "No cap on t (parallel):\n",
      "2.400825 seconds run time\n",
      "\n",
      "t capped at 10 (parallel):\n",
      "0.183546 seconds run time\n"
     ]
    }
   ],
   "source": [
    "# Influence function for given start nodes\n",
    "start = ['NzWLMPvbEval0OVg_YDn4g','ts7EG6Zv2zdMDg29nyqGfA','VhI6xyylcAxi0wOy2HOX3w']\n",
    "noRuns = 100\n",
    "\n",
    "print \"No cap on t (serial):\"\n",
    "startTime = time.time()\n",
    "influenceFunctionNotParDetStart(NC_digraph_mini, start, noRuns)\n",
    "runTime = time.time() - startTime\n",
    "print '%f seconds run time' % (runTime)\n",
    "\n",
    "print \"\\nt capped at 10 (serial):\"\n",
    "startTime = time.time()\n",
    "influenceFunctionNotParDetStart(NC_digraph_mini, start, noRuns, 10)\n",
    "runTime = time.time() - startTime\n",
    "print '%f seconds run time' % (runTime)\n",
    "\n",
    "print \"\\nNo cap on t (parallel):\"\n",
    "startTime = time.time()\n",
    "influenceFunctionParDetStart(NC_digraph_mini, start, noRuns)\n",
    "runTime = time.time() - startTime\n",
    "print '%f seconds run time' % (runTime)\n",
    "\n",
    "print \"\\nt capped at 10 (parallel):\"\n",
    "startTime = time.time()\n",
    "influenceFunctionParDetStart(NC_digraph_mini, start, noRuns, 10)\n",
    "runTime = time.time() - startTime\n",
    "print '%f seconds run time' % (runTime)"
   ]
  },
  {
   "cell_type": "code",
   "execution_count": 11,
   "metadata": {
    "collapsed": false
   },
   "outputs": [
    {
     "name": "stdout",
     "output_type": "stream",
     "text": [
      "No cap on t (serial):\n",
      "2.369556 seconds run time\n",
      "\n",
      "t capped at 10 (serial):\n",
      "0.040825 seconds run time\n",
      "\n",
      "no cap on t (parallel):\n",
      "1.660861 seconds run time\n",
      "\n",
      "t capped at 10 (parallel):\n",
      "0.199847 seconds run time\n"
     ]
    }
   ],
   "source": [
    "# Influence function for random start nodes\n",
    "noRuns = 100\n",
    "\n",
    "print \"No cap on t (serial):\"\n",
    "startTime = time.time()\n",
    "influenceFunctionNotParRandStart(NC_digraph_mini, noRuns)\n",
    "runTime = time.time() - startTime\n",
    "print '%f seconds run time' % (runTime)\n",
    "\n",
    "print \"\\nt capped at 10 (serial):\"\n",
    "startTime = time.time()\n",
    "influenceFunctionNotParRandStart(NC_digraph_mini, noRuns, 10)\n",
    "runTime = time.time() - startTime\n",
    "print '%f seconds run time' % (runTime)\n",
    "\n",
    "print \"\\nno cap on t (parallel):\"\n",
    "startTime = time.time()\n",
    "influenceFunctionParRandStart(NC_digraph_mini, noRuns)\n",
    "runTime = time.time() - startTime\n",
    "print '%f seconds run time' % (runTime)\n",
    "\n",
    "print \"\\nt capped at 10 (parallel):\"\n",
    "startTime = time.time()\n",
    "influenceFunctionParRandStart(NC_digraph_mini, noRuns, 10)\n",
    "runTime = time.time() - startTime\n",
    "print '%f seconds run time' % (runTime)"
   ]
  },
  {
   "cell_type": "code",
   "execution_count": 12,
   "metadata": {
    "collapsed": false
   },
   "outputs": [
    {
     "name": "stdout",
     "output_type": "stream",
     "text": [
      "No cap on t (serial):\n",
      "24.234820 seconds run time\n",
      "\n",
      "t capped at 10 (serial):\n",
      "0.153250 seconds run time\n",
      "\n",
      "no cap on t (parallel):\n",
      "9.927389 seconds run time\n",
      "\n",
      "t capped at 10 (parallel):\n",
      "0.208044 seconds run time\n"
     ]
    }
   ],
   "source": [
    "# Influence function for random start nodes\n",
    "noRuns = 1000\n",
    "\n",
    "print \"No cap on t (serial):\"\n",
    "startTime = time.time()\n",
    "influenceFunctionNotParRandStart(NC_digraph_mini, noRuns)\n",
    "runTime = time.time() - startTime\n",
    "print '%f seconds run time' % (runTime)\n",
    "\n",
    "print \"\\nt capped at 10 (serial):\"\n",
    "startTime = time.time()\n",
    "influenceFunctionNotParRandStart(NC_digraph_mini, noRuns, 10)\n",
    "runTime = time.time() - startTime\n",
    "print '%f seconds run time' % (runTime)\n",
    "\n",
    "print \"\\nno cap on t (parallel):\"\n",
    "startTime = time.time()\n",
    "influenceFunctionParRandStart(NC_digraph_mini, noRuns)\n",
    "runTime = time.time() - startTime\n",
    "print '%f seconds run time' % (runTime)\n",
    "\n",
    "print \"\\nt capped at 10 (parallel):\"\n",
    "startTime = time.time()\n",
    "influenceFunctionParRandStart(NC_digraph_mini, noRuns, 10)\n",
    "runTime = time.time() - startTime\n",
    "print '%f seconds run time' % (runTime)"
   ]
  },
  {
   "cell_type": "code",
   "execution_count": 13,
   "metadata": {
    "collapsed": false
   },
   "outputs": [
    {
     "name": "stdout",
     "output_type": "stream",
     "text": [
      "No cap on t:\n",
      "4.336949 seconds run time\n",
      "\n",
      "t capped at 10:\n",
      "4.325324 seconds run time\n"
     ]
    }
   ],
   "source": [
    "# Greedy algorithm\n",
    "noRuns = 1\n",
    "\n",
    "print \"No cap on t:\"\n",
    "startTime = time.time()\n",
    "greedySearch(NC_digraph_mini, 3, noRuns)\n",
    "runTime = time.time() - startTime\n",
    "print '%f seconds run time' % (runTime)\n",
    "\n",
    "print \"\\nt capped at 10:\"\n",
    "startTime = time.time()\n",
    "greedySearch(NC_digraph_mini, 3, noRuns, 10)\n",
    "runTime = time.time() - startTime\n",
    "print '%f seconds run time' % (runTime)"
   ]
  },
  {
   "cell_type": "code",
   "execution_count": 14,
   "metadata": {
    "collapsed": false
   },
   "outputs": [
    {
     "name": "stdout",
     "output_type": "stream",
     "text": [
      "No cap on t:\n",
      "1.640124 seconds run time\n",
      "\n",
      "t capped at 10:\n",
      "2.304997 seconds run time\n"
     ]
    }
   ],
   "source": [
    "# Look up nodes with max # of activations\n",
    "noRuns = 1\n",
    "\n",
    "print \"No cap on t:\"\n",
    "startTime = time.time()\n",
    "maxNodes(NC_digraph_mini, 3, noRuns)\n",
    "runTime = time.time() - startTime\n",
    "print '%f seconds run time' % (runTime)\n",
    "\n",
    "print \"\\nt capped at 10:\"\n",
    "startTime = time.time()\n",
    "maxNodes(NC_digraph_mini, 3, noRuns, 10)\n",
    "runTime = time.time() - startTime\n",
    "print '%f seconds run time' % (runTime)"
   ]
  },
  {
   "cell_type": "code",
   "execution_count": 25,
   "metadata": {
    "collapsed": false
   },
   "outputs": [
    {
     "name": "stdout",
     "output_type": "stream",
     "text": [
      "[(u'NzWLMPvbEval0OVg_YDn4g', 39), (u'ts7EG6Zv2zdMDg29nyqGfA', 36), (u'VhI6xyylcAxi0wOy2HOX3w', 30)]\n",
      "0.199740 seconds run time\n"
     ]
    }
   ],
   "source": [
    "# Look up nodes with max # of edges\n",
    "startTime = time.time()\n",
    "print maxEdges(NC_digraph_mini, 3)\n",
    "runTime = time.time() - startTime\n",
    "print '%f seconds run time' % (runTime)"
   ]
  },
  {
   "cell_type": "markdown",
   "metadata": {},
   "source": [
    "### Summary of run-times for NC_mini\n",
    "\n",
    "**100 runs of influence function for 3 given starting nodes:**\n",
    "\n",
    "No cap on t (serial):\n",
    "2.077829 seconds run time >> i.e. ~0.02 seconds/run\n",
    "\n",
    "t capped at 10 (serial):\n",
    "0.094027 seconds run time >> i.e. ~0.0009 seconds /run\n",
    "\n",
    "No cap on t (parallel):\n",
    "2.400825 seconds run time\n",
    "\n",
    "t capped at 10 (parallel):\n",
    "0.183546 seconds run time\n",
    "\n",
    "**100 runs of influence function for 1 random starting node:**\n",
    "\n",
    "No cap on t (serial):\n",
    "2.369556 seconds run time >> i.e. ~0.02 seconds/run\n",
    "\n",
    "t capped at 10 (serial):\n",
    "0.040825 seconds run time >> i.e. ~0.0004 seconds/run\n",
    "\n",
    "no cap on t (parallel):\n",
    "1.660861 seconds run time\n",
    "\n",
    "t capped at 10 (parallel):\n",
    "0.199847 seconds run time\n",
    "\n",
    "**1000 runs of influence function for 1 random starting node:**\n",
    "\n",
    "No cap on t (serial):\n",
    "24.234820 seconds run time >> i.e. ~0.02 seconds/run\n",
    "\n",
    "t capped at 10 (serial):\n",
    "0.153250 seconds run time >> i.e. 0.0002 seconds/run\n",
    "\n",
    "no cap on t (parallel):\n",
    "9.927389 seconds run time\n",
    "\n",
    "t capped at 10 (parallel):\n",
    "0.208044 seconds run time\n",
    "\n",
    "**1 run of Greedy algorithm for k=3**\n",
    "\n",
    "No cap on t:\n",
    "4.336949 seconds run time\n",
    "\n",
    "t capped at 10:\n",
    "4.325324 seconds run time\n",
    "\n",
    "**Back of the envelope Greedy runtime calculation**:\n",
    "\n",
    "[number of graph nodes] x [k] x [N] x [Influence fn runtime (serial)]\n",
    "= 240 x 3 x 1 x 0.02 = 14.4 seconds = ~3-4x actual run-time"
   ]
  },
  {
   "cell_type": "markdown",
   "metadata": {},
   "source": [
    "### Timing - NC_full"
   ]
  },
  {
   "cell_type": "code",
   "execution_count": 29,
   "metadata": {
    "collapsed": false
   },
   "outputs": [
    {
     "data": {
      "text/plain": [
       "24224"
      ]
     },
     "execution_count": 29,
     "metadata": {},
     "output_type": "execute_result"
    }
   ],
   "source": [
    "NC_digraph_full.number_of_nodes()"
   ]
  },
  {
   "cell_type": "markdown",
   "metadata": {},
   "source": [
    "100 runs of influence function - NC_full"
   ]
  },
  {
   "cell_type": "code",
   "execution_count": 14,
   "metadata": {
    "collapsed": false
   },
   "outputs": [
    {
     "name": "stdout",
     "output_type": "stream",
     "text": [
      "No cap on t (serial):\n",
      "13.001081 seconds run time\n",
      "\n",
      "t capped at 10 (serial):\n",
      "9.181028 seconds run time\n",
      "\n",
      "no cap on t (parallel):\n",
      "9.347237 seconds run time\n",
      "\n",
      "t capped at 10 (parallel):\n",
      "9.984308 seconds run time\n"
     ]
    }
   ],
   "source": [
    "# Influence function for given start nodes\n",
    "start = ['NzWLMPvbEval0OVg_YDn4g','ts7EG6Zv2zdMDg29nyqGfA','VhI6xyylcAxi0wOy2HOX3w']\n",
    "noRuns = 100\n",
    "\n",
    "print \"No cap on t (serial):\"\n",
    "startTime = time.time()\n",
    "influenceFunctionNotParDetStart(NC_digraph_full, start, noRuns)\n",
    "runTime = time.time() - startTime\n",
    "print '%f seconds run time' % (runTime)\n",
    "\n",
    "print \"\\nt capped at 10 (serial):\"\n",
    "startTime = time.time()\n",
    "influenceFunctionNotParDetStart(NC_digraph_full, start, noRuns, 10)\n",
    "runTime = time.time() - startTime\n",
    "print '%f seconds run time' % (runTime)\n",
    "\n",
    "print \"\\nno cap on t (parallel):\"\n",
    "startTime = time.time()\n",
    "influenceFunctionParDetStart(NC_digraph_full, start, noRuns)\n",
    "runTime = time.time() - startTime\n",
    "print '%f seconds run time' % (runTime)\n",
    "\n",
    "print \"\\nt capped at 10 (parallel):\"\n",
    "startTime = time.time()\n",
    "influenceFunctionParDetStart(NC_digraph_full, start, noRuns, 10)\n",
    "runTime = time.time() - startTime\n",
    "print '%f seconds run time' % (runTime)"
   ]
  },
  {
   "cell_type": "code",
   "execution_count": 15,
   "metadata": {
    "collapsed": false
   },
   "outputs": [
    {
     "name": "stdout",
     "output_type": "stream",
     "text": [
      "No cap on t (serial):\n",
      "11.763882 seconds run time\n",
      "\n",
      "t capped at 10 (serial):\n",
      "2.570651 seconds run time\n",
      "\n",
      "no cap on t (parallel):\n",
      "6.617609 seconds run time\n",
      "\n",
      "t capped at 10 (parallel):\n",
      "5.377774 seconds run time\n"
     ]
    }
   ],
   "source": [
    "# Influence function for random start nodes\n",
    "noRuns = 100\n",
    "\n",
    "print \"No cap on t (serial):\"\n",
    "startTime = time.time()\n",
    "influenceFunctionNotParRandStart(NC_digraph_full, noRuns)\n",
    "runTime = time.time() - startTime\n",
    "print '%f seconds run time' % (runTime)\n",
    "\n",
    "print \"\\nt capped at 10 (serial):\"\n",
    "startTime = time.time()\n",
    "influenceFunctionNotParRandStart(NC_digraph_full, noRuns, 10)\n",
    "runTime = time.time() - startTime\n",
    "print '%f seconds run time' % (runTime)\n",
    "\n",
    "print \"\\nno cap on t (parallel):\"\n",
    "startTime = time.time()\n",
    "influenceFunctionParRandStart(NC_digraph_full, noRuns)\n",
    "runTime = time.time() - startTime\n",
    "print '%f seconds run time' % (runTime)\n",
    "\n",
    "print \"\\nt capped at 10 (parallel):\"\n",
    "startTime = time.time()\n",
    "influenceFunctionParRandStart(NC_digraph_full, noRuns, 10)\n",
    "runTime = time.time() - startTime\n",
    "print '%f seconds run time' % (runTime)"
   ]
  },
  {
   "cell_type": "code",
   "execution_count": 16,
   "metadata": {
    "collapsed": false
   },
   "outputs": [
    {
     "name": "stdout",
     "output_type": "stream",
     "text": [
      "No cap on t (serial):\n",
      "101.021717 seconds run time\n",
      "\n",
      "t capped at 10 (serial):\n",
      "25.390516 seconds run time\n",
      "\n",
      "no cap on t (parallel):\n",
      "31.609033 seconds run time\n",
      "\n",
      "t capped at 10 (parallel):\n",
      "15.761864 seconds run time\n"
     ]
    }
   ],
   "source": [
    "# Influence function for random start nodes\n",
    "noRuns = 1000\n",
    "\n",
    "print \"No cap on t (serial):\"\n",
    "startTime = time.time()\n",
    "influenceFunctionNotParRandStart(NC_digraph_full, noRuns)\n",
    "runTime = time.time() - startTime\n",
    "print '%f seconds run time' % (runTime)\n",
    "\n",
    "print \"\\nt capped at 10 (serial):\"\n",
    "startTime = time.time()\n",
    "influenceFunctionNotParRandStart(NC_digraph_full, noRuns, 10)\n",
    "runTime = time.time() - startTime\n",
    "print '%f seconds run time' % (runTime)\n",
    "\n",
    "print \"\\nno cap on t (parallel):\"\n",
    "startTime = time.time()\n",
    "influenceFunctionParRandStart(NC_digraph_full, noRuns)\n",
    "runTime = time.time() - startTime\n",
    "print '%f seconds run time' % (runTime)\n",
    "\n",
    "print \"\\nt capped at 10 (parallel):\"\n",
    "startTime = time.time()\n",
    "influenceFunctionParRandStart(NC_digraph_full, noRuns, 10)\n",
    "runTime = time.time() - startTime\n",
    "print '%f seconds run time' % (runTime)"
   ]
  },
  {
   "cell_type": "code",
   "execution_count": 17,
   "metadata": {
    "collapsed": false
   },
   "outputs": [
    {
     "name": "stdout",
     "output_type": "stream",
     "text": [
      "No cap on t:\n",
      "1975.263020 seconds run time\n",
      "\n",
      "t capped at 10:\n",
      "2695.917483 seconds run time\n"
     ]
    }
   ],
   "source": [
    "# Greedy algorithm\n",
    "noRuns = 1\n",
    "\n",
    "print \"No cap on t:\"\n",
    "startTime = time.time()\n",
    "greedySearch(NC_digraph_full, 3, noRuns)\n",
    "runTime = time.time() - startTime\n",
    "print '%f seconds run time' % (runTime)\n",
    "\n",
    "print \"\\nt capped at 10:\"\n",
    "startTime = time.time()\n",
    "greedySearch(NC_digraph_full, 3, noRuns, 10)\n",
    "runTime = time.time() - startTime\n",
    "print '%f seconds run time' % (runTime)"
   ]
  },
  {
   "cell_type": "code",
   "execution_count": 15,
   "metadata": {
    "collapsed": false
   },
   "outputs": [
    {
     "name": "stdout",
     "output_type": "stream",
     "text": [
      "No cap on t:\n",
      "488.436412 seconds run time\n",
      "\n",
      "t capped at 10:\n",
      "555.493437 seconds run time\n"
     ]
    }
   ],
   "source": [
    "# Look up nodes with max # of activations\n",
    "noRuns = 1\n",
    "\n",
    "print \"No cap on t:\"\n",
    "startTime = time.time()\n",
    "maxNodes(NC_digraph_full, 3, noRuns)\n",
    "runTime = time.time() - startTime\n",
    "print '%f seconds run time' % (runTime)\n",
    "\n",
    "print \"\\nt capped at 10:\"\n",
    "startTime = time.time()\n",
    "maxNodes(NC_digraph_full, 3, noRuns, 10)\n",
    "runTime = time.time() - startTime\n",
    "print '%f seconds run time' % (runTime)"
   ]
  },
  {
   "cell_type": "code",
   "execution_count": 26,
   "metadata": {
    "collapsed": false
   },
   "outputs": [
    {
     "name": "stdout",
     "output_type": "stream",
     "text": [
      "[(u'CvMVd31cnTfzMUsHDXm4zQ', 319), (u'NzWLMPvbEval0OVg_YDn4g', 316), (u'4G68oLRY3aHE5XUt_MUUcA', 314)]\n",
      "108.431385 seconds run time\n"
     ]
    }
   ],
   "source": [
    "# Look up nodes with max # of edges\n",
    "startTime = time.time()\n",
    "print maxEdges(NC_digraph_full, 3)\n",
    "runTime = time.time() - startTime\n",
    "print '%f seconds run time' % (runTime)"
   ]
  },
  {
   "cell_type": "markdown",
   "metadata": {},
   "source": [
    "### Summary of run-times for NC_full\n",
    "\n",
    "**100 runs of influence function for 3 given starting nodes:**\n",
    "\n",
    "No cap on t (serial):\n",
    "13.001081 seconds run time >> i.e. ~0.1 seconds/run\n",
    "\n",
    "t capped at 10 (serial):\n",
    "9.181028 seconds run time >> i.e. ~0.09 seconds/run\n",
    "\n",
    "no cap on t (parallel):\n",
    "9.347237 seconds run time\n",
    "\n",
    "t capped at 10 (parallel):\n",
    "9.984308 seconds run time\n",
    "\n",
    "**100 runs of influence function for 1 random starting node:**\n",
    "\n",
    "No cap on t (serial):\n",
    "11.763882 seconds run time >> i.e. ~0.1 seconds/run\n",
    "\n",
    "t capped at 10 (serial):\n",
    "2.570651 seconds run time >> i.e. ~0.03 seconds/run\n",
    "\n",
    "no cap on t (parallel):\n",
    "6.617609 seconds run time\n",
    "\n",
    "t capped at 10 (parallel):\n",
    "5.377774 seconds run time\n",
    "\n",
    "**1000 runs of influence function for 1 random starting node:**\n",
    "\n",
    "No cap on t (serial):\n",
    "101.021717 seconds run time >> i.e. ~0.1 seconds/run\n",
    "\n",
    "t capped at 10 (serial):\n",
    "25.390516 seconds run time >> i.e. ~0.03 seconds/run\n",
    "\n",
    "no cap on t (parallel):\n",
    "31.609033 seconds run time\n",
    "\n",
    "t capped at 10 (parallel):\n",
    "15.761864 seconds run time\n",
    "\n",
    "**1 run of Greedy algorithm for k=3 (4 workers)**\n",
    "\n",
    "No cap on t:\n",
    "1975.263020 seconds run time = 32.9 minutes\n",
    "\n",
    "**Back of the envelope Greedy runtime calculation**:\n",
    "\n",
    "[number of graph nodes] x [k] x [N] x [Influence fn runtime (serial)]\n",
    "= 24224 x 3 x 1 x 0.1 = 7267 seconds = 121 minutes = ~3-4x actual run-time"
   ]
  }
 ],
 "metadata": {
  "kernelspec": {
   "display_name": "Python 2",
   "language": "python",
   "name": "python2"
  },
  "language_info": {
   "codemirror_mode": {
    "name": "ipython",
    "version": 2
   },
   "file_extension": ".py",
   "mimetype": "text/x-python",
   "name": "python",
   "nbconvert_exporter": "python",
   "pygments_lexer": "ipython2",
   "version": "2.7.10"
  }
 },
 "nbformat": 4,
 "nbformat_minor": 0
}
