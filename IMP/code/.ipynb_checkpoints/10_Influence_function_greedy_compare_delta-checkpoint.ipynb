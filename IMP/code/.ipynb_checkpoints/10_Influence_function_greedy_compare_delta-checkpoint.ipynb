{
 "cells": [
  {
   "cell_type": "markdown",
   "metadata": {},
   "source": [
    "# Greedy algorithm (100 x 1,000)"
   ]
  },
  {
   "cell_type": "code",
   "execution_count": 1,
   "metadata": {
    "collapsed": true
   },
   "outputs": [],
   "source": [
    "# Import libraries\n",
    "%matplotlib inline\n",
    "import matplotlib.pyplot as plt\n",
    "import time\n",
    "import numpy as np\n",
    "from numpy import random\n",
    "import math\n",
    "import scipy\n",
    "from scipy import stats\n",
    "from random import choice\n",
    "import networkx as nx\n",
    "import json\n",
    "from networkx.readwrite import json_graph\n",
    "import line_profiler\n",
    "import IPython\n",
    "ip = IPython.get_ipython()\n",
    "ip.define_magic('lprun', line_profiler.magic_lprun)\n",
    "import json"
   ]
  },
  {
   "cell_type": "code",
   "execution_count": 2,
   "metadata": {
    "collapsed": false
   },
   "outputs": [],
   "source": [
    "import findspark\n",
    "import os\n",
    "findspark.init()\n",
    "import pyspark\n",
    "sc = pyspark.SparkContext()"
   ]
  },
  {
   "cell_type": "code",
   "execution_count": 3,
   "metadata": {
    "collapsed": true
   },
   "outputs": [],
   "source": [
    "# Load network graph\n",
    "with open(\"graph/nc_mini.json\", \"r\") as graph_data:\n",
    "    graph_data = json.load(graph_data)\n",
    "    NC_digraph = json_graph.node_link_graph(graph_data)"
   ]
  },
  {
   "cell_type": "code",
   "execution_count": 4,
   "metadata": {
    "collapsed": true
   },
   "outputs": [],
   "source": [
    "def activateNodesOptGreedy(detStartNodes):\n",
    "\n",
    "    nx.set_node_attributes(NC_digraph, 'activated', False)\n",
    "    nx.set_node_attributes(NC_digraph, 'explored', False)\n",
    "    \n",
    "    activated = 0\n",
    "    nodes = []\n",
    "    \n",
    "    for n in detStartNodes:\n",
    "        nodes.append(n)\n",
    "        NC_digraph.node[n]['activated'] = True\n",
    "        activated = activated + 1\n",
    "    \n",
    "    start = nodes[0]\n",
    "\n",
    "    while len(nodes)>0:\n",
    "\n",
    "        startNode = nodes[0]\n",
    "\n",
    "        if NC_digraph.node[startNode]['explored']==False:\n",
    "\n",
    "            NC_digraph.node[startNode]['explored'] = True\n",
    "\n",
    "            successors = []\n",
    "\n",
    "            for succNode in NC_digraph.succ[startNode]:\n",
    "\n",
    "                if NC_digraph.node[succNode]['activated']==False:\n",
    "\n",
    "                    alpha = NC_digraph[startNode][succNode]['weight']\n",
    "                    beta = NC_digraph.node[succNode]['review_count']\n",
    "\n",
    "                    randUnif = random.uniform(0,1)\n",
    "                    randBeta = np.sqrt(random.beta(alpha, beta))\n",
    "\n",
    "                    if randUnif < randBeta:\n",
    "                        NC_digraph.node[succNode]['activated'] = True\n",
    "                        successors.append(succNode)\n",
    "                        activated = activated + 1\n",
    "\n",
    "        nodes = nodes[1:]\n",
    "        nodes = nodes + successors\n",
    "\n",
    "    return activated\n",
    "\n",
    "def activateNodesLoopGreedy(N, startNodes):\n",
    "    \n",
    "    random.seed()\n",
    "    searchNodes = NC_digraph.nodes()\n",
    "    actNodeOpt = []\n",
    "    \n",
    "    for s in range(startNodes):\n",
    "        maxActNode = 0\n",
    "        maxActNodeStart = []\n",
    "\n",
    "        for n in searchNodes:\n",
    "            detStartNodes = actNodeOpt + [n]\n",
    "            result = []\n",
    "            for r in xrange(N):\n",
    "                result.append(float(activateNodesOptGreedy(detStartNodes)))\n",
    "            act = np.mean(result)\n",
    "            if act>maxActNode:\n",
    "                maxActNode = act\n",
    "                maxActNodeStart = n\n",
    "            \n",
    "        searchNodes.remove(maxActNodeStart)\n",
    "        actNodeOpt.append(maxActNodeStart)\n",
    "    \n",
    "    return actNodeOpt, maxActNode\n",
    "            "
   ]
  },
  {
   "cell_type": "markdown",
   "metadata": {},
   "source": [
    "Run for greedy (30x) on N = 100, 250, 500, 750, 1,000:"
   ]
  },
  {
   "cell_type": "code",
   "execution_count": 16,
   "metadata": {
    "collapsed": false
   },
   "outputs": [],
   "source": [
    "# N = 100\n",
    "\n",
    "start = 1\n",
    "noRuns = 30\n",
    "greedyN = 100\n",
    "runs = sc.parallelize(range(start, start + noRuns))\n",
    "results = runs.map(lambda x: (x, activateNodesLoopGreedy(greedyN, 3)))\n",
    "results_list = results.collect()\n",
    "fd = open(\"data/greedy-\" + str(noRuns) + \"x-N=\" + str(greedyN) + \".json\",\"w\")\n",
    "json.dump(results_list, fd)\n",
    "fd.close()\n",
    "del results"
   ]
  },
  {
   "cell_type": "code",
   "execution_count": 36,
   "metadata": {
    "collapsed": true
   },
   "outputs": [],
   "source": [
    "# N = 250\n",
    "\n",
    "start = 1\n",
    "noRuns = 30\n",
    "greedyN = 250\n",
    "runs = sc.parallelize(range(start, start + noRuns))\n",
    "results = runs.map(lambda x: (x, activateNodesLoopGreedy(greedyN, 3)))\n",
    "results_list = results.collect()\n",
    "fd = open(\"data/greedy-\" + str(noRuns) + \"x-N=\" + str(greedyN) + \".json\",\"w\")\n",
    "json.dump(results_list, fd)\n",
    "fd.close()\n",
    "del results"
   ]
  },
  {
   "cell_type": "code",
   "execution_count": 5,
   "metadata": {
    "collapsed": false
   },
   "outputs": [],
   "source": [
    "# N = 500\n",
    "\n",
    "start = 1\n",
    "noRuns = 30\n",
    "greedyN = 500\n",
    "runs = sc.parallelize(range(start, start + noRuns))\n",
    "results = runs.map(lambda x: (x, activateNodesLoopGreedy(greedyN, 3)))\n",
    "results_list = results.collect()\n",
    "fd = open(\"data/greedy-\" + str(noRuns) + \"x-N=\" + str(greedyN) + \".json\",\"w\")\n",
    "json.dump(results_list, fd)\n",
    "fd.close()\n",
    "del results"
   ]
  },
  {
   "cell_type": "code",
   "execution_count": 5,
   "metadata": {
    "collapsed": false
   },
   "outputs": [],
   "source": [
    "# N = 750\n",
    "\n",
    "start = 1\n",
    "noRuns = 30\n",
    "greedyN = 750\n",
    "runs = sc.parallelize(range(start, start + noRuns))\n",
    "results = runs.map(lambda x: (x, activateNodesLoopGreedy(greedyN, 3)))\n",
    "results_list = results.collect()\n",
    "fd = open(\"data/greedy-\" + str(noRuns) + \"x-N=\" + str(greedyN) + \".json\",\"w\")\n",
    "json.dump(results_list, fd)\n",
    "fd.close()\n",
    "del results"
   ]
  },
  {
   "cell_type": "code",
   "execution_count": 6,
   "metadata": {
    "collapsed": false
   },
   "outputs": [],
   "source": [
    "# N = 1000\n",
    "\n",
    "start = 1\n",
    "noRuns = 30\n",
    "greedyN = 1000\n",
    "runs = sc.parallelize(range(start, start + noRuns))\n",
    "results = runs.map(lambda x: (x, activateNodesLoopGreedy(greedyN, 3)))\n",
    "results_list = results.collect()\n",
    "fd = open(\"data/greedy-\" + str(noRuns) + \"x-N=\" + str(greedyN) + \".json\",\"w\")\n",
    "json.dump(results_list, fd)\n",
    "fd.close()\n",
    "del results"
   ]
  },
  {
   "cell_type": "markdown",
   "metadata": {},
   "source": [
    "Reload data from JSON files and plot:"
   ]
  },
  {
   "cell_type": "code",
   "execution_count": 7,
   "metadata": {
    "collapsed": false
   },
   "outputs": [],
   "source": [
    "noRuns = 30\n",
    "\n",
    "graph_axis = []\n",
    "graph_data = []\n",
    "\n",
    "for greedyN in [100, 250, 500, 750, 1000]:\n",
    "    \n",
    "    with open(\"data/greedy-\" + str(noRuns) + \"x-N=\" + str(greedyN) + \".json\", \"r\") as fd:\n",
    "        results = json.load(fd)\n",
    "        \n",
    "    actNodes = [r[1][1] for r in results]\n",
    "    graph_axis.append(greedyN)\n",
    "    graph_data.append(min(actNodes)/max(actNodes))"
   ]
  },
  {
   "cell_type": "code",
   "execution_count": 8,
   "metadata": {
    "collapsed": false
   },
   "outputs": [
    {
     "data": {
      "image/png": "[encoded data removed]",
      "text/plain": [
       "<matplotlib.figure.Figure at 0x109632e10>"
      ]
     },
     "metadata": {},
     "output_type": "display_data"
    }
   ],
   "source": [
    "plt.scatter(graph_axis, graph_data)\n",
    "plt.xlim(0, 1000)\n",
    "plt.ylim(0.8, 1)\n",
    "plt.xlabel('N')\n",
    "plt.ylabel('delta')\n",
    "plt.title('Delta = f-min/f-max')\n",
    "plt.show()"
   ]
  }
 ],
 "metadata": {
  "kernelspec": {
   "display_name": "Python 2",
   "language": "python",
   "name": "python2"
  },
  "language_info": {
   "codemirror_mode": {
    "name": "ipython",
    "version": 2
   },
   "file_extension": ".py",
   "mimetype": "text/x-python",
   "name": "python",
   "nbconvert_exporter": "python",
   "pygments_lexer": "ipython2",
   "version": "2.7.10"
  }
 },
 "nbformat": 4,
 "nbformat_minor": 0
}
