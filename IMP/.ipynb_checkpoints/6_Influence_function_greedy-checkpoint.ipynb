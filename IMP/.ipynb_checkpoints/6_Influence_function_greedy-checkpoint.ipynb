{
 "cells": [
  {
   "cell_type": "markdown",
   "metadata": {},
   "source": [
    "# Greedy algorithm"
   ]
  },
  {
   "cell_type": "code",
   "execution_count": 1,
   "metadata": {
    "collapsed": true
   },
   "outputs": [],
   "source": [
    "# Import libraries\n",
    "%matplotlib inline\n",
    "import matplotlib.pyplot as plt\n",
    "import time\n",
    "import numpy as np\n",
    "from numpy import random\n",
    "import math\n",
    "import scipy\n",
    "from scipy import stats\n",
    "from random import choice\n",
    "import networkx as nx\n",
    "import json\n",
    "from networkx.readwrite import json_graph\n",
    "import line_profiler\n",
    "import IPython\n",
    "ip = IPython.get_ipython()\n",
    "ip.define_magic('lprun', line_profiler.magic_lprun)"
   ]
  },
  {
   "cell_type": "code",
   "execution_count": 2,
   "metadata": {
    "collapsed": true
   },
   "outputs": [],
   "source": [
    "# Load network graph\n",
    "with open(\"graph/nc_mini.json\", \"r\") as graph_data:\n",
    "    graph_data = json.load(graph_data)\n",
    "    NC_digraph = json_graph.node_link_graph(graph_data)"
   ]
  },
  {
   "cell_type": "markdown",
   "metadata": {},
   "source": [
    "Run Greedy Algorithm to solve |S|=3 Influence Maximization Problem for nc_mini.json graph. Use N=1,000 for the influence function."
   ]
  },
  {
   "cell_type": "code",
   "execution_count": 3,
   "metadata": {
    "collapsed": true
   },
   "outputs": [],
   "source": [
    "def activateNodesOptGreedy(detStartNodes):\n",
    "\n",
    "    nx.set_node_attributes(NC_digraph, 'activated', False)\n",
    "    nx.set_node_attributes(NC_digraph, 'explored', False)\n",
    "    \n",
    "    activated = 0\n",
    "    nodes = []\n",
    "    \n",
    "    for n in detStartNodes:\n",
    "        nodes.append(n)\n",
    "        NC_digraph.node[n]['activated'] = True\n",
    "        activated = activated + 1\n",
    "    \n",
    "    start = nodes[0]\n",
    "\n",
    "    while len(nodes)>0:\n",
    "\n",
    "        startNode = nodes[0]\n",
    "\n",
    "        if NC_digraph.node[startNode]['explored']==False:\n",
    "\n",
    "            NC_digraph.node[startNode]['explored'] = True\n",
    "\n",
    "            successors = []\n",
    "\n",
    "            for succNode in NC_digraph.succ[startNode]:\n",
    "\n",
    "                if NC_digraph.node[succNode]['activated']==False:\n",
    "\n",
    "                    alpha = NC_digraph[startNode][succNode]['weight']\n",
    "                    beta = NC_digraph.node[succNode]['review_count']\n",
    "\n",
    "                    randUnif = random.uniform(0,1)\n",
    "                    randBeta = np.sqrt(random.beta(alpha, beta))\n",
    "\n",
    "                    if randUnif < randBeta:\n",
    "                        NC_digraph.node[succNode]['activated'] = True\n",
    "                        successors.append(succNode)\n",
    "                        activated = activated + 1\n",
    "\n",
    "        nodes = nodes[1:]\n",
    "        nodes = nodes + successors\n",
    "\n",
    "    return activated\n",
    "\n",
    "def activateNodesLoopGreedy(N, startNodes):\n",
    "    \n",
    "    random.seed()\n",
    "    searchNodes = NC_digraph.nodes()\n",
    "    actNodeOpt = []\n",
    "    \n",
    "    for s in range(startNodes):\n",
    "        maxActNode = 0\n",
    "        maxActNodeStart = []\n",
    "\n",
    "        for n in searchNodes:\n",
    "            detStartNodes = actNodeOpt + [n]\n",
    "            result = []\n",
    "            for r in xrange(N):\n",
    "                result.append(float(activateNodesOptGreedy(detStartNodes)))\n",
    "            act = np.mean(result)\n",
    "            if act>maxActNode:\n",
    "                maxActNode = act\n",
    "                maxActNodeStart = n\n",
    "            \n",
    "        searchNodes.remove(maxActNodeStart)\n",
    "        actNodeOpt.append(maxActNodeStart)\n",
    "    \n",
    "    return actNodeOpt, maxActNode\n",
    "            "
   ]
  },
  {
   "cell_type": "markdown",
   "metadata": {},
   "source": [
    "Try running the greedy algorithm a few times..."
   ]
  },
  {
   "cell_type": "code",
   "execution_count": 4,
   "metadata": {
    "collapsed": false
   },
   "outputs": [
    {
     "name": "stdout",
     "output_type": "stream",
     "text": [
      "CPU times: user 7min 56s, sys: 2.34 s, total: 7min 58s\n",
      "Wall time: 8min 3s\n"
     ]
    }
   ],
   "source": [
    "%time solNodes, solActivated = activateNodesLoopGreedy(1000, 3)"
   ]
  },
  {
   "cell_type": "code",
   "execution_count": 5,
   "metadata": {
    "collapsed": false
   },
   "outputs": [
    {
     "name": "stdout",
     "output_type": "stream",
     "text": [
      "Optimal nodes: [u'NzWLMPvbEval0OVg_YDn4g', u'VhI6xyylcAxi0wOy2HOX3w', u'ts7EG6Zv2zdMDg29nyqGfA']\n",
      "Average of 46 nodes activated\n"
     ]
    }
   ],
   "source": [
    "solNodes, solActivated = activateNodesLoopGreedy(1000, 3)\n",
    "print 'Optimal nodes: %s\\nAverage of %d nodes activated' % (solNodes, solActivated)"
   ]
  }
 ],
 "metadata": {
  "kernelspec": {
   "display_name": "Python 2",
   "language": "python",
   "name": "python2"
  },
  "language_info": {
   "codemirror_mode": {
    "name": "ipython",
    "version": 2
   },
   "file_extension": ".py",
   "mimetype": "text/x-python",
   "name": "python",
   "nbconvert_exporter": "python",
   "pygments_lexer": "ipython2",
   "version": "2.7.10"
  }
 },
 "nbformat": 4,
 "nbformat_minor": 0
}
